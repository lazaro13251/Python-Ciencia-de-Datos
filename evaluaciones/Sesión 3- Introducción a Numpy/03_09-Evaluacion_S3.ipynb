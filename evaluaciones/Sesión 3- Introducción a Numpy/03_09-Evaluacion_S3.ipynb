{
 "cells": [
  {
   "cell_type": "markdown",
   "metadata": {},
   "source": [
    "# Evaluación sesión 3."
   ]
  },
  {
   "cell_type": "markdown",
   "metadata": {},
   "source": [
    "1. Describe qué comandos tendrías que ejecutar para llevar tu versión de numpy a la versión 1.0.0\n",
    "2. Inicializa un venv para correr la siguiente parte de la evaluación\n",
    "3. Genera datos de ventas diarias en una sucursal durante una semana en un arreglo de numpy con 10 semanas. Responde como obtendrías la siguiente información:\n",
    "    - Calcular el total de ventas.\n",
    "    - Calcular la media de ventas diarias.\n",
    "    - Encontrar el día con las ventas más alta.\n",
    "    - Encontrar el día con las ventas más baja."
   ]
  }
 ],
 "metadata": {
  "kernelspec": {
   "display_name": "Python 3",
   "language": "python",
   "name": "python3"
  },
  "language_info": {
   "codemirror_mode": {
    "name": "ipython",
    "version": 3
   },
   "file_extension": ".py",
   "mimetype": "text/x-python",
   "name": "python",
   "nbconvert_exporter": "python",
   "pygments_lexer": "ipython3",
   "version": "3.12.1"
  }
 },
 "nbformat": 4,
 "nbformat_minor": 2
}
