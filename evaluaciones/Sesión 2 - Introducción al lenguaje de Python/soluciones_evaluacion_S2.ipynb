{
 "cells": [
  {
   "cell_type": "markdown",
   "metadata": {},
   "source": [
    "# Solución ejercicios Sesión 2"
   ]
  },
  {
   "cell_type": "markdown",
   "metadata": {},
   "source": [
    "1. **Condicionales**: Dado un número, determina si es positivo, negativo o cero.\n"
   ]
  },
  {
   "cell_type": "code",
   "execution_count": null,
   "metadata": {},
   "outputs": [
    {
     "name": "stdout",
     "output_type": "stream",
     "text": [
      "Positivo\n"
     ]
    }
   ],
   "source": [
    "numero = 3  # Cambiar por otros valores para probar\n",
    "if numero > 0:\n",
    "    print(\"Positivo\")\n",
    "elif numero < 0:\n",
    "    print(\"Negativo\")\n",
    "else:\n",
    "    print(\"Cero\")"
   ]
  },
  {
   "cell_type": "markdown",
   "metadata": {},
   "source": [
    "2. **Bucles**: Escribe un programa que imprima los primeros 10 números pares."
   ]
  },
  {
   "cell_type": "code",
   "execution_count": null,
   "metadata": {},
   "outputs": [
    {
     "name": "stdout",
     "output_type": "stream",
     "text": [
      "2\n",
      "4\n",
      "6\n",
      "8\n",
      "10\n",
      "12\n",
      "14\n",
      "16\n",
      "18\n",
      "20\n"
     ]
    }
   ],
   "source": [
    "for i in range(1, 21):\n",
    "    if i % 2 == 0:\n",
    "        print(i)"
   ]
  },
  {
   "cell_type": "code",
   "execution_count": null,
   "metadata": {},
   "outputs": [
    {
     "name": "stdout",
     "output_type": "stream",
     "text": [
      "2\n",
      "4\n",
      "6\n",
      "8\n",
      "10\n",
      "12\n",
      "14\n",
      "16\n",
      "18\n",
      "20\n"
     ]
    }
   ],
   "source": [
    "# Otra solución con while\n",
    "lista_pares = []\n",
    "\n",
    "numero=0\n",
    "while len(lista_pares) < 10:\n",
    "    numero+=1\n",
    "    if numero % 2 == 0:\n",
    "        print(numero)\n",
    "        lista_pares.append(numero)\n"
   ]
  },
  {
   "cell_type": "markdown",
   "metadata": {},
   "source": [
    "3. **Funciones**: Crea una función que reciba dos números y devuelva su suma."
   ]
  },
  {
   "cell_type": "code",
   "execution_count": null,
   "metadata": {},
   "outputs": [
    {
     "name": "stdout",
     "output_type": "stream",
     "text": [
      "8\n"
     ]
    }
   ],
   "source": [
    "def sumar(a, b):\n",
    "    return a + b\n",
    "\n",
    "print(sumar(5, 3))"
   ]
  },
  {
   "cell_type": "markdown",
   "metadata": {},
   "source": [
    "4. **Control de errores**: Escribe una función que intente convertir un string a número y maneje la excepción si el string no es convertible."
   ]
  },
  {
   "cell_type": "code",
   "execution_count": null,
   "metadata": {},
   "outputs": [
    {
     "name": "stdout",
     "output_type": "stream",
     "text": [
      "Error: No es un número.\n"
     ]
    }
   ],
   "source": [
    "def convertir_a_numero(valor):\n",
    "    try:\n",
    "        return int(valor)\n",
    "    except ValueError:\n",
    "        return \"Error: No es un número.\"\n",
    "print(convertir_a_numero(\"5a\"))\n",
    "   "
   ]
  },
  {
   "cell_type": "markdown",
   "metadata": {},
   "source": [
    "5. **Comandos mágicos**: Uso de %timeit para medir el tiempo de ejecución de una simple suma."
   ]
  },
  {
   "cell_type": "code",
   "execution_count": null,
   "metadata": {},
   "outputs": [
    {
     "name": "stdout",
     "output_type": "stream",
     "text": [
      "57 ns ± 3.96 ns per loop (mean ± std. dev. of 7 runs, 10,000,000 loops each)\n"
     ]
    }
   ],
   "source": [
    "%timeit sumar(5, 3)   "
   ]
  },
  {
   "cell_type": "markdown",
   "metadata": {},
   "source": [
    "6. **Manipulación del sistema de archivos**: Escribe un script que cree un archivo, escriba contenido en él, y luego lo lea."
   ]
  },
  {
   "cell_type": "code",
   "execution_count": null,
   "metadata": {},
   "outputs": [
    {
     "name": "stdout",
     "output_type": "stream",
     "text": [
      "Este es un ejemplo.\n",
      "Este es un ejemplo\n",
      "Otra oración\n",
      "Este es un ejemplo\n"
     ]
    }
   ],
   "source": [
    "# 6 \n",
    "\n",
    "nombre_archivo = \"ejemplo.txt\"\n",
    "with open(nombre_archivo, \"w\") as archivo:\n",
    "    archivo.write(\"Este es un ejemplo.\\nEste es un ejemplo\\nOtra oración\\nEste es un ejemplo\")\n",
    "with open(nombre_archivo, \"r\") as archivo:\n",
    "    print(archivo.read())\n",
    "   "
   ]
  },
  {
   "cell_type": "markdown",
   "metadata": {},
   "source": [
    "7. **Programación orientada a objetos**: Define una clase Coche que tenga un método para iniciar y otro para mostrar su estado (encendido/apagado)."
   ]
  },
  {
   "cell_type": "code",
   "execution_count": null,
   "metadata": {},
   "outputs": [
    {
     "name": "stdout",
     "output_type": "stream",
     "text": [
      "Encendido\n"
     ]
    }
   ],
   "source": [
    "class Coche:\n",
    "    def __init__(self):\n",
    "        self.encendido = False\n",
    "    def encender(self):\n",
    "        self.encendido = True\n",
    "    def estado(self):\n",
    "        return \"Encendido\" if self.encendido else \"Apagado\"\n",
    "mi_coche = Coche()\n",
    "mi_coche.encender()\n",
    "print(mi_coche.estado())\n",
    "   "
   ]
  },
  {
   "cell_type": "markdown",
   "metadata": {},
   "source": [
    "8. **Funciones y Bucles**: Crea una función que reciba una lista de números y devuelva solo aquellos que sean primos."
   ]
  },
  {
   "cell_type": "code",
   "execution_count": null,
   "metadata": {},
   "outputs": [
    {
     "name": "stdout",
     "output_type": "stream",
     "text": [
      "[1, 2, 3, 5, 7, 11, 13, 17, 19, 23, 29, 31, 37, 41, 43, 47, 53, 59, 61, 67, 71, 73, 79, 83, 89, 97]\n"
     ]
    }
   ],
   "source": [
    "def filtrar_primos(numeros):\n",
    "    lista_primos = [ ]\n",
    "\n",
    "    for i in numeros:\n",
    "        if es_primo(i):\n",
    "            lista_primos.append(i)\n",
    "\n",
    "    return lista_primos\n",
    "\n",
    "def es_primo(n):\n",
    "    if n < 2:\n",
    "        return True\n",
    "    # Aquí se puede revisar hasta la mitad del número para verificar si es primo ya que no habrá números mayor a la mitad que dividan al número (se tienen que multiplicar por menos de dos para alcanzar al número original)\n",
    "    for i in range(2, n//2+1):\n",
    "        if n % i == 0:\n",
    "            return False\n",
    "    return True\n",
    "\n",
    "print(filtrar_primos(range(1, 100)))\n"
   ]
  },
  {
   "cell_type": "markdown",
   "metadata": {},
   "source": [
    "9. **Manipulación del sistema de archivos y Funciones**: Escribe una función que reciba el nombre de un archivo y una cadena de texto. La función debe buscar la cadena dentro del archivo y devolver cuántas veces aparece."
   ]
  },
  {
   "cell_type": "code",
   "execution_count": null,
   "metadata": {},
   "outputs": [
    {
     "name": "stdout",
     "output_type": "stream",
     "text": [
      "3\n"
     ]
    }
   ],
   "source": [
    "def contar_ocurrencias(nombre_archivo, cadena):\n",
    "    with open(nombre_archivo, 'r') as archivo:\n",
    "        contenido = archivo.read()\n",
    "    return contenido.count(cadena)\n",
    "\n",
    "print(contar_ocurrencias(\"ejemplo.txt\", \"ejemplo\"))"
   ]
  }
 ],
 "metadata": {
  "kernelspec": {
   "display_name": "Python 3",
   "language": "python",
   "name": "python3"
  },
  "language_info": {
   "codemirror_mode": {
    "name": "ipython",
    "version": 3
   },
   "file_extension": ".py",
   "mimetype": "text/x-python",
   "name": "python",
   "nbconvert_exporter": "python",
   "pygments_lexer": "ipython3",
   "version": "3.11.5"
  }
 },
 "nbformat": 4,
 "nbformat_minor": 2
}
