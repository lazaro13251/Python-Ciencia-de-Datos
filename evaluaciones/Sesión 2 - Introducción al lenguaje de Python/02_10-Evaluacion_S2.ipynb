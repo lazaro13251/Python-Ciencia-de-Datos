{
 "cells": [
  {
   "cell_type": "markdown",
   "metadata": {},
   "source": [
    "# Evaluación sesión 2."
   ]
  },
  {
   "cell_type": "markdown",
   "metadata": {},
   "source": [
    "## Enunciados evaluación"
   ]
  },
  {
   "cell_type": "markdown",
   "metadata": {},
   "source": [
    "1. Condicionales: Dado un número, determina si es positivo, negativo o cero.\n",
    "2. Bucles: Escribe un programa que imprima los primeros 10 números pares.\n",
    "3. Funciones: Crea una función que reciba dos números y devuelva su suma.\n",
    "4. Control de errores: Escribe una función que intente convertir un string a número y maneje la excepción si el string no es convertible.\n",
    "5. Comandos mágicos: Uso de %timeit para medir el tiempo de ejecución de una simple suma.\n",
    "6. Manipulación del sistema de archivos: Escribe un script que cree un archivo, escriba contenido en él, y luego lo lea.\n",
    "7. Programación orientada a objetos: Define una clase llamada `Coche` que contenga atributo privado (encapsulado) `estado` que puede tomar los valores: encendido, apagado. Un método llamado `iniciar` que cambia el estado de apagado a encendido y otro llamado `mostrar_estado` que imprima el atributo `estado` de la instancia (encendido/apagado).\n",
    "8. Funciones y Bucles: Crea una función que reciba una lista de números y devuelva solo aquellos que sean primos.\n",
    "9. Manipulación del sistema de archivos y Funciones: Escribe una función que reciba el nombre de un archivo y una cadena de texto. La función debe buscar la cadena dentro del archivo y devolver cuántas veces aparece."
   ]
  }
 ],
 "metadata": {
  "kernelspec": {
   "display_name": "Python 3",
   "language": "python",
   "name": "python3"
  },
  "language_info": {
   "codemirror_mode": {
    "name": "ipython",
    "version": 3
   },
   "file_extension": ".py",
   "mimetype": "text/x-python",
   "name": "python",
   "nbconvert_exporter": "python",
   "pygments_lexer": "ipython3",
   "version": "3.12.1"
  }
 },
 "nbformat": 4,
 "nbformat_minor": 2
}
