{
 "cells": [
  {
   "cell_type": "markdown",
   "metadata": {},
   "source": [
    "# Evaluación sesión 2."
   ]
  },
  {
   "cell_type": "markdown",
   "metadata": {},
   "source": [
    "## Enunciados evaluación"
   ]
  },
  {
   "cell_type": "markdown",
   "metadata": {},
   "source": [
    "1. Condicionales: Dado un número, determina si es positivo, negativo o cero."
   ]
  },
  {
   "cell_type": "code",
   "execution_count": 1,
   "metadata": {},
   "outputs": [
    {
     "name": "stdout",
     "output_type": "stream",
     "text": [
      "Su número capturado es:  12.0\n",
      "El número es positivo.\n"
     ]
    }
   ],
   "source": [
    "numero = float(input(\"Ingresa un número: \"))\n",
    "\n",
    "print('Su número capturado es: ', numero)\n",
    "\n",
    "if numero > 0:\n",
    "    print(\"El número es positivo.\")\n",
    "elif numero < 0:\n",
    "    print(\"El número es negativo.\")\n",
    "else:\n",
    "    print(\"El número es cero.\")"
   ]
  },
  {
   "cell_type": "markdown",
   "metadata": {},
   "source": [
    "2. Bucles: Escribe un programa que imprima los primeros 10 números pares."
   ]
  },
  {
   "cell_type": "code",
   "execution_count": 4,
   "metadata": {},
   "outputs": [
    {
     "name": "stdout",
     "output_type": "stream",
     "text": [
      "2\n",
      "4\n",
      "6\n",
      "8\n",
      "10\n",
      "12\n",
      "14\n",
      "16\n",
      "18\n",
      "20\n"
     ]
    }
   ],
   "source": [
    "for i in range(1, 11):\n",
    "    print(i * 2)"
   ]
  },
  {
   "cell_type": "markdown",
   "metadata": {},
   "source": [
    "3. Funciones: Crea una función que reciba dos números y devuelva su suma."
   ]
  },
  {
   "cell_type": "code",
   "execution_count": 5,
   "metadata": {},
   "outputs": [
    {
     "name": "stdout",
     "output_type": "stream",
     "text": [
      "La suma de 15.0 y 12.0 es 27.0.\n"
     ]
    }
   ],
   "source": [
    "def suma(a, b):\n",
    "    return a + b\n",
    "\n",
    "numero1 = float(input(\"Ingresa el primer número: \"))\n",
    "numero2 = float(input(\"Ingresa el segundo número: \"))\n",
    "\n",
    "resultado = suma(numero1, numero2)\n",
    "print(f\"La suma de {numero1} y {numero2} es {resultado}.\")"
   ]
  },
  {
   "cell_type": "markdown",
   "metadata": {},
   "source": [
    "4. Control de errores: Escribe una función que intente convertir un string a número y maneje la excepción si el string no es convertible."
   ]
  },
  {
   "cell_type": "code",
   "execution_count": 8,
   "metadata": {},
   "outputs": [
    {
     "name": "stdout",
     "output_type": "stream",
     "text": [
      "12.0\n"
     ]
    }
   ],
   "source": [
    "def convertir_a_numero(cadena):\n",
    "    try:\n",
    "        numero = float(cadena)\n",
    "        return numero\n",
    "    except ValueError:\n",
    "        return \"Error al convertir el numero a cadena\"\n",
    "\n",
    "cadena = input(\"Ingresa una cadena para convertir a número: \")\n",
    "\n",
    "resultado = convertir_a_numero(cadena)\n",
    "print(resultado)\n",
    "\n"
   ]
  },
  {
   "cell_type": "markdown",
   "metadata": {},
   "source": [
    "5. Comandos mágicos: Uso de %timeit para medir el tiempo de ejecución de una simple suma."
   ]
  },
  {
   "cell_type": "code",
   "execution_count": 14,
   "metadata": {},
   "outputs": [
    {
     "name": "stdout",
     "output_type": "stream",
     "text": [
      "107 ns ± 2.26 ns per loop (mean ± std. dev. of 7 runs, 10,000,000 loops each)\n"
     ]
    }
   ],
   "source": [
    "%timeit suma(3, 4)\n"
   ]
  },
  {
   "cell_type": "markdown",
   "metadata": {},
   "source": [
    "7. Programación orientada a objetos: Define una clase llamada `Coche` que contenga atributo privado (encapsulado) `estado` que puede tomar los valores: encendido, apagado. Un método llamado `iniciar` que cambia el estado de apagado a encendido y otro llamado `mostrar_estado` que imprima el atributo `estado` de la instancia (encendido/apagado)."
   ]
  },
  {
   "cell_type": "code",
   "execution_count": 15,
   "metadata": {},
   "outputs": [
    {
     "name": "stdout",
     "output_type": "stream",
     "text": [
      "El coche está apagado\n",
      "El coche está encendido\n",
      "El coche ya está encendido.\n"
     ]
    }
   ],
   "source": [
    "class Coche:\n",
    "    def __init__(self):\n",
    "        self.__estado = 'apagado'\n",
    "\n",
    "    def iniciar(self):\n",
    "        if self.__estado == 'apagado':\n",
    "            self.__estado = 'encendido'\n",
    "        else:\n",
    "            print(\"El coche ya está encendido.\")\n",
    "\n",
    "    def mostrar_estado(self):\n",
    "        print(f\"El coche está {self.__estado}\")\n",
    "\n",
    "mi_coche = Coche()\n",
    "mi_coche.mostrar_estado()\n",
    "mi_coche.iniciar()\n",
    "mi_coche.mostrar_estado()\n",
    "mi_coche.iniciar()\n"
   ]
  },
  {
   "cell_type": "markdown",
   "metadata": {},
   "source": [
    "8. Funciones y Bucles: Crea una función que reciba una lista de números y devuelva solo aquellos que sean primos."
   ]
  },
  {
   "cell_type": "code",
   "execution_count": 16,
   "metadata": {},
   "outputs": [
    {
     "name": "stdout",
     "output_type": "stream",
     "text": [
      "Los números primos en la lista son: [2, 3, 5, 7, 11, 13]\n"
     ]
    }
   ],
   "source": [
    "def es_primo(numero):\n",
    "    if numero <= 1:\n",
    "        return False\n",
    "    for i in range(2, int(numero ** 0.5) + 1):\n",
    "        if numero % i == 0:\n",
    "            return False\n",
    "    return True\n",
    "\n",
    "def filtrar_primos(lista_numeros):\n",
    "    primos = []\n",
    "    for numero in lista_numeros:\n",
    "        if es_primo(numero):\n",
    "            primos.append(numero)\n",
    "    return primos\n",
    "\n",
    "numeros = [2, 3, 4, 5, 6, 7, 8, 9, 10, 11, 12, 13]\n",
    "primos = filtrar_primos(numeros)\n",
    "print(f\"Los números primos en la lista son: {primos}\")\n"
   ]
  },
  {
   "cell_type": "markdown",
   "metadata": {},
   "source": [
    "9. Manipulación del sistema de archivos y Funciones: Escribe una función que reciba el nombre de un archivo y una cadena de texto. La función debe buscar la cadena dentro del archivo y devolver cuántas veces aparece."
   ]
  },
  {
   "cell_type": "code",
   "execution_count": 20,
   "metadata": {},
   "outputs": [
    {
     "name": "stdout",
     "output_type": "stream",
     "text": [
      "La cadena 'ipsum' aparece 2 veces en el archivo 'ejemplo.txt'.\n"
     ]
    }
   ],
   "source": [
    "def contar_ocurrencias(nombre_archivo, cadena_buscar):\n",
    "    try:\n",
    "        with open(nombre_archivo, 'r', encoding='utf-8') as archivo:\n",
    "            contenido = archivo.read()\n",
    "            ocurrencias = contenido.count(cadena_buscar)\n",
    "            return ocurrencias\n",
    "    except FileNotFoundError:\n",
    "        print(f\"Error: El archivo {nombre_archivo} no se encontró.\")\n",
    "        return 0\n",
    "    except Exception as e:\n",
    "        print(f\"Error: Ocurrió un problema al leer el archivo: {e}\")\n",
    "        return 0\n",
    "\n",
    "nombre_archivo = 'ejemplo.txt'\n",
    "cadena_buscar = 'ipsum'\n",
    "\n",
    "resultado = contar_ocurrencias(nombre_archivo, cadena_buscar)\n",
    "print(f\"La cadena '{cadena_buscar}' aparece {resultado} veces en el archivo '{nombre_archivo}'.\")\n"
   ]
  }
 ],
 "metadata": {
  "language_info": {
   "name": "python"
  }
 },
 "nbformat": 4,
 "nbformat_minor": 2
}
