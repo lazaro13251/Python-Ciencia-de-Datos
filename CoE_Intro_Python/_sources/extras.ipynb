{
 "cells": [
  {
   "cell_type": "markdown",
   "metadata": {},
   "source": [
    "## Debugging en Python"
   ]
  },
  {
   "cell_type": "markdown",
   "metadata": {},
   "source": [
    "***Debuggear***, en el contexto del desarrollo de software, es el proceso meticuloso de identificar, aislar y corregir errores o \"bugs\" en el código de un programa. \n",
    "\n",
    "Para aprender a debuggear en notebooks, en lugar de en un entorno de programación tradicional, este proceso adquiere una dimensión adicional. \n",
    "- Los notebooks, como Jupyter, ofrecen un entorno interactivo que combina código, salida y documentación en un solo lugar, lo que facilita la experimentación y la exploración de datos de manera eficiente. \n",
    "- Sin embargo, también presentan desafíos únicos para el debugging, dado que el código se ejecuta en celdas independientes que pueden afectarse entre sí de maneras no lineales.\n",
    "- Aprender a debuggear en este contexto implica no solo identificar y corregir errores sintácticos o lógicos en el código, sino también entender cómo el estado del kernel y el orden de ejecución de las celdas influyen en el comportamiento del programa.\n",
    "- Este conocimiento es esencial para **desarrollar notebooks robustos y confiables** que sirvan como herramientas efectivas para el análisis de datos.\n",
    "\n",
    "\n",
    "Para ejemplificar el proceso de debugging tomaremos la función definida en el [notebook de control de flujo](./02_01-Control_Flujo_Funciones.ipynb).\n"
   ]
  },
  {
   "cell_type": "code",
   "execution_count": null,
   "metadata": {},
   "outputs": [
    {
     "name": "stdout",
     "output_type": "stream",
     "text": [
      "La variable tricotomia almacena el valor <function tricotomia at 0x0000000000AEA2A0> y pertenece a la clase <class 'function'>\n",
      "mayor\n",
      "El resultado de llamar la función es 1\n",
      "menor\n",
      "El resultado de llamar la función con valor por defecto es -1\n"
     ]
    }
   ],
   "source": [
    "def tricotomia(int_1, int_2=0):\n",
    "    '''\n",
    "    Esta función toma 2 argumentos y nos regresa si int_1 es igual, menor o mayor a int_2 \n",
    "    int_1: primer entero a ser comparado,\n",
    "    int_2: segundo entero a ser comparado,\n",
    "    Regresa: 0,-1,1\n",
    "    '''\n",
    "    if int_2 == int_1:\n",
    "        print(\"igual\")\n",
    "        return 0\n",
    "    elif int_2 < int_1:\n",
    "        print(\"menor\")\n",
    "        return -1\n",
    "    else:\n",
    "        print(\"mayor\")\n",
    "        return 1\n",
    "\n",
    "print('La variable tricotomia almacena el valor', tricotomia, 'y pertenece a la clase', type(tricotomia))\n",
    "\n",
    "int_1 = 1\n",
    "int_2 = 6\n",
    "resultado_funcion = tricotomia(int_1, int_2)\n",
    "\n",
    "print(f\"El resultado de llamar a la función es {resultado_funcion}\")\n",
    "\n",
    "# Reasignamos la variable resultado_función a un nuevo valor\n",
    "resultado_funcion = tricotomia(int_1)\n",
    "print(f\"El resultado de llamar a la función con valor por defecto es {resultado_funcion}\")"
   ]
  },
  {
   "cell_type": "markdown",
   "metadata": {},
   "source": [
    "## Pasos para realizar el Debugging"
   ]
  },
  {
   "cell_type": "markdown",
   "metadata": {},
   "source": [
    "\n",
    "### Iniciar el Debugging\n",
    "\n",
    "Para iniciar el proceso de debugging en un notebook:\n",
    "\n",
    "1. Abre el notebook en VSCode.\n",
    "2. Encuentra la celda que deseas depurar.\n",
    "3. En la esquina superior derecha de la celda, verás un conjunto de iconos. Haz clic en el icono de \"Debug Cell\" (depurar celda), que parece un insecto con un triángulo de play.\n",
    "\n",
    "```{image} ./debug.png\n",
    ":alt: debug_btn\n",
    ":width: 60%\n",
    ":align: center\n",
    "```"
   ]
  },
  {
   "cell_type": "markdown",
   "metadata": {},
   "source": [
    "\n",
    "\n",
    "#### Puntos de interrupción (*Breakpoints*)\n",
    "\n",
    "Los puntos de interrupción son una herramienta esencial para el *debugging*. Te permiten pausar la ejecución del código en puntos específicos para examinar el estado de tu programa. Para añadir un punto de interrupción en tu código:\n",
    "\n",
    "1. Haz clic en el margen izquierdo de la línea de código donde desees añadir el punto de interrupción en la celda de tu notebook.\n",
    "2. Aparecerá un círculo rojo, indicando que el punto de interrupción ha sido establecido.\n",
    "\n",
    "```{image} ./breakpoint.png\n",
    ":alt: bpoint\n",
    ":width: 100%\n",
    ":align: center\n",
    "```"
   ]
  },
  {
   "cell_type": "markdown",
   "metadata": {},
   "source": [
    "### Utilizando el depurador\n",
    "\n",
    "Una vez que la ejecución se ha pausado en un punto de interrupción, puedes:\n",
    "\n",
    "Inspeccionar Variables: Mira el estado de las variables en el panel \"Variables\" para entender cómo cambian a lo largo de tu código.\n",
    "\n",
    "```{image} ./debug_menu.png\n",
    ":alt: fishy\n",
    ":width: 80%\n",
    ":align: center\n",
    "```\n",
    "\n",
    "Ejecutar Paso a Paso: Utiliza los botones de control para ejecutar tu código paso a paso. Estos incluyen \"Continuar\" (`F5`), \"Paso por encima\" (`F10`), \"Paso hacia adentro\" (`F11`), y \"Paso hacia afuera\" (`Shift+F11`).\n",
    "```{image} ./controls.png\n",
    ":alt: controles\n",
    ":width: 200px\n",
    ":align: center\n",
    "```\n",
    "La ejecución del programa se detendrá en el *breakpoint* marcado.\n",
    "\n",
    "```{image} ./breakpoint_2.png\n",
    ":alt: bp_2\n",
    ":width: 80%\n",
    ":align: center\n",
    "```\n",
    "\n",
    "\n",
    "Evaluar Expresiones: Puedes evaluar expresiones o modificar el valor de las variables en tiempo real utilizando la consola de depuración.\n",
    "\n",
    "```{image} ./debug_console.png\n",
    ":alt: db_console\n",
    ":width: 80%\n",
    ":align: center\n",
    "```\n"
   ]
  },
  {
   "cell_type": "markdown",
   "metadata": {},
   "source": [
    "\n",
    "\n",
    "### Consejos para un Debugging efectivo\n",
    "\n",
    "- Usa puntos de interrupción estratégicamente para detener tu código en lugares críticos donde sospeches que puedan estar ocurriendo los errores.\n",
    "- Inspecciona y modifica variables para experimentar con diferentes soluciones sin tener que reiniciar la sesión de debugging.\n",
    "- Aprovecha la consola de depuración para evaluar expresiones rápidamente y realizar comprobaciones adicionales sobre el estado de tu aplicación.\n"
   ]
  }
 ],
 "metadata": {
  "language_info": {
   "name": "python"
  }
 },
 "nbformat": 4,
 "nbformat_minor": 2
}
