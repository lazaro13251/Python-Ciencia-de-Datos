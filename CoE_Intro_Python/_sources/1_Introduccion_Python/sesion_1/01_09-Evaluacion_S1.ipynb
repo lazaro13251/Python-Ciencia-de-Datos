{
 "cells": [
  {
   "cell_type": "markdown",
   "metadata": {},
   "source": [
    "# Evaluación sesión 1."
   ]
  },
  {
   "cell_type": "markdown",
   "metadata": {},
   "source": [
    "Realiza cada uno de los siguientes problemas"
   ]
  },
  {
   "cell_type": "markdown",
   "metadata": {},
   "source": [
    "## Problema 1: Manipulación de listas\n",
    "- Ejercicio: Crea una lista llamada frutas que contenga \"manzana\", \"banana\", \"cereza\", \"kiwi\", \"mango\". Realiza las siguientes operaciones:\n",
    "  - Imprime el segundo elemento de la lista.\n",
    "  - Cambia el valor de \"banana\" por \"naranja\" e imprime la lista modificada.\n",
    "  - Añade \"uvas\" al final de la lista e imprime la lista resultante.\n",
    "  - Inserta \"limón\" como el segundo elemento de la lista e imprime la lista resultante.\n",
    "  - Elimina \"kiwi\" de la lista e imprime la lista resultante.\n",
    "\n",
    "## Problema 2: Trabajando con diccionarios\n",
    "- Ejercicio: Crea un diccionario llamado persona con las llaves \"nombre\", \"edad\", \"ciudad\" y asigna valores relevantes a cada una. Realiza las siguientes operaciones:\n",
    "  - Imprime el valor asociado con la llave \"nombre\".\n",
    "  - Añade una nueva pareja llave-valor: \"hobby\" con un valor de tu elección e imprime el diccionario actualizado.\n",
    "  - Cambia la \"edad\" de la persona a un nuevo valor e imprime el diccionario actualizado.\n",
    "  - Elimina la información de \"ciudad\" del diccionario e imprime el resultado.\n",
    "\n",
    "## Problema 3: Uso de conjuntos\n",
    "- Ejercicio: Crea un conjunto llamado colores que contenga \"rojo\", \"azul\", \"verde\". Luego, realiza las siguientes operaciones:\n",
    "  - Añade \"amarillo\" al conjunto y prueba si \"amarillo\" está en el conjunto.\n",
    "  - Intenta añadir de nuevo \"azul\" al conjunto e imprime el conjunto para verificar si se añadió o no.\n",
    "  - Calcula la longitud del conjunto e imprime el resultado.\n",
    "\n",
    "## Problema 4: Tipos de datos básicos\n",
    "- Ejercicio: Crea variables para almacenar un ejemplo de cada tipo de dato. Luego, realiza las siguientes operaciones:\n",
    "  - Imprime el tipo de dato de cada variable.\n",
    "  - Realiza una operación de suma entre un entero y un flotante. Imprime el resultado y su tipo.\n",
    "  - Concatena dos strings e imprime el resultado.\n",
    "  - Evalúa una expresión que use operadores lógicos (por ejemplo, mayor que, igual a) y almacena el resultado en una variable tipo booleano. Imprime el valor de esta variable.\n",
    "\n"
   ]
  }
 ],
 "metadata": {
  "language_info": {
   "name": "python"
  }
 },
 "nbformat": 4,
 "nbformat_minor": 2
}
