{
 "cells": [
  {
   "cell_type": "markdown",
   "metadata": {},
   "source": [
    "# Tipos de variables en Python.\n",
    "\n",
    "\n",
    "{download}`Puedes descargar el cuaderno que se usó para generar esta página dando clic aquí. <./01_03-Tipos_Datos_Python.ipynb>`.\n",
    "\n",
    "\n",
    "\n",
    "![py_gif](./python_animado.gif)\n",
    "\n",
    "En Python los siguientes tipos de variables son los más usados:\n",
    "\n",
    "\n",
    "- `int`: Los enteros usuales, en Python pueden ser tan grandes como se quiera a diferencia de otros lenguajes.\n",
    "- `float`: Números decimales (con punto flotante).\n",
    "- `string`: Secuencias de caracteres para guardar texto. Se pueden definir con:\n",
    "    - comillas sencillas `'hola'`.\n",
    "    - comillas dobles `\"hola\"`.\n",
    "    - triples comillas `'''hola'''` (esta forma permite tener saltos de línea).\n",
    "- `list`: Colección ordenada de elementos que es mutable (modificable) y heterogénea (puede tener diferentes tipos).\n",
    "- `tuple`: Colección ordenada de elementos que es inmutable.\n",
    "- `dict`: Colección no ordenada de pares llave valor. Eficiencia en la búsqueda de llaves.\n",
    "- `set`: Colección no ordenada de elementos únicos. \n",
    "- `bool`: Booleanos representan valores de verdad; es decir `True` o `False`. Son usados para controlar el flujo del programa.\n",
    "- `NoneType`: Para representar la ausencia de un valor o un valor nulo, se escribe como `None`. \n",
    "\n",
    "\n",
    "```{admonition} Recordatorio\n",
    "Para ejecutar una celda den click en el botón de \"play\" o tecleen `ctrl + enter` para permanecer en la celda o `shift + enter` para ir a la siguiente celda.\n",
    "```\n",
    "\n",
    "```{contents}\n",
    ":local:\n",
    "```"
   ]
  },
  {
   "cell_type": "markdown",
   "metadata": {},
   "source": [
    "## Comentarios\n",
    "Primero mostraremos como poner comentarios en el código."
   ]
  },
  {
   "cell_type": "code",
   "execution_count": 1,
   "metadata": {},
   "outputs": [
    {
     "data": {
      "text/plain": [
       "'\\nTodo lo que se ponga aquí\\nserá considerado como\\nun comentario dentro\\nde la celda\\n'"
      ]
     },
     "execution_count": 1,
     "metadata": {},
     "output_type": "execute_result"
    }
   ],
   "source": [
    "#Esto es un comentario\n",
    "'''\n",
    "Todo lo que se ponga aquí\n",
    "será considerado como\n",
    "un comentario dentro\n",
    "de la celda\n",
    "'''"
   ]
  },
  {
   "cell_type": "markdown",
   "metadata": {},
   "source": [
    "## Enteros"
   ]
  },
  {
   "cell_type": "code",
   "execution_count": 23,
   "metadata": {},
   "outputs": [
    {
     "name": "stdout",
     "output_type": "stream",
     "text": [
      "La variable int_ejemplo contiene al número 2  y es de tipo <class 'int'>\n",
      "1000000\n"
     ]
    }
   ],
   "source": [
    "# int: enteros\n",
    "int_ejemplo = 2\n",
    "print('La variable int_ejemplo contiene al número',int_ejemplo,' y es de tipo', type(int_ejemplo))\n",
    "\n",
    "# Se pueden separar por guión bajo para facilitar nuestra lectura sin cambiar su valor\n",
    "print(1_000_000) # es lo mismo que print(1000000)"
   ]
  },
  {
   "cell_type": "markdown",
   "metadata": {},
   "source": [
    "## Flotantes"
   ]
  },
  {
   "cell_type": "code",
   "execution_count": 17,
   "metadata": {},
   "outputs": [
    {
     "name": "stdout",
     "output_type": "stream",
     "text": [
      "La variable float_ej contiene al número 2.0  y es de tipo <class 'float'>\n",
      "4.0\n"
     ]
    }
   ],
   "source": [
    "# float: racionales\n",
    "float_ej = 2.0\n",
    "print('La variable float_ej contiene al número',float_ej,' y es de tipo', type(float_ej))\n",
    "\n",
    "# El resultado de multiplicar un entero por un float es un float aunque el float tenga el valor de un entero\n",
    "print(float_ej*int_ejemplo)"
   ]
  },
  {
   "cell_type": "markdown",
   "metadata": {},
   "source": [
    "## Listas"
   ]
  },
  {
   "cell_type": "code",
   "execution_count": 19,
   "metadata": {},
   "outputs": [
    {
     "name": "stdout",
     "output_type": "stream",
     "text": [
      "La variable lista_ej almacena el valor [1, 2, 3, 'a', 2.3] y pertenece a la clase <class 'list'>\n",
      "1 a\n",
      "[1, 2, 3]\n",
      "[1, 3, 2.3]\n",
      "[2.3, 'a', 3, 2, 1]\n",
      "[1, 2, 3]\n",
      "[1, 2, 3, 'a', 2.3, 0, 1, 1]\n",
      "5\n",
      "Agregamos el elemento 180  a la lista\n",
      "[1, 2, 3, 'a', 2.3, 180]\n",
      "Quitamos el último elemento 180  a la lista\n",
      "180\n",
      "[1, 2, 3, 'a', 2.3]\n",
      "1\n"
     ]
    }
   ],
   "source": [
    "# lists: listas; pueden tener más de un tipo, además son mutables\n",
    "lista_ej = [1, 2, 3, \"a\", 2.3]\n",
    "print('La variable lista_ej almacena el valor', lista_ej, 'y pertenece a la clase', type(lista_ej))\n",
    "\n",
    "# Para acceder a un elemento de la lista se le coloca en corchetes su posición o índice\n",
    "# Los índices en python comienzan en cero\n",
    "print(lista_ej[0],lista_ej[3])\n",
    "\n",
    "# Se pueden hacer rebanadas o slices de las listas\n",
    "print(lista_ej[:3]) # Devuelve del elemento con índice 0 hasta el de índice 2  \n",
    "print(lista_ej[:5:2]) # Devuelve del elemento 0 al 5, pero en saltos de 2 en 2\n",
    "print(lista_ej[::-1]) # Devuelve en un paso negativo (volteala)\n",
    "print(lista_ej[:-2]) # Devuelve todos menos dos elementos del final\n",
    "print(lista_ej+[0,1,1]) # Agrega las listas en una sola\n",
    "print(len(lista_ej)) # se puede obtener la longitud de la lista\n",
    "\n",
    "# Podemos agregar elementos al final de la lista con la función append\n",
    "print('Agregamos el elemento', 180, ' a la lista')\n",
    "lista_ej.append(180)\n",
    "print(lista_ej)\n",
    "\n",
    "# Podemos quitar elementos del final de la lista con la función pop\n",
    "print('Quitamos el último elemento', lista_ej[-1], ' a la lista')\n",
    "print(lista_ej.pop()) # Esta función devuelve el valor del último elemento\n",
    "print(lista_ej)\n",
    "\n",
    "# Se puede buscar un valor dentro de la lista\n",
    "print(lista_ej.index(2)) # Esto nos dice que el elemento 2 está en el índice 1\n",
    "# Si no lo encuentra entonces regresará un error"
   ]
  },
  {
   "cell_type": "markdown",
   "metadata": {},
   "source": [
    "## Tuplas"
   ]
  },
  {
   "cell_type": "code",
   "execution_count": 1,
   "metadata": {},
   "outputs": [
    {
     "name": "stdout",
     "output_type": "stream",
     "text": [
      "La variable tupla_ej almacena el valor (1, 2, 'a') y pertenece a la clase <class 'tuple'>\n",
      "No se puede modificar el valor de la tupla\n"
     ]
    }
   ],
   "source": [
    "# tuples: tuplas; pueden tener más de un tipo, pero son inmutables\n",
    "tupla_ej = (1, 2, \"a\")\n",
    "print('La variable tupla_ej almacena el valor', tupla_ej, 'y pertenece a la clase', type(tupla_ej))\n",
    "\n",
    "# Si intentamos modificar algún elemento, como es inmutable, regresará un error\n",
    "try:\n",
    "    tupla_ej[0]=2\n",
    "except:\n",
    "    print('No se puede modificar el valor de la tupla')"
   ]
  },
  {
   "cell_type": "markdown",
   "metadata": {},
   "source": [
    "## Cadena (string)"
   ]
  },
  {
   "cell_type": "code",
   "execution_count": 2,
   "metadata": {},
   "outputs": [
    {
     "name": "stdout",
     "output_type": "stream",
     "text": [
      "La variable string_ej contiene a la cadena Los strings almacenan lenguaje humano  y es de tipo <class 'str'>\n",
      "Los strings almacenan lenguaje humano or not\n",
      "Los str\n",
      "onamuh ejaugnel nanecamla sgnirts soL\n",
      "Los strings almacenan lenguaje h\n",
      "Los strings almacenan lenguaje humano\n",
      "LOS STRINGS ALMACENAN LENGUAJE HUMANO\n",
      "los strings almacenan lenguaje humano\n",
      "True\n",
      "False\n",
      "False\n",
      "True\n"
     ]
    }
   ],
   "source": [
    "# str: strings\n",
    "string_ej = \"Los strings almacenan lenguaje humano\"\n",
    "print('La variable string_ej contiene a la cadena',string_ej,' y es de tipo', type(string_ej))\n",
    "\n",
    "# La operación de + concatena dos cadenas, es decir las une\n",
    "print(string_ej + ' or not')\n",
    "\n",
    "\n",
    "# Se pueden hacer slices al igual que a las listas\n",
    "print(string_ej[:7]) # Se mira la cadena desde el índice 0 hasta el 6\n",
    "\n",
    "# Se pueden poner al revés\n",
    "print(string_ej[::-1])\n",
    "\n",
    "# Al especificar un número negativo hace que vaya hasta el elemento con posición 5ta del final\n",
    "print(string_ej[:-5])\n",
    "\n",
    "# Existen muchos métodos para la manipulación de cadenas, por ejemplo:\n",
    "print(string_ej.capitalize())\n",
    "print(string_ej.upper())\n",
    "print(string_ej.lower())\n",
    "print(string_ej.startswith('Lo'))\n",
    "print(string_ej.startswith('a'))\n",
    "print(string_ej.endswith('a'))\n",
    "print(string_ej.endswith('mano'))\n",
    "\n",
    "# Si quieren hacer una operación de búsqueda compleja en cadenas vean el tema de las expresiones regulares"
   ]
  },
  {
   "cell_type": "code",
   "execution_count": 2,
   "metadata": {},
   "outputs": [
    {
     "data": {
      "text/plain": [
       "['Los', 'strings', 'almacenan', 'lenguaje', 'humano']"
      ]
     },
     "execution_count": 2,
     "metadata": {},
     "output_type": "execute_result"
    }
   ],
   "source": [
    "# Para separar una cadena en una lista se usa el método split\n",
    "\n",
    "string_ej = \"Los strings almacenan lenguaje humano\"\n",
    "string_ej_split = string_ej.split(' ')\n",
    "string_ej_split"
   ]
  },
  {
   "cell_type": "markdown",
   "metadata": {},
   "source": [
    "Para hacer saltos de línea se puede usar un carácter o la notación de tres comillas."
   ]
  },
  {
   "cell_type": "code",
   "execution_count": 3,
   "metadata": {},
   "outputs": [
    {
     "name": "stdout",
     "output_type": "stream",
     "text": [
      "Salto\n",
      "de\n",
      "línea\n",
      "Los strings almacenan\n",
      "lenguaje humano\n",
      "Pertenecen a la misma clase:  <class 'str'>\n"
     ]
    }
   ],
   "source": [
    "# El carácter \\n representa un salto de línea\n",
    "print('Salto\\nde\\nlínea')\n",
    "\n",
    "# strings con salto de línea integrado\n",
    "string_ej_nl = '''Los strings almacenan\n",
    "lenguaje humano'''\n",
    "print(string_ej_nl)\n",
    "print('Pertenecen a la misma clase: ', type(string_ej_nl))"
   ]
  },
  {
   "cell_type": "code",
   "execution_count": 26,
   "metadata": {},
   "outputs": [
    {
     "name": "stdout",
     "output_type": "stream",
     "text": [
      "La lista [1, 2, 3, 'a', 2.3] tenía 5 de elementos\n"
     ]
    }
   ],
   "source": [
    "# Las fstrings (formatted string) nos permiten escribir variables adentro de una string sin estar concatenando\n",
    "\n",
    "fstr_ej=f'La lista {lista_ej} tenía {len(lista_ej)} de elementos'\n",
    "\n",
    "print(fstr_ej)"
   ]
  },
  {
   "cell_type": "markdown",
   "metadata": {},
   "source": [
    "## Conjuntos"
   ]
  },
  {
   "cell_type": "code",
   "execution_count": 27,
   "metadata": {},
   "outputs": [
    {
     "name": "stdout",
     "output_type": "stream",
     "text": [
      "La variable set_ej almacena el valor {1, 2, 3} y pertenece a la clase <class 'set'>\n",
      "{1, 2, 3}\n",
      "{1, 2}\n",
      "{1, 2, 3, 4, 5}\n",
      "{3}\n"
     ]
    }
   ],
   "source": [
    "# sets: conjuntos; se le tiene que pasar un iterable (lista)\n",
    "set_ej = set([1, 2, 3, 1])\n",
    "print('La variable set_ej almacena el valor', set_ej, 'y pertenece a la clase', type(set_ej))\n",
    "\n",
    "print(set_ej) # Vemos como el conjunto no tiene dos 1's como tenía la lista con la que se creó\n",
    "\n",
    "set_ej2=set([3,4,5])\n",
    "print(set_ej -set_ej2) # Se pueden hacer operaciones de conjuntos en este caso la diferencia\n",
    "print(set_ej.union(set_ej2)) #union\n",
    "print(set_ej.intersection(set_ej2)) #intersección"
   ]
  },
  {
   "cell_type": "markdown",
   "metadata": {},
   "source": [
    "## Diccionarios"
   ]
  },
  {
   "cell_type": "code",
   "execution_count": 28,
   "metadata": {},
   "outputs": [
    {
     "name": "stdout",
     "output_type": "stream",
     "text": [
      "La variable dict_ej almacena el valor {1: 'a', 'a': 0, 0: 'b'} y pertenece a la clase <class 'dict'>\n",
      "a\n",
      "{1: 3, 'a': 0, 0: 'b'}\n",
      "{1: 3, 'a': 0, 0: 'b', (1, 1): {'a': {8, 9}}}\n"
     ]
    }
   ],
   "source": [
    "# dict: diccionarios. También conocidos como hash maps, objetos\n",
    "dict_ej = {1: \"a\", \"a\": 0,0:'b'}\n",
    "print('La variable dict_ej almacena el valor', dict_ej, 'y pertenece a la clase', type(dict_ej))\n",
    "\n",
    "# Para encontrar el valor correspondiente a la llave se pone dicc[key]\n",
    "print(dict_ej[1])\n",
    "\n",
    "# Se puede reasignar una llave\n",
    "dict_ej[1]=3\n",
    "print(dict_ej)\n",
    "\n",
    "# Puede tener cualquier objeto inmutable como llave y cualquier objeto en general como valor, incluso otro diccionario\n",
    "# Para asignar un valor a una nueva llave sólo se escribe el nombre de la llave\n",
    "dict_ej[(1,1)]={'a':set([8,9])}\n",
    "print(dict_ej)"
   ]
  },
  {
   "cell_type": "markdown",
   "metadata": {},
   "source": [
    "## Booleanos"
   ]
  },
  {
   "cell_type": "code",
   "execution_count": 29,
   "metadata": {},
   "outputs": [
    {
     "name": "stdout",
     "output_type": "stream",
     "text": [
      "La variable bool_ej almacena el valor False y pertenece a la clase <class 'bool'>\n",
      "True\n",
      "False\n",
      "True\n",
      "False\n",
      "True\n",
      "Vemos problemas de asociatividad:\n",
      "False\n",
      "True\n"
     ]
    }
   ],
   "source": [
    "# Booleanos\n",
    "bool_ej = False\n",
    "print('La variable bool_ej almacena el valor', bool_ej, 'y pertenece a la clase', type(bool_ej))\n",
    "\n",
    "# Las expresiones de comparación devuelven booleanos\n",
    "print(1==1) # Son iguales\n",
    "print(1>1) # mayor\n",
    "print(1<=1) # menor o igual\n",
    "\n",
    "# Se pueden combinar para hacer proposiciones más complejas con or y and\n",
    "bool_ej2 = True\n",
    "\n",
    "print(bool_ej and bool_ej2)\n",
    "print(bool_ej or bool_ej2) \n",
    "\n",
    "# Es posible formular proposiciones aún más complicadas, esto da pie a ambigüedades en la priorización en las reglas de asociación \n",
    "#y caer en escenarios no contemplados, para solucionar esto se recomienda el uso de paréntesis para agrupar cada operación lógica\n",
    "\n",
    "print('Vemos problemas de asociatividad:')\n",
    "print( bool_ej or 1==2 and bool_ej2)\n",
    "print( bool_ej2 or (1==2 and bool_ej2))\n",
    "# La primera expresión dice False or True and True y es interpretada haciendo primero el or, mientras que la segunda lo agrupa distinto "
   ]
  },
  {
   "cell_type": "markdown",
   "metadata": {},
   "source": [
    "\n",
    "```{admonition} Buenas prácticas\n",
    "Nombrar a las variables de manera semántica para poder rastrear lo que hacen y poder seleccionar todas si es necesario.\n",
    "```\n"
   ]
  }
 ],
 "metadata": {
  "kernelspec": {
   "display_name": "Python 3",
   "language": "python",
   "name": "python3"
  },
  "language_info": {
   "codemirror_mode": {
    "name": "ipython",
    "version": 3
   },
   "file_extension": ".py",
   "mimetype": "text/x-python",
   "name": "python",
   "nbconvert_exporter": "python",
   "pygments_lexer": "ipython3",
   "version": "3.10.0"
  },
  "orig_nbformat": 4
 },
 "nbformat": 4,
 "nbformat_minor": 2
}
