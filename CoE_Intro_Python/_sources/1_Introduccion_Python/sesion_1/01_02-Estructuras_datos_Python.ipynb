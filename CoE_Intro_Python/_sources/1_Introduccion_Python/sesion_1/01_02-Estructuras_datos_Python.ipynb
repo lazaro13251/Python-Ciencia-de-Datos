{
 "cells": [
  {
   "cell_type": "markdown",
   "metadata": {},
   "source": [
    "# Estructura de datos en Python."
   ]
  },
  {
   "cell_type": "markdown",
   "metadata": {},
   "source": [
    "Python ofrece una variedad de estructuras de datos integradas, como listas, diccionarios, conjuntos y tuplas, cada una con sus propios usos y aplicaciones prácticas. La elección de la estructura de datos adecuada es crucial para el desarrollo de programas eficientes y la resolución eficaz de problemas. En esta sección, exploraremos teóricamente cómo cada estructura de datos puede ser aplicada en situaciones de la vida real."
   ]
  },
  {
   "cell_type": "markdown",
   "metadata": {},
   "source": [
    "## Listas en Python\n",
    "\n",
    "Las listas son estructuras de datos versátiles que pueden almacenar elementos de diferentes tipos. Son ideales para casos en los que necesitas mantener una colección ordenada de elementos, que pueden ser modificados. \n",
    "\n",
    "```{admonition} Caso de uso\n",
    "Las listas son útiles en situaciones donde la adición, eliminación y acceso a elementos por su posición son operaciones frecuentes.\n",
    "```\n",
    "\n",
    "### Aplicaciones prácticas:\n",
    "- Mantener una lista de tareas pendientes.\n",
    "- Almacenar los resultados de una serie de mediciones o cálculos.\n",
    "- Recopilar entradas de usuario para procesamiento posterior."
   ]
  },
  {
   "cell_type": "markdown",
   "metadata": {},
   "source": [
    "## Diccionarios en Python\n",
    "\n",
    "Si queremos acceder a un elemento específico de la lista tenemos que saber su posición. Si no la sabemos, tendríamos que buscar secuencialmente en la lista para encontrar ese elemento ¡Este procedimiento no es muy eficiente! \n",
    "\n",
    "Para evitar este problema se usa la estructura de datos de los diccionarios. Los diccionarios son ideales para almacenar relaciones **llave-valor**, donde cada llave es única. \n",
    "\n",
    "```{admonition} Caso de uso\n",
    "Esta estructura permite un acceso rápido a la información mediante la llave, lo que los hace excelentes para representar entidades complejas con atributos o para implementar mapeos eficientes.\n",
    "```\n",
    "\n",
    "### Aplicaciones prácticas:\n",
    "- Almacenar datos de un objeto, como las especificaciones de un producto.\n",
    "- Implementar una agenda telefónica, donde cada contacto se accede a través de su nombre.\n",
    "- Crear un sistema de traducción de palabras, donde cada palabra en un idioma es la llave para su traducción en otro idioma."
   ]
  },
  {
   "cell_type": "markdown",
   "metadata": {},
   "source": [
    "## Conjuntos en Python\n",
    "\n",
    "Los conjuntos son colecciones no ordenadas de **elementos únicos**. \n",
    "\n",
    "```{admonition} Caso de uso\n",
    "Son excelentes para realizar operaciones matemáticas de conjuntos como la unión, intersección y diferencia, así como para eliminar elementos duplicados de una colección.\n",
    "```\n",
    "\n",
    "\n",
    "### Aplicaciones prácticas:\n",
    "- Identificar elementos únicos en una colección de datos.\n",
    "- Realizar análisis de pertenencia para filtrar datos.\n",
    "- Aplicar operaciones de conjuntos para comparar grupos de elementos.\n"
   ]
  },
  {
   "cell_type": "markdown",
   "metadata": {},
   "source": [
    "## Tuplas en Python\n",
    "\n",
    "Las tuplas son colecciones ordenadas e `inmutables`. \n",
    "\n",
    "```{admonition} Caso de uso\n",
    "Son útiles cuando necesitas almacenar un grupo de elementos que no cambiarán a lo largo del tiempo, garantizando la integridad de los datos.\n",
    "```\n",
    "\n",
    "\n",
    "### Aplicaciones prácticas:\n",
    "- Almacenar las coordenadas geográficas de un lugar.\n",
    "- Mantener registros que no deben ser modificados, como fechas importantes o configuraciones.\n",
    "- Utilizar como claves en diccionarios cuando se necesitan claves compuestas.\n"
   ]
  }
 ],
 "metadata": {
  "language_info": {
   "name": "python"
  }
 },
 "nbformat": 4,
 "nbformat_minor": 2
}
