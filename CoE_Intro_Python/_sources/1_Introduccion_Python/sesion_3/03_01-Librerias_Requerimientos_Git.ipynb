{
 "cells": [
  {
   "cell_type": "markdown",
   "metadata": {},
   "source": [
    "# Librerías, archivo de requerimientos y Git."
   ]
  },
  {
   "cell_type": "markdown",
   "metadata": {},
   "source": [
    "```{contents}\n",
    ":local:\n",
    "```"
   ]
  },
  {
   "cell_type": "markdown",
   "metadata": {},
   "source": [
    "## Librerías no nativas\n"
   ]
  },
  {
   "cell_type": "markdown",
   "metadata": {},
   "source": [
    "### ¿Qué son las librerías?\n",
    "\n",
    "- Las librerías en Python son conjuntos de módulos y funciones que permiten la extensión de las capacidades del lenguaje.\n",
    "- Facilitan la implementación de operaciones comunes en programación sin la necesidad de escribir código desde cero.\n",
    "\n"
   ]
  },
  {
   "cell_type": "markdown",
   "metadata": {},
   "source": [
    "### Instalación de librerías usando pip"
   ]
  },
  {
   "cell_type": "markdown",
   "metadata": {},
   "source": [
    "Las librerías no vienen instaladas por defecto, sino que tenemos que instalarlas usando el gestor de paquetes de Python llamado `pip`. Para instalar numpy podemos hacer lo siguiente:\n",
    "\n",
    "```bash\n",
    "pip install requests\n",
    "```"
   ]
  },
  {
   "cell_type": "markdown",
   "metadata": {},
   "source": [
    "Las librerías están en constante actualización de modo que nos gustaría que cuando construimos nuestro proyecto podamos instalar la versión de la librería en la que hicimos el desarrollo. Para instalar una versión específica de una librería usamos: \n",
    "\n",
    "\n",
    "```bash\n",
    "pip install requests==2.25.1\n",
    "```\n"
   ]
  },
  {
   "cell_type": "markdown",
   "metadata": {},
   "source": [
    "Para actualizar la librería usamos el comando: \n",
    "\n",
    "```bash\n",
    "pip install --upgrade requests\n",
    "```\n",
    "\n",
    "Para desinstalar una librería usamos:\n",
    "\n",
    "```bash\n",
    "pip uninstall requests\n",
    "```\n",
    "\n",
    "Para revertir a una versión previa primero desinstalamos la librería y después instalamos la versión requerida.\n"
   ]
  },
  {
   "cell_type": "markdown",
   "metadata": {},
   "source": [
    "### Instalación de librerías usando archivo de requerimientos"
   ]
  },
  {
   "cell_type": "markdown",
   "metadata": {},
   "source": [
    "\n",
    "Una lista de requerimientos es un archivo de texto que contiene una lista de ítems a ser instalados usando pip. Este archivo simplifica el manejo de dependencias en proyectos de Python. Para crear una lista de requerimientos, simplemente lista las librerías y sus versiones en el archivo `requirements.txt`:\n",
    "\n",
    "\n",
    "```text\n",
    "requests==2.25.1\n",
    "numpy>=1.19.5\n",
    "```\n",
    "\n",
    "Para realizar esta instalación se usa el siguiente comando:\n",
    "\n",
    "```bash\n",
    "pip install -r requirements.txt\n",
    "```\n"
   ]
  },
  {
   "cell_type": "markdown",
   "metadata": {},
   "source": [
    "#### ¿Cómo se importan las librerías?\n",
    "\n",
    "Las librerías se pueden importar utilizando la palabra clave import. Por ejemplo, para importar la librería math, se utiliza:\n",
    "\n",
    "- Código ya hecho para resolver realizar operaciones frecuentes y resolver problemas comunes.\n",
    "\n",
    "- Una de las más usadas es [numpy](https://numpy.org/doc/stable/index.html) que permite hacer operaciones vectoriales de manera más sencilla y eficiente.\n",
    "<!-- Para insertar un hipervínculo en un notebook se pone la palabra entre corchetes seguida del hypervínculo en paréntesis -->\n",
    "\n",
    "```{image} ../imgs/numpy_logo.png\n",
    ":alt: numpy_logo\n",
    ":width: 500px\n",
    ":align: center\n",
    "```\n",
    "\n",
    "- Para acceder al código de `numpy` hay que usar una de las siguientes formas:"
   ]
  },
  {
   "cell_type": "code",
   "execution_count": null,
   "metadata": {},
   "outputs": [],
   "source": [
    "# import numpy # importa todas las funciones\n",
    "import numpy as np  # La forma más usual con un alias\n",
    "# from numpy import random as rd # importando sólo un módulo en especial con un alias, usado para librerías muy grandes"
   ]
  },
  {
   "cell_type": "markdown",
   "metadata": {},
   "source": [
    "Por ejemplo, con el **módulo** `random` se pueden generar una variable aleatoria uniforme entre el 0 y el 1 con la siguiente instrucción:\n"
   ]
  },
  {
   "cell_type": "code",
   "execution_count": 3,
   "metadata": {},
   "outputs": [
    {
     "data": {
      "text/plain": [
       "0.8119940282697933"
      ]
     },
     "execution_count": 3,
     "metadata": {},
     "output_type": "execute_result"
    }
   ],
   "source": [
    "# accedemos a código de estas librerías llamándolas por su alias. Los módulos están separados por puntos\n",
    "np.random.random()"
   ]
  },
  {
   "cell_type": "markdown",
   "metadata": {},
   "source": [
    "```{image} ../imgs/numpy.png\n",
    ":alt: numpy_modulos\n",
    ":width: 500px\n",
    ":align: center\n",
    "```\n",
    "\n",
    "\n",
    "Las **librerías** pueden tener muchos **módulos** y los **módulos** a su vez pueden tener muchas **funciones**. \n",
    "\n",
    "Las funciones de cada librería se pueden llamar con parámetros por defecto (default) o asignar valores a ciertos parámetros, como veremos con la función  \n",
    "\n",
    "```py\n",
    "np.random.random(size=1000)\n",
    "```\n",
    "Para esta función, el valor por defecto de `size` es 1, de modo que si no especificamos otra cosa, generará sólo un experimento."
   ]
  },
  {
   "cell_type": "markdown",
   "metadata": {},
   "source": [
    "## Ambientes virtuales"
   ]
  },
  {
   "cell_type": "markdown",
   "metadata": {},
   "source": [
    "La creación y gestión de ambientes virtuales en Python es una práctica esencial para el desarrollo de software, ya que permite a los desarrolladores trabajar en proyectos con dependencias específicas sin afectar otros proyectos o el sistema Python global. \n",
    "\n",
    "### ¿Qué es un ambiente virtual?\n",
    "\n",
    "Un ambiente virtual es un entorno Python aislado que permite instalar paquetes y gestionar dependencias de manera independiente para cada proyecto. Esto significa que puedes tener diferentes versiones de una misma librería en diferentes ambientes virtuales sin que uno interfiera con el otro.\n",
    "\n",
    "### ¿Para qué sirve un ambiente virtual?\n",
    "\n",
    "Los ambientes virtuales son útiles para:\n",
    "- Aislar dependencias: Cada proyecto puede tener sus propias dependencias, sin importar las versiones instaladas globalmente.\n",
    "- Experimentación segura: Permite probar nuevas librerías o actualizar versiones de paquetes sin afectar otros desarrollos.\n",
    "- Consistencia entre entornos: Facilita la replicación de entornos de desarrollo, pruebas y producción, reduciendo los problemas de \"funciona en mi máquina\".\n",
    "\n",
    "### Crear un ambiente virtual usando venv\n",
    "\n",
    "venv es el módulo de Python incorporado para crear ambientes virtuales. Para crear un nuevo ambiente virtual, utiliza el siguiente comando, reemplazando myenv con el nombre que desees para tu ambiente virtual.\n",
    "\n",
    "### Crear un ambiente virtual llamado 'myenv'\n",
    "```bash\n",
    "python -m venv myenv\n",
    "```\n",
    "\n",
    "### Activar un ambiente virtual\n",
    "\n",
    "Una vez creado, debes activar el ambiente virtual para utilizarlo. El comando para activar un ambiente virtual varía según el sistema operativo.\n",
    "\n",
    "- En Windows:\n",
    "\n",
    "```powershell\n",
    "myenv\\Scripts\\activate\n",
    "```\n",
    "\n",
    "- En Linux o macOS:\n",
    "\n",
    "```bash\n",
    "source myenv/bin/activate\n",
    "```\n",
    "\n",
    "### Desactivar un ambiente virtual\n",
    "\n",
    "Para salir del ambiente virtual y volver al entorno global de Python, utiliza el comando deactivate.\n",
    "\n",
    "### Desactivar el ambiente virtual\n",
    "\n",
    "```bash\n",
    "deactivate\n",
    "```\n",
    "\n",
    "### Instalar paquetes en un ambiente virtual\n",
    "\n",
    "Una vez activado el ambiente virtual, puedes instalar paquetes usando pip. Los paquetes se instalarán en el ambiente virtual sin afectar el entorno global de Python.\n",
    "\n",
    "### Instalar un paquete en el ambiente virtual\n",
    "\n",
    "```bash\n",
    "pip install requests\n",
    "```\n",
    "\n",
    "### Eliminar un ambiente virtual\n",
    "\n",
    "Para eliminar un ambiente virtual, simplemente elimina el directorio donde se creó el ambiente. No hay un comando específico de venv para eliminar un ambiente virtual.\n",
    "\n",
    "### En Windows\n",
    "```powershell\n",
    "rd /s /q myenv\n",
    "```\n",
    "\n",
    "### En Linux o macOS\n",
    "\n",
    "```bash\n",
    "rm -rf myenv\n",
    "```\n",
    "\n"
   ]
  },
  {
   "cell_type": "markdown",
   "metadata": {},
   "source": [
    "## Git"
   ]
  },
  {
   "cell_type": "markdown",
   "metadata": {},
   "source": [
    "```{image} ./Git-logo.svg.png\n",
    ":alt: git\n",
    ":width: 200px\n",
    ":align: center\n",
    "```"
   ]
  },
  {
   "cell_type": "markdown",
   "metadata": {},
   "source": [
    "Git es un sistema de control de versiones distribuido que facilita la gestión de cambios en el código fuente durante el desarrollo de software. Permite a múltiples usuarios trabajar juntos en el mismo proyecto de manera eficiente.\n",
    "\n",
    "\n",
    "\n",
    "### Uso Básico de Git\n",
    "\n",
    "Para iniciar un nuevo repositorio en Git, se utiliza:\n",
    "\n",
    "```Bash\n",
    "git init\n",
    "```\n",
    "\n",
    "Para clonar un repositorio existente:\n",
    "\n",
    "```Bash\n",
    "git clone <url-del-repositorio>\n",
    "```\n",
    "\n",
    "Para agregar cambios al área de staging:\n",
    "\n",
    "```Bash\n",
    "git add <archivo>\n",
    "```\n",
    "\n",
    "Para confirmar los cambios en el repositorio:\n",
    "\n",
    "```Bash\n",
    "git commit -m \"Mensaje descriptivo del cambio\"\n",
    "```\n",
    "\n",
    "Para subir los cambios al repositorio remoto:\n",
    "\n",
    "\n",
    "```Bash\n",
    "git push origin <nombre-de-la-rama>\n",
    "```\n"
   ]
  },
  {
   "cell_type": "markdown",
   "metadata": {},
   "source": [
    "## GitLab\n",
    "\n",
    "GitLab es una plataforma de gestión de repositorios Git que proporciona una serie de herramientas para la colaboración en proyectos de software, incluyendo seguimiento de problemas, revisión de código, y CI/CD (integración continua y entrega continua).\n",
    "\n",
    "```{image} ./gitlab_logo.png\n",
    ":alt: fishy\n",
    ":width: 200px\n",
    ":align: center\n",
    "```\n",
    "\n",
    "\n",
    "```{admonition} Nota\n",
    "**Git** se usa para el desarrollo local de un usuario. Después, herramientas como **Gitlab** se usa para gestionar desarrollos locales y unirlos en un repositorio colaborativo donde se pueden subir cambios, regresar a versiones anteriores entre varios usuarios. \n",
    "```"
   ]
  }
 ],
 "metadata": {
  "kernelspec": {
   "display_name": "Python 3",
   "language": "python",
   "name": "python3"
  },
  "language_info": {
   "codemirror_mode": {
    "name": "ipython",
    "version": 3
   },
   "file_extension": ".py",
   "mimetype": "text/x-python",
   "name": "python",
   "nbconvert_exporter": "python",
   "pygments_lexer": "ipython3",
   "version": "3.12.1"
  },
  "orig_nbformat": 4
 },
 "nbformat": 4,
 "nbformat_minor": 2
}
