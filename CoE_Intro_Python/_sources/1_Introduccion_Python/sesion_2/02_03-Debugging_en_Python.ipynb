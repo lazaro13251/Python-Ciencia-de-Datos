{
 "cells": [
  {
   "cell_type": "markdown",
   "metadata": {},
   "source": [
    "# Control de errores en Python.\n",
    "\n",
    "{download}`Descarga este cuaderno <./02_03-Debugging_en_Python.ipynb>`."
   ]
  },
  {
   "cell_type": "markdown",
   "metadata": {},
   "source": [
    "## Manejando excepciones en Python"
   ]
  },
  {
   "cell_type": "markdown",
   "metadata": {},
   "source": [
    "### Bloque de try except"
   ]
  },
  {
   "cell_type": "markdown",
   "metadata": {},
   "source": [
    "El control de errores es una parte fundamental de la programación en Python. Permite a los desarrolladores gestionar errores y excepciones de manera elegante, asegurando que el programa pueda manejar situaciones inesperadas sin detenerse abruptamente. Python utiliza bloques `try` y `except` para capturar y manejar errores."
   ]
  },
  {
   "cell_type": "code",
   "execution_count": 1,
   "metadata": {},
   "outputs": [
    {
     "name": "stdout",
     "output_type": "stream",
     "text": [
      "¡Error! División por cero.\n"
     ]
    }
   ],
   "source": [
    "try:\n",
    "    # Intenta ejecutar este código\n",
    "    resultado = 10 / 0\n",
    "except ZeroDivisionError:\n",
    "    # Si ocurre un error de división entre cero se ejecutará este bloque\n",
    "    print(\"¡Error! División entre cero.\")"
   ]
  },
  {
   "cell_type": "markdown",
   "metadata": {},
   "source": [
    "### Uso de `finally`\n",
    "\n",
    "El bloque `finally` se ejecuta siempre, independientemente de si se capturó una excepción o no. Es útil para realizar tareas de limpieza, como cerrar archivos o liberar recursos externos."
   ]
  },
  {
   "cell_type": "code",
   "execution_count": 2,
   "metadata": {},
   "outputs": [
    {
     "name": "stdout",
     "output_type": "stream",
     "text": [
      "El archivo no fue encontrado.\n",
      "Este bloque se ejecuta siempre, independientemente de si ocurrió una excepción.\n"
     ]
    }
   ],
   "source": [
    "try:\n",
    "    f = open(\"archivo_inexistente.txt\")\n",
    "except FileNotFoundError:\n",
    "    print(\"El archivo no fue encontrado.\")\n",
    "finally:\n",
    "    print(\"Este bloque se ejecuta siempre, independientemente de si ocurrió una excepción.\")"
   ]
  }
 ],
 "metadata": {
  "kernelspec": {
   "display_name": "Python 3",
   "language": "python",
   "name": "python3"
  },
  "language_info": {
   "codemirror_mode": {
    "name": "ipython",
    "version": 3
   },
   "file_extension": ".py",
   "mimetype": "text/x-python",
   "name": "python",
   "nbconvert_exporter": "python",
   "pygments_lexer": "ipython3",
   "version": "3.12.1"
  }
 },
 "nbformat": 4,
 "nbformat_minor": 2
}
