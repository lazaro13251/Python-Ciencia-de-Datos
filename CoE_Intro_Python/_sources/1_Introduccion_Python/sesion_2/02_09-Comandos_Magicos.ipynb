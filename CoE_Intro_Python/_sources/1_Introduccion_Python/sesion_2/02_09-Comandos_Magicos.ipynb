{
 "cells": [
  {
   "cell_type": "markdown",
   "metadata": {},
   "source": [
    "# Comandos del sistema y comandos mágicos."
   ]
  },
  {
   "cell_type": "markdown",
   "metadata": {},
   "source": [
    "Jupyer nos permite realizar operaciones que no están relacionadas directamente con el código de la celda sino que nos permite interactuar con otras partes del sistema de forma más efectiva. En este cuaderno revisaremos los comandos de sistema y los comandos mágicos."
   ]
  },
  {
   "cell_type": "markdown",
   "metadata": {},
   "source": [
    "## Comandos del sistema"
   ]
  },
  {
   "cell_type": "markdown",
   "metadata": {},
   "source": [
    "Puedes usar el operador `!` en Jupyter Notebook para ejecutar comandos del sistema operativo directamente desde una celda de código Python. Esto es útil para tareas como gestionar archivos, instalar paquetes o verificar configuraciones del sistema.\n",
    "\n",
    "\n",
    "```{warning} \n",
    "Estos comandos cambiarán dependiendo de tu sistema operativo ya que estamos usando la terminal nativa de cada uno de ellos.\n",
    "``` "
   ]
  },
  {
   "cell_type": "markdown",
   "metadata": {},
   "source": [
    "Listar archivos en el directorio actual."
   ]
  },
  {
   "cell_type": "code",
   "execution_count": 25,
   "metadata": {},
   "outputs": [
    {
     "name": "stderr",
     "output_type": "stream",
     "text": [
      "\"ls\" no se reconoce como un comando interno o externo,\n",
      "programa o archivo por lotes ejecutable.\n"
     ]
    }
   ],
   "source": [
    "!ls"
   ]
  },
  {
   "cell_type": "code",
   "execution_count": 59,
   "metadata": {},
   "outputs": [
    {
     "name": "stdout",
     "output_type": "stream",
     "text": [
      " El volumen de la unidad E es Datos\n",
      " El n�mero de serie del volumen es: 74BF-F4C5\n",
      "\n",
      " Directorio de e:\\Desarrollos\\CoE Jupyter notebook\\CoE_Ciencia_de_Datos\n",
      "\n",
      "21/02/2024  04:42 p. m.    <DIR>          .\n",
      "21/02/2024  09:57 a. m.    <DIR>          ..\n",
      "19/02/2024  11:19 a. m.    <DIR>          1_Introduccion_Python\n",
      "21/02/2024  12:05 p. m.             9,245 intro.md\n",
      "21/02/2024  10:23 a. m.            52,862 logo.png\n",
      "21/02/2024  04:42 p. m.                31 mi_archivo.txt\n",
      "21/02/2024  12:46 p. m.             9,583 notebooks.ipynb\n",
      "21/02/2024  12:04 p. m.               302 references.bib\n",
      "18/02/2024  11:16 p. m.                30 requirements.txt\n",
      "21/02/2024  11:37 a. m.    <DIR>          _build\n",
      "21/02/2024  12:53 p. m.             6,239 _config.yml\n",
      "21/02/2024  03:44 p. m.               843 _toc.yml\n",
      "               8 archivos         79,135 bytes\n",
      "               4 dirs  982,344,949,760 bytes libres\n"
     ]
    }
   ],
   "source": [
    "!dir"
   ]
  },
  {
   "cell_type": "markdown",
   "metadata": {},
   "source": [
    "Obtener las versiones de python.\n",
    "\n",
    "```{warning} \n",
    "Esto funciona sólo si python está en tus variables de entorno de modo que la palabra `python` llama a tu versión del ejecutable de Python. \n",
    "``` "
   ]
  },
  {
   "cell_type": "code",
   "execution_count": 2,
   "metadata": {},
   "outputs": [
    {
     "name": "stdout",
     "output_type": "stream",
     "text": [
      "Python 3.12.1\n"
     ]
    }
   ],
   "source": [
    "!python --version"
   ]
  },
  {
   "cell_type": "markdown",
   "metadata": {},
   "source": [
    "Instalar una librería. Este es por mucho el caso de uso más común porque puedes poner esto al inicio de cada notebook para instalar todo lo necesario para correrlo. \n",
    "\n",
    "También se puede hacer desde un archivo de requerimientos como se verá en la [sección 3.1](../sesion_3/03_01-Librerias_Requerimientos_Git.ipynb)."
   ]
  },
  {
   "cell_type": "code",
   "execution_count": 1,
   "metadata": {},
   "outputs": [],
   "source": [
    "# !pip install pickleshare"
   ]
  },
  {
   "cell_type": "markdown",
   "metadata": {},
   "source": [
    "Usar variables para realizar comandos del sistema (sólo se puede en sistemas que tengan echo)."
   ]
  },
  {
   "cell_type": "code",
   "execution_count": 58,
   "metadata": {},
   "outputs": [],
   "source": [
    "nombre_archivo = \"mi_archivo.txt\"\n",
    "\n",
    "!echo \"Este es un texto de prueba\" > {nombre_archivo}"
   ]
  },
  {
   "cell_type": "markdown",
   "metadata": {},
   "source": [
    "## Comandos mágicos"
   ]
  },
  {
   "cell_type": "markdown",
   "metadata": {},
   "source": [
    "Los comandos mágicos en Jupyter Notebooks ofrecen funcionalidades prácticas para diversas tareas como la gestión de tiempo, la escritura y ejecución de código en diferentes lenguajes, y la manipulación de la salida. \n",
    "\n",
    "- Son precedidos por el signo % para comandos mágicos de línea, o %% para comandos mágicos de celda.\n",
    "\n",
    "En la [documentación de IPython](https://ipython.readthedocs.io/en/stable/interactive/magics.html) se puede ver una lista de todos los comandos mágicos.\n",
    "\n",
    "También podemos imprimir la lista de los que están disponibles para nosotros con el comando de línea `%lsmagic`."
   ]
  },
  {
   "cell_type": "code",
   "execution_count": 38,
   "metadata": {},
   "outputs": [
    {
     "data": {
      "application/json": {
       "cell": {
        "!": "OSMagics",
        "HTML": "Other",
        "SVG": "Other",
        "bash": "Other",
        "capture": "ExecutionMagics",
        "cmd": "Other",
        "code_wrap": "ExecutionMagics",
        "debug": "ExecutionMagics",
        "file": "Other",
        "html": "DisplayMagics",
        "javascript": "DisplayMagics",
        "js": "DisplayMagics",
        "latex": "DisplayMagics",
        "markdown": "DisplayMagics",
        "perl": "Other",
        "prun": "ExecutionMagics",
        "pypy": "Other",
        "python": "Other",
        "python2": "Other",
        "python3": "Other",
        "ruby": "Other",
        "script": "ScriptMagics",
        "sh": "Other",
        "svg": "DisplayMagics",
        "sx": "OSMagics",
        "system": "OSMagics",
        "time": "ExecutionMagics",
        "timeit": "ExecutionMagics",
        "writefile": "OSMagics"
       },
       "line": {
        "alias": "OSMagics",
        "alias_magic": "BasicMagics",
        "autoawait": "AsyncMagics",
        "autocall": "AutoMagics",
        "automagic": "AutoMagics",
        "autosave": "KernelMagics",
        "bookmark": "OSMagics",
        "cd": "OSMagics",
        "clear": "KernelMagics",
        "cls": "KernelMagics",
        "code_wrap": "ExecutionMagics",
        "colors": "BasicMagics",
        "conda": "PackagingMagics",
        "config": "ConfigMagics",
        "connect_info": "KernelMagics",
        "copy": "Other",
        "ddir": "Other",
        "debug": "ExecutionMagics",
        "dhist": "OSMagics",
        "dirs": "OSMagics",
        "doctest_mode": "BasicMagics",
        "echo": "Other",
        "ed": "Other",
        "edit": "KernelMagics",
        "env": "OSMagics",
        "gui": "BasicMagics",
        "hist": "Other",
        "history": "HistoryMagics",
        "killbgscripts": "ScriptMagics",
        "ldir": "Other",
        "less": "KernelMagics",
        "load": "CodeMagics",
        "load_ext": "ExtensionMagics",
        "loadpy": "CodeMagics",
        "logoff": "LoggingMagics",
        "logon": "LoggingMagics",
        "logstart": "LoggingMagics",
        "logstate": "LoggingMagics",
        "logstop": "LoggingMagics",
        "ls": "Other",
        "lsmagic": "BasicMagics",
        "macro": "ExecutionMagics",
        "magic": "BasicMagics",
        "mamba": "PackagingMagics",
        "matplotlib": "PylabMagics",
        "micromamba": "PackagingMagics",
        "mkdir": "Other",
        "more": "KernelMagics",
        "notebook": "BasicMagics",
        "page": "BasicMagics",
        "pastebin": "CodeMagics",
        "pdb": "ExecutionMagics",
        "pdef": "NamespaceMagics",
        "pdoc": "NamespaceMagics",
        "pfile": "NamespaceMagics",
        "pinfo": "NamespaceMagics",
        "pinfo2": "NamespaceMagics",
        "pip": "PackagingMagics",
        "popd": "OSMagics",
        "pprint": "BasicMagics",
        "precision": "BasicMagics",
        "prun": "ExecutionMagics",
        "psearch": "NamespaceMagics",
        "psource": "NamespaceMagics",
        "pushd": "OSMagics",
        "pwd": "OSMagics",
        "pycat": "OSMagics",
        "pylab": "PylabMagics",
        "qtconsole": "KernelMagics",
        "quickref": "BasicMagics",
        "recall": "HistoryMagics",
        "rehashx": "OSMagics",
        "reload_ext": "ExtensionMagics",
        "ren": "Other",
        "rep": "Other",
        "rerun": "HistoryMagics",
        "reset": "NamespaceMagics",
        "reset_selective": "NamespaceMagics",
        "rmdir": "Other",
        "run": "ExecutionMagics",
        "save": "CodeMagics",
        "sc": "OSMagics",
        "set_env": "OSMagics",
        "store": "StoreMagics",
        "sx": "OSMagics",
        "system": "OSMagics",
        "tb": "ExecutionMagics",
        "time": "ExecutionMagics",
        "timeit": "ExecutionMagics",
        "unalias": "OSMagics",
        "unload_ext": "ExtensionMagics",
        "who": "NamespaceMagics",
        "who_ls": "NamespaceMagics",
        "whos": "NamespaceMagics",
        "xdel": "NamespaceMagics",
        "xmode": "BasicMagics"
       }
      },
      "text/plain": [
       "Available line magics:\n",
       "%alias  %alias_magic  %autoawait  %autocall  %automagic  %autosave  %bookmark  %cd  %clear  %cls  %code_wrap  %colors  %conda  %config  %connect_info  %copy  %ddir  %debug  %dhist  %dirs  %doctest_mode  %echo  %ed  %edit  %env  %gui  %hist  %history  %killbgscripts  %ldir  %less  %load  %load_ext  %loadpy  %logoff  %logon  %logstart  %logstate  %logstop  %ls  %lsmagic  %macro  %magic  %mamba  %matplotlib  %micromamba  %mkdir  %more  %notebook  %page  %pastebin  %pdb  %pdef  %pdoc  %pfile  %pinfo  %pinfo2  %pip  %popd  %pprint  %precision  %prun  %psearch  %psource  %pushd  %pwd  %pycat  %pylab  %qtconsole  %quickref  %recall  %rehashx  %reload_ext  %ren  %rep  %rerun  %reset  %reset_selective  %rmdir  %run  %save  %sc  %set_env  %store  %sx  %system  %tb  %time  %timeit  %unalias  %unload_ext  %who  %who_ls  %whos  %xdel  %xmode\n",
       "\n",
       "Available cell magics:\n",
       "%%!  %%HTML  %%SVG  %%bash  %%capture  %%cmd  %%code_wrap  %%debug  %%file  %%html  %%javascript  %%js  %%latex  %%markdown  %%perl  %%prun  %%pypy  %%python  %%python2  %%python3  %%ruby  %%script  %%sh  %%svg  %%sx  %%system  %%time  %%timeit  %%writefile\n",
       "\n",
       "Automagic is ON, % prefix IS NOT needed for line magics."
      ]
     },
     "execution_count": 38,
     "metadata": {},
     "output_type": "execute_result"
    }
   ],
   "source": [
    "%lsmagic"
   ]
  },
  {
   "cell_type": "markdown",
   "metadata": {},
   "source": [
    "### Atravesando el sistema de archivos"
   ]
  },
  {
   "cell_type": "markdown",
   "metadata": {},
   "source": [
    "Para imprimir el directorio actual usamos el siguiente comando."
   ]
  },
  {
   "cell_type": "code",
   "execution_count": null,
   "metadata": {},
   "outputs": [
    {
     "data": {
      "text/plain": [
       "'e:\\\\Desarrollos\\\\CoE Jupyter notebook\\\\CoE_Ciencia_de_Datos'"
      ]
     },
     "metadata": {},
     "output_type": "display_data"
    }
   ],
   "source": [
    "%pwd"
   ]
  },
  {
   "cell_type": "markdown",
   "metadata": {},
   "source": [
    "Para cambiar de directorio podemos usar el siguiente comando."
   ]
  },
  {
   "cell_type": "code",
   "execution_count": null,
   "metadata": {},
   "outputs": [
    {
     "name": "stdout",
     "output_type": "stream",
     "text": [
      "e:\\Desarrollos\\CoE Jupyter notebook\\CoE_Ciencia_de_Datos\n"
     ]
    }
   ],
   "source": [
    "%cd ../"
   ]
  },
  {
   "cell_type": "markdown",
   "metadata": {},
   "source": [
    "### Medir tiempo con `time`, `timeit` y `prune`"
   ]
  },
  {
   "cell_type": "markdown",
   "metadata": {},
   "source": [
    "Otra operación muy común es ver el tiempo de ejecución de un pedazo de código, esto es útil para saber comparar varias implementaciones. \n",
    "\n",
    "Para esto tenemos dos comandos: `time` y `timeit`.\n",
    "\n",
    "Definiremos las siguientes funciones para probar que tan eficientes son."
   ]
  },
  {
   "cell_type": "code",
   "execution_count": 12,
   "metadata": {},
   "outputs": [],
   "source": [
    "def calcular_suma(n):\n",
    "    \"\"\"Calcula la suma de los números hasta n.\"\"\"\n",
    "    return sum(range(n))\n",
    "\n",
    "def encontrar_máximos(listas):\n",
    "    \"\"\"Encuentra el valor máximo en cada sublista.\"\"\"\n",
    "    máximos = [max(lista) for lista in listas]\n",
    "    return máximos\n",
    "\n",
    "def ordenar_listas(listas):\n",
    "    \"\"\"Ordena las listas según la suma de sus elementos.\"\"\"\n",
    "    listas.sort(key=sum)\n",
    "    return listas\n"
   ]
  },
  {
   "cell_type": "code",
   "execution_count": 14,
   "metadata": {},
   "outputs": [
    {
     "name": "stdout",
     "output_type": "stream",
     "text": [
      "CPU times: total: 15.6 ms\n",
      "Wall time: 40 ms\n"
     ]
    },
    {
     "data": {
      "text/plain": [
       "499999500000"
      ]
     },
     "execution_count": 14,
     "metadata": {},
     "output_type": "execute_result"
    }
   ],
   "source": [
    "%time calcular_suma(1_000_000)"
   ]
  },
  {
   "cell_type": "code",
   "execution_count": 2,
   "metadata": {},
   "outputs": [],
   "source": [
    "%%timeit\n",
    "\n",
    "# Código para perfilar\n",
    "n = 10000\n",
    "listas = [[j for j in range(i, i + 100)] for i in range(1, n, 100)]\n",
    "\n",
    "\n",
    "máximos = encontrar_máximos(listas)"
   ]
  },
  {
   "cell_type": "code",
   "execution_count": 3,
   "metadata": {
    "tags": [
     "no-output"
    ]
   },
   "outputs": [],
   "source": [
    "def ejecutar_todo(n):\n",
    "    listas = [[j for j in range(i, i + 100)] for i in range(1, n, 100)]\n",
    "\n",
    "    máximos = encontrar_máximos(listas)\n",
    "    listas_ordenadas = ordenar_listas(listas)\n",
    "\n",
    "    return máximos, listas_ordenadas\n",
    "\n",
    "%prun ejecutar_todo(1_000_000)"
   ]
  },
  {
   "cell_type": "markdown",
   "metadata": {},
   "source": [
    "![output_prun](./output_prun.png)"
   ]
  },
  {
   "cell_type": "markdown",
   "metadata": {},
   "source": [
    "### history"
   ]
  },
  {
   "cell_type": "markdown",
   "metadata": {},
   "source": [
    "Para obtener el historial de entradas usamos `%history -n (numero de lineas) -f (ruta_archivo)`.\n",
    "\n",
    "Si no especificamos la bandera `-f` se imprime el resultado. "
   ]
  },
  {
   "cell_type": "code",
   "execution_count": 39,
   "metadata": {},
   "outputs": [
    {
     "name": "stdout",
     "output_type": "stream",
     "text": [
      "   1: !dir\n",
      "   2: !python --version\n",
      "   3: !pip install numpy\n",
      "   4: !echo\n",
      "   5: !bash\n",
      "   6: %%bash\n",
      "   7:\n",
      "%%bash\n",
      "\n",
      "echo\n",
      "   8:\n",
      "dato = \"Este dato es importante\"\n",
      "%store dato\n",
      "   9:\n",
      "dato = \"Este dato es importante\"\n",
      "%store dato\n",
      "  10:\n",
      "%store -r dato\n",
      "print(dato)\n",
      "  11:\n",
      "\n",
      "%timeit calcular_suma(1_000_000)\n",
      "  12:\n",
      "def calcular_suma(n):\n",
      "    \"\"\"Calcula la suma de los números hasta n.\"\"\"\n",
      "    return sum(range(n))\n",
      "\n",
      "def encontrar_máximos(listas):\n",
      "    \"\"\"Encuentra el valor máximo en cada sublista.\"\"\"\n",
      "    máximos = [max(lista) for lista in listas]\n",
      "    return máximos\n",
      "\n",
      "def ordenar_listas(listas):\n",
      "    \"\"\"Ordena las listas según la suma de sus elementos.\"\"\"\n",
      "    listas.sort(key=sum)\n",
      "    return listas\n",
      "  13:\n",
      "\n",
      "%timeit calcular_suma(1_000_000)\n",
      "  14: %time calcular_suma(1_000_000)\n",
      "  15:\n",
      "%%timeit\n",
      "\n",
      "suma = calcular_suma(1_000_000)\n",
      "encontrar_máximos(suma)\n"
     ]
    }
   ],
   "source": [
    "%history -n 1-15 "
   ]
  },
  {
   "cell_type": "markdown",
   "metadata": {},
   "source": [
    "### capture"
   ]
  },
  {
   "cell_type": "markdown",
   "metadata": {},
   "source": [
    "Hay veces que queremos tomar la salida de una celda y hacer análisis sobre ella. Como cuando queremos analizar logs de algún proceso. Para realizar esto dentro de un notebook usamos el comando. \n",
    "\n",
    "```py\n",
    "%%capture nom_variable\n",
    "\n",
    "# código a capturar\n",
    "```\n",
    "\n",
    "donde accedemos al código capturado llamando el siguiente método. \n",
    "\n",
    "```py\n",
    "nom_variable.show()\n",
    "```"
   ]
  },
  {
   "cell_type": "code",
   "execution_count": 8,
   "metadata": {},
   "outputs": [],
   "source": [
    "%%capture captured_output\n",
    "for i in range(5):\n",
    "    print(\"La línea \"+ str(i) + \" se capturará\")"
   ]
  },
  {
   "cell_type": "code",
   "execution_count": 9,
   "metadata": {},
   "outputs": [
    {
     "name": "stdout",
     "output_type": "stream",
     "text": [
      "La línea 0 se capturará\n",
      "La línea 1 se capturará\n",
      "La línea 2 se capturará\n",
      "La línea 3 se capturará\n",
      "La línea 4 se capturará\n"
     ]
    }
   ],
   "source": [
    "captured_output.show()"
   ]
  },
  {
   "cell_type": "markdown",
   "metadata": {},
   "source": [
    "### env"
   ]
  },
  {
   "cell_type": "markdown",
   "metadata": {},
   "source": [
    "Para leer o escribir variables de entorno usamos el siguiente comando."
   ]
  },
  {
   "cell_type": "code",
   "execution_count": 10,
   "metadata": {},
   "outputs": [
    {
     "data": {
      "text/plain": [
       "'Windows_NT'"
      ]
     },
     "execution_count": 10,
     "metadata": {},
     "output_type": "execute_result"
    }
   ],
   "source": [
    "%env os"
   ]
  },
  {
   "cell_type": "markdown",
   "metadata": {},
   "source": [
    "Para mostrar la historia de directorios visitados usamos:"
   ]
  },
  {
   "cell_type": "code",
   "execution_count": 57,
   "metadata": {},
   "outputs": [
    {
     "name": "stdout",
     "output_type": "stream",
     "text": [
      "Directory history (kept in _dh)\n",
      "0: e:\\Desarrollos\\CoE Jupyter notebook\\CoE_Ciencia_de_Datos\\1_Introduccion_Python\\sesion_2\n",
      "1: e:\\Desarrollos\\CoE Jupyter notebook\\CoE_Ciencia_de_Datos\\1_Introduccion_Python\\sesion_2\n",
      "2: e:\\Desarrollos\\CoE Jupyter notebook\\CoE_Ciencia_de_Datos\\1_Introduccion_Python\n",
      "3: e:\\Desarrollos\\CoE Jupyter notebook\\CoE_Ciencia_de_Datos\n"
     ]
    }
   ],
   "source": [
    "%dhist"
   ]
  }
 ],
 "metadata": {
  "kernelspec": {
   "display_name": "Python 3",
   "language": "python",
   "name": "python3"
  },
  "language_info": {
   "codemirror_mode": {
    "name": "ipython",
    "version": 3
   },
   "file_extension": ".py",
   "mimetype": "text/x-python",
   "name": "python",
   "nbconvert_exporter": "python",
   "pygments_lexer": "ipython3",
   "version": "3.12.1"
  }
 },
 "nbformat": 4,
 "nbformat_minor": 2
}
