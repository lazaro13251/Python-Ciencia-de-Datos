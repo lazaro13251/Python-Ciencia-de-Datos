{
 "cells": [
  {
   "cell_type": "markdown",
   "metadata": {},
   "source": [
    "# Manipulación del Sistema de Archivos con Python.\n",
    "\n",
    "\n",
    "Python proporciona varias bibliotecas para interactuar con el sistema de archivos. Una de las más fundamentales y ampliamente utilizadas es la biblioteca `os`, que permite realizar operaciones como leer y escribir archivos, así como listar contenidos de directorios, entre muchas otras funcionalidades. `os` es una biblioteca estándar de Python, lo que significa que viene incluida con Python y no requiere instalación adicional."
   ]
  },
  {
   "cell_type": "markdown",
   "metadata": {},
   "source": [
    "## Escritura de archivos\n",
    "\n",
    "La escritura de archivos permite guardar datos en el sistema de archivos. Esto se puede hacer en modo de escritura o modo de añadir, dependiendo de si deseas sobrescribir el archivo existente o añadir al final del mismo."
   ]
  },
  {
   "cell_type": "code",
   "execution_count": 1,
   "metadata": {},
   "outputs": [],
   "source": [
    "# Escribir en un archivo (sobrescribirá si el archivo ya existe)\n",
    "with open('ejemplo.txt', 'w') as archivo:\n",
    "    archivo.write(\"Hola, mundo!\")"
   ]
  },
  {
   "cell_type": "markdown",
   "metadata": {},
   "source": [
    "## Lectura de archivos\n",
    "\n",
    "Leer archivos es una de las operaciones más comunes al trabajar con el sistema de archivos. Python facilita la lectura de archivos utilizando funciones integradas que permiten leer el contenido de un archivo en la memoria."
   ]
  },
  {
   "cell_type": "code",
   "execution_count": 2,
   "metadata": {},
   "outputs": [
    {
     "name": "stdout",
     "output_type": "stream",
     "text": [
      "Hola, mundo!\n"
     ]
    }
   ],
   "source": [
    "# Abrir un archivo en modo lectura\n",
    "with open('ejemplo.txt', 'r') as archivo:\n",
    "    contenido = archivo.read()\n",
    "    print(contenido)"
   ]
  },
  {
   "cell_type": "markdown",
   "metadata": {},
   "source": [
    "## Uso del módulo `os`\n",
    "\n",
    "El módulo `os` en Python ofrece una manera portátil de utilizar funcionalidades dependientes del sistema operativo, como crear y borrar archivos o directorios. A continuación, veremos cómo listar los archivos en un directorio.\n"
   ]
  },
  {
   "cell_type": "code",
   "execution_count": 3,
   "metadata": {},
   "outputs": [
    {
     "name": "stdout",
     "output_type": "stream",
     "text": [
      "Directorio actual: e:\\Desarrollos\\CoE Jupyter notebook\\CoE_Ciencia_de_Datos\\1_Introduccion_Python\\sesion_2\n",
      "Archivos y carpetas en el directorio actual: ['02_01-Control_Flujo_Funciones.ipynb', '02_02-Funciones-Errores.ipynb', '02_03-Debugging_en_Python.ipynb', '02_04-Manipulacion_OS.ipynb', '02_05_Programacion_Orientada_Objetos.ipynb', '02_09-Comandos_Magicos.ipynb', '02_10-Evaluacion_S2.ipynb', 'archivo_ejemplo.txt', 'breakpoint.png', 'breakpoint_2.png', 'controls.png', 'debug.png', 'debug_console.png', 'debug_menu.png', 'ejemplo.txt', 'mi_archivo.txt', 'output_prun.png']\n"
     ]
    }
   ],
   "source": [
    "import os\n",
    "\n",
    "# Obteniendo el directorio actual\n",
    "directorio_actual = os.getcwd()\n",
    "print(f\"Directorio actual: {directorio_actual}\")\n",
    "\n",
    "# Listar archivos y carpetas en el directorio actual\n",
    "archivos_directorio = os.listdir(directorio_actual)\n",
    "print(\"Archivos y carpetas en el directorio actual:\", archivos_directorio)\n"
   ]
  },
  {
   "cell_type": "markdown",
   "metadata": {},
   "source": [
    "## Uso de `pathlib`\n",
    "\n",
    "`pathlib` es una biblioteca para manipulación de rutas de archivos y directorios de manera orientada a objetos. Proporciona una interfaz más intuitiva para trabajar con rutas y archivos. Veamos cómo crear un nuevo archivo de texto.\n"
   ]
  },
  {
   "cell_type": "code",
   "execution_count": 2,
   "metadata": {},
   "outputs": [
    {
     "name": "stdout",
     "output_type": "stream",
     "text": [
      "Se creó el archivo: archivo_ejemplo.txt, en el directorio: e:\\Desarrollos\\CoE Jupyter notebook\\1_Intro_Python\\sesion_2\n"
     ]
    }
   ],
   "source": [
    "from pathlib import Path\n",
    "\n",
    "# Crear un nuevo archivo de texto en el directorio actual\n",
    "nuevo_archivo = Path('archivo_ejemplo.txt')\n",
    "nuevo_archivo.touch()\n",
    "\n",
    "print(f\"Se creó el archivo: {nuevo_archivo.name}, en el directorio: {nuevo_archivo.parent.absolute()}\")\n"
   ]
  },
  {
   "cell_type": "code",
   "execution_count": null,
   "metadata": {},
   "outputs": [],
   "source": []
  }
 ],
 "metadata": {
  "kernelspec": {
   "display_name": "Python 3",
   "language": "python",
   "name": "python3"
  },
  "language_info": {
   "codemirror_mode": {
    "name": "ipython",
    "version": 3
   },
   "file_extension": ".py",
   "mimetype": "text/x-python",
   "name": "python",
   "nbconvert_exporter": "python",
   "pygments_lexer": "ipython3",
   "version": "3.12.1"
  }
 },
 "nbformat": 4,
 "nbformat_minor": 2
}
