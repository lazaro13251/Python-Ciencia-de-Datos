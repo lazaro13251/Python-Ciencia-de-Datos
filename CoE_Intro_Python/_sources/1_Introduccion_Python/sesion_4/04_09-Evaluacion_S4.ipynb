{
 "cells": [
  {
   "cell_type": "markdown",
   "metadata": {},
   "source": [
    "# Evaluación sesión 4."
   ]
  },
  {
   "cell_type": "markdown",
   "metadata": {},
   "source": [
    "\n",
    "Utilizando Pandas, carga el siguiente dataset CSV que contiene datos de ventas: \n",
    "\n",
    "{download}`Datos de ventas de videojuegos<./vgsales.csv>`.\n",
    "\n",
    "1. Una vez cargado el dataset, realiza las siguientes tareas:\n",
    "\n",
    "- Muestra las primeras diez filas del dataset.\n",
    "- Calcula el total de ventas globales para cada juego y añade este resultado como una nueva columna en el DataFrame.\n",
    "- Filtra y muestra solo aquellos juegos que han vendido más de 20 millones de copias globalmente."
   ]
  },
  {
   "cell_type": "markdown",
   "metadata": {},
   "source": [
    "2. Genera 2 gráficas usando matplotlib de algún aspecto que encuentres interesante de esta tabla."
   ]
  }
 ],
 "metadata": {
  "kernelspec": {
   "display_name": "Python 3",
   "language": "python",
   "name": "python3"
  },
  "language_info": {
   "codemirror_mode": {
    "name": "ipython",
    "version": 3
   },
   "file_extension": ".py",
   "mimetype": "text/x-python",
   "name": "python",
   "nbconvert_exporter": "python",
   "pygments_lexer": "ipython3",
   "version": "3.12.1"
  }
 },
 "nbformat": 4,
 "nbformat_minor": 2
}
