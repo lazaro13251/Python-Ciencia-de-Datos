{
 "cells": [
  {
   "cell_type": "markdown",
   "metadata": {},
   "source": [
    "# Introducción a Pandas.\n",
    "\n",
    "```{image} Pandas_logo.png\n",
    ":alt: pandas logo\n",
    ":width: 400px\n",
    ":align: center\n",
    "```\n",
    "\n",
    "{download}`Descarga este archivo <./04_01-Intro_Pandas.ipynb>`.\n",
    "\n",
    "Pandas es una biblioteca de programación en Python que proporciona estructuras de datos flexibles y herramientas de análisis de datos para trabajar con datos de manera eficiente. Fue desarrollada para facilitar la manipulación y análisis de datos en Python. "
   ]
  },
  {
   "cell_type": "markdown",
   "metadata": {},
   "source": [
    "```{contents}\n",
    ":local:\n",
    "```"
   ]
  },
  {
   "cell_type": "markdown",
   "metadata": {},
   "source": [
    "## Creación de DataFrames \n",
    "\n",
    "Un `DataFrame` es una estructura de datos tabular bidimensional con ejes etiquetados (filas y columnas). Veremos las formas más usuales de crear un Dataframe, pero primero necesitamos importar pandas."
   ]
  },
  {
   "cell_type": "code",
   "execution_count": 2,
   "metadata": {},
   "outputs": [],
   "source": [
    "import pandas as pd"
   ]
  },
  {
   "cell_type": "markdown",
   "metadata": {},
   "source": [
    "Crearemos un dataframe de diferentes maneras:"
   ]
  },
  {
   "cell_type": "code",
   "execution_count": 3,
   "metadata": {},
   "outputs": [
    {
     "data": {
      "text/html": [
       "<div>\n",
       "<style scoped>\n",
       "    .dataframe tbody tr th:only-of-type {\n",
       "        vertical-align: middle;\n",
       "    }\n",
       "\n",
       "    .dataframe tbody tr th {\n",
       "        vertical-align: top;\n",
       "    }\n",
       "\n",
       "    .dataframe thead th {\n",
       "        text-align: right;\n",
       "    }\n",
       "</style>\n",
       "<table border=\"1\" class=\"dataframe\">\n",
       "  <thead>\n",
       "    <tr style=\"text-align: right;\">\n",
       "      <th></th>\n",
       "      <th>0</th>\n",
       "      <th>1</th>\n",
       "      <th>2</th>\n",
       "    </tr>\n",
       "  </thead>\n",
       "  <tbody>\n",
       "    <tr>\n",
       "      <th>0</th>\n",
       "      <td>1</td>\n",
       "      <td>2</td>\n",
       "      <td>3</td>\n",
       "    </tr>\n",
       "    <tr>\n",
       "      <th>1</th>\n",
       "      <td>4</td>\n",
       "      <td>5</td>\n",
       "      <td>6</td>\n",
       "    </tr>\n",
       "  </tbody>\n",
       "</table>\n",
       "</div>"
      ],
      "text/plain": [
       "   0  1  2\n",
       "0  1  2  3\n",
       "1  4  5  6"
      ]
     },
     "execution_count": 3,
     "metadata": {},
     "output_type": "execute_result"
    }
   ],
   "source": [
    "# Con listas\n",
    "df_basico = pd.DataFrame([[1,2,3], [4,5,6]])\n",
    "df_basico"
   ]
  },
  {
   "cell_type": "code",
   "execution_count": 4,
   "metadata": {},
   "outputs": [
    {
     "data": {
      "text/html": [
       "<div>\n",
       "<style scoped>\n",
       "    .dataframe tbody tr th:only-of-type {\n",
       "        vertical-align: middle;\n",
       "    }\n",
       "\n",
       "    .dataframe tbody tr th {\n",
       "        vertical-align: top;\n",
       "    }\n",
       "\n",
       "    .dataframe thead th {\n",
       "        text-align: right;\n",
       "    }\n",
       "</style>\n",
       "<table border=\"1\" class=\"dataframe\">\n",
       "  <thead>\n",
       "    <tr style=\"text-align: right;\">\n",
       "      <th></th>\n",
       "      <th>col_1</th>\n",
       "      <th>col_2</th>\n",
       "      <th>col_3</th>\n",
       "    </tr>\n",
       "  </thead>\n",
       "  <tbody>\n",
       "    <tr>\n",
       "      <th>fila_1</th>\n",
       "      <td>1</td>\n",
       "      <td>2</td>\n",
       "      <td>3</td>\n",
       "    </tr>\n",
       "    <tr>\n",
       "      <th>fila_2</th>\n",
       "      <td>4</td>\n",
       "      <td>5</td>\n",
       "      <td>6</td>\n",
       "    </tr>\n",
       "  </tbody>\n",
       "</table>\n",
       "</div>"
      ],
      "text/plain": [
       "        col_1  col_2  col_3\n",
       "fila_1      1      2      3\n",
       "fila_2      4      5      6"
      ]
     },
     "execution_count": 4,
     "metadata": {},
     "output_type": "execute_result"
    }
   ],
   "source": [
    "df_basico = pd.DataFrame([[1,2,3], [4,5,6]], index=['fila_1', 'fila_2'], columns=['col_1', 'col_2', 'col_3'])\n",
    "df_basico"
   ]
  },
  {
   "cell_type": "code",
   "execution_count": 5,
   "metadata": {},
   "outputs": [
    {
     "data": {
      "text/html": [
       "<div>\n",
       "<style scoped>\n",
       "    .dataframe tbody tr th:only-of-type {\n",
       "        vertical-align: middle;\n",
       "    }\n",
       "\n",
       "    .dataframe tbody tr th {\n",
       "        vertical-align: top;\n",
       "    }\n",
       "\n",
       "    .dataframe thead th {\n",
       "        text-align: right;\n",
       "    }\n",
       "</style>\n",
       "<table border=\"1\" class=\"dataframe\">\n",
       "  <thead>\n",
       "    <tr style=\"text-align: right;\">\n",
       "      <th></th>\n",
       "      <th>c_1</th>\n",
       "      <th>c_2</th>\n",
       "      <th>c_3</th>\n",
       "    </tr>\n",
       "  </thead>\n",
       "  <tbody>\n",
       "    <tr>\n",
       "      <th>0</th>\n",
       "      <td>1</td>\n",
       "      <td>2</td>\n",
       "      <td>3</td>\n",
       "    </tr>\n",
       "    <tr>\n",
       "      <th>1</th>\n",
       "      <td>4</td>\n",
       "      <td>5</td>\n",
       "      <td>6</td>\n",
       "    </tr>\n",
       "  </tbody>\n",
       "</table>\n",
       "</div>"
      ],
      "text/plain": [
       "   c_1  c_2  c_3\n",
       "0    1    2    3\n",
       "1    4    5    6"
      ]
     },
     "execution_count": 5,
     "metadata": {},
     "output_type": "execute_result"
    }
   ],
   "source": [
    "# Con un diccionario\n",
    "df_basico = pd.DataFrame({'c_1' : [1, 4], 'c_2': [2, 5], 'c_3': [3, 6]})\n",
    "df_basico"
   ]
  },
  {
   "cell_type": "code",
   "execution_count": 6,
   "metadata": {},
   "outputs": [
    {
     "data": {
      "text/html": [
       "<div>\n",
       "<style scoped>\n",
       "    .dataframe tbody tr th:only-of-type {\n",
       "        vertical-align: middle;\n",
       "    }\n",
       "\n",
       "    .dataframe tbody tr th {\n",
       "        vertical-align: top;\n",
       "    }\n",
       "\n",
       "    .dataframe thead th {\n",
       "        text-align: right;\n",
       "    }\n",
       "</style>\n",
       "<table border=\"1\" class=\"dataframe\">\n",
       "  <thead>\n",
       "    <tr style=\"text-align: right;\">\n",
       "      <th></th>\n",
       "      <th>c_1</th>\n",
       "      <th>c_2</th>\n",
       "      <th>c_3</th>\n",
       "    </tr>\n",
       "  </thead>\n",
       "  <tbody>\n",
       "    <tr>\n",
       "      <th>id_1</th>\n",
       "      <td>1</td>\n",
       "      <td>2</td>\n",
       "      <td>3</td>\n",
       "    </tr>\n",
       "    <tr>\n",
       "      <th>id_2</th>\n",
       "      <td>4</td>\n",
       "      <td>5</td>\n",
       "      <td>6</td>\n",
       "    </tr>\n",
       "  </tbody>\n",
       "</table>\n",
       "</div>"
      ],
      "text/plain": [
       "      c_1  c_2  c_3\n",
       "id_1    1    2    3\n",
       "id_2    4    5    6"
      ]
     },
     "execution_count": 6,
     "metadata": {},
     "output_type": "execute_result"
    }
   ],
   "source": [
    "df_basico = pd.DataFrame({'c_1' : [1, 4], 'c_2': [2, 5], 'c_3': [3, 6]}, index = ['id_1', 'id_2'])\n",
    "df_basico"
   ]
  },
  {
   "cell_type": "markdown",
   "metadata": {},
   "source": [
    "### Atributos de los dataframes"
   ]
  },
  {
   "cell_type": "code",
   "execution_count": 7,
   "metadata": {},
   "outputs": [
    {
     "name": "stdout",
     "output_type": "stream",
     "text": [
      "Tamaño del dataframe : 6\n",
      "Forma del dataframe : (2, 3)\n",
      "Columnas de nuestro dataframe Index(['c_1', 'c_2', 'c_3'], dtype='object')\n",
      "Filas de nuestro dataframe Index(['id_1', 'id_2'], dtype='object')\n"
     ]
    }
   ],
   "source": [
    "## Diferencia entre atributo y método en un dataframe\n",
    "#Atributo sobre el tamaño de nuestro dataframe\n",
    "print('Tamaño del dataframe :', df_basico.size)\n",
    "#Atributo sobre la forma de nuestro dataframe\n",
    "print('Forma del dataframe :', df_basico.shape)\n",
    "# El DataFrame tiene un atributo llamado \"columns\", lo que nos dice las columnas\n",
    "print('Columnas de nuestro dataframe', df_basico.columns)\n",
    "# El DataFrame tiene un atributo llamado \"index\", lo que nos dice las filas\n",
    "print('Filas de nuestro dataframe', df_basico.index)"
   ]
  },
  {
   "cell_type": "markdown",
   "metadata": {},
   "source": [
    "### Diferencia entre `Series` y `DataFrame` \n",
    "Un **DataFrame** es bidimensional y puede contener múltiples columnas de diferentes tipos de datos, mientras que una **Serie** es unidimensional y generalmente se utiliza para representar una sola columna de datos.\n"
   ]
  },
  {
   "cell_type": "code",
   "execution_count": 9,
   "metadata": {},
   "outputs": [
    {
     "name": "stdout",
     "output_type": "stream",
     "text": [
      "Un ejemplo de una serie es :\n",
      "id_1    2\n",
      "id_2    5\n",
      "Name: c_2, dtype: int64\n",
      "Un ejemplo de un dataframe es :\n",
      "      c_2\n",
      "id_1    2\n",
      "id_2    5\n"
     ]
    }
   ],
   "source": [
    "# Series\n",
    "print('Un ejemplo de una serie es :')\n",
    "print( df_basico['c_2'])\n",
    "# DataFrame\n",
    "print('Un ejemplo de un dataframe es :')\n",
    "print(df_basico[['c_2']])"
   ]
  },
  {
   "cell_type": "markdown",
   "metadata": {},
   "source": [
    "Para crear una serie se necesita lo siguiente:"
   ]
  },
  {
   "cell_type": "code",
   "execution_count": 10,
   "metadata": {},
   "outputs": [
    {
     "name": "stdout",
     "output_type": "stream",
     "text": [
      "\n",
      "Series creada:\n",
      "0    Python\n",
      "1      Java\n",
      "2       C++\n",
      "Name: Lenguaje, dtype: object\n"
     ]
    }
   ],
   "source": [
    "# Creación de una Series\n",
    "s = pd.Series(['Python', 'Java', 'C++'], name='Lenguaje')\n",
    "print(\"\\nSeries creada:\")\n",
    "print(s)"
   ]
  },
  {
   "cell_type": "markdown",
   "metadata": {},
   "source": [
    "<div style='background-color:#4874f7; color:white; padding:10px;'>\n",
    "    <h2>Ejercicio</h2>\n",
    "    Crear un dataframe con las columnas de nombre, piso y torre de con información de 3 compañeros del grupo.\n",
    "    \n",
    "</div>\n",
    "\n"
   ]
  },
  {
   "cell_type": "code",
   "execution_count": 11,
   "metadata": {
    "tags": [
     "hide-input"
    ]
   },
   "outputs": [
    {
     "data": {
      "text/html": [
       "<div>\n",
       "<style scoped>\n",
       "    .dataframe tbody tr th:only-of-type {\n",
       "        vertical-align: middle;\n",
       "    }\n",
       "\n",
       "    .dataframe tbody tr th {\n",
       "        vertical-align: top;\n",
       "    }\n",
       "\n",
       "    .dataframe thead th {\n",
       "        text-align: right;\n",
       "    }\n",
       "</style>\n",
       "<table border=\"1\" class=\"dataframe\">\n",
       "  <thead>\n",
       "    <tr style=\"text-align: right;\">\n",
       "      <th></th>\n",
       "      <th>nombre</th>\n",
       "      <th>piso</th>\n",
       "      <th>torre</th>\n",
       "    </tr>\n",
       "  </thead>\n",
       "  <tbody>\n",
       "    <tr>\n",
       "      <th>id_1</th>\n",
       "      <td>Fernanda</td>\n",
       "      <td>7</td>\n",
       "      <td>A</td>\n",
       "    </tr>\n",
       "    <tr>\n",
       "      <th>id_2</th>\n",
       "      <td>Anel</td>\n",
       "      <td>7</td>\n",
       "      <td>A</td>\n",
       "    </tr>\n",
       "    <tr>\n",
       "      <th>id_3</th>\n",
       "      <td>Luis</td>\n",
       "      <td>3</td>\n",
       "      <td>3</td>\n",
       "    </tr>\n",
       "  </tbody>\n",
       "</table>\n",
       "</div>"
      ],
      "text/plain": [
       "        nombre  piso torre\n",
       "id_1  Fernanda     7     A\n",
       "id_2      Anel     7     A\n",
       "id_3      Luis     3     3"
      ]
     },
     "execution_count": 11,
     "metadata": {},
     "output_type": "execute_result"
    }
   ],
   "source": [
    "empleados_gs = pd.DataFrame({'nombre':['Fernanda', 'Anel', 'Luis'], 'piso':[7,7,3], 'torre': ['A','A',3]}, index=['id_1', 'id_2', 'id_3'])\n",
    "empleados_gs"
   ]
  },
  {
   "cell_type": "markdown",
   "metadata": {},
   "source": [
    "## Carga y almacenamiento de datos\n",
    "\n",
    "Pandas soporta la carga y el almacenamiento de datos en una amplia variedad de formatos de archivo, incluyendo **CSV**, **Excel**, **JSON**, y más. A continuación, cargaremos datos desde un archivo CSV y luego los almacenaremos en un nuevo archivo.\n",
    "\n",
    "Pueden {download}`descargar el archivo csv aquí <./banco_anonimo.csv>`.\n"
   ]
  },
  {
   "cell_type": "code",
   "execution_count": 12,
   "metadata": {},
   "outputs": [
    {
     "name": "stdout",
     "output_type": "stream",
     "text": [
      "Datos cargados:\n"
     ]
    },
    {
     "data": {
      "text/html": [
       "<div>\n",
       "<style scoped>\n",
       "    .dataframe tbody tr th:only-of-type {\n",
       "        vertical-align: middle;\n",
       "    }\n",
       "\n",
       "    .dataframe tbody tr th {\n",
       "        vertical-align: top;\n",
       "    }\n",
       "\n",
       "    .dataframe thead th {\n",
       "        text-align: right;\n",
       "    }\n",
       "</style>\n",
       "<table border=\"1\" class=\"dataframe\">\n",
       "  <thead>\n",
       "    <tr style=\"text-align: right;\">\n",
       "      <th></th>\n",
       "      <th>banco</th>\n",
       "      <th>CONSUMO</th>\n",
       "      <th>MICROCRÉDITO</th>\n",
       "      <th>PRÉSTAMOS MÍNIMA</th>\n",
       "      <th>PRÉSTAMOS MÁXIMA</th>\n",
       "      <th>PRÉSTAMOS MODA</th>\n",
       "      <th>PRÉSTAMOS PROM. POND.</th>\n",
       "      <th>clase</th>\n",
       "    </tr>\n",
       "  </thead>\n",
       "  <tbody>\n",
       "    <tr>\n",
       "      <th>0</th>\n",
       "      <td>banco_1</td>\n",
       "      <td>30.67</td>\n",
       "      <td>13.01</td>\n",
       "      <td>3.00</td>\n",
       "      <td>44.65</td>\n",
       "      <td>23.84</td>\n",
       "      <td>10.12</td>\n",
       "      <td>2</td>\n",
       "    </tr>\n",
       "    <tr>\n",
       "      <th>1</th>\n",
       "      <td>banco_azteca</td>\n",
       "      <td>70.50</td>\n",
       "      <td>50.33</td>\n",
       "      <td>1.00</td>\n",
       "      <td>168.31</td>\n",
       "      <td>61.97</td>\n",
       "      <td>69.88</td>\n",
       "      <td>2</td>\n",
       "    </tr>\n",
       "    <tr>\n",
       "      <th>2</th>\n",
       "      <td>banco_3</td>\n",
       "      <td>24.24</td>\n",
       "      <td>11.95</td>\n",
       "      <td>1.00</td>\n",
       "      <td>50.04</td>\n",
       "      <td>8.03</td>\n",
       "      <td>8.01</td>\n",
       "      <td>0</td>\n",
       "    </tr>\n",
       "    <tr>\n",
       "      <th>3</th>\n",
       "      <td>banco_4</td>\n",
       "      <td>57.92</td>\n",
       "      <td>45.27</td>\n",
       "      <td>10.00</td>\n",
       "      <td>99.76</td>\n",
       "      <td>65.05</td>\n",
       "      <td>51.19</td>\n",
       "      <td>2</td>\n",
       "    </tr>\n",
       "    <tr>\n",
       "      <th>4</th>\n",
       "      <td>banco_5</td>\n",
       "      <td>20.28</td>\n",
       "      <td>15.98</td>\n",
       "      <td>4.25</td>\n",
       "      <td>38.24</td>\n",
       "      <td>19.59</td>\n",
       "      <td>13.30</td>\n",
       "      <td>2</td>\n",
       "    </tr>\n",
       "  </tbody>\n",
       "</table>\n",
       "</div>"
      ],
      "text/plain": [
       "          banco  CONSUMO  MICROCRÉDITO  PRÉSTAMOS MÍNIMA  PRÉSTAMOS MÁXIMA  \\\n",
       "0       banco_1    30.67         13.01              3.00             44.65   \n",
       "1  banco_azteca    70.50         50.33              1.00            168.31   \n",
       "2       banco_3    24.24         11.95              1.00             50.04   \n",
       "3       banco_4    57.92         45.27             10.00             99.76   \n",
       "4       banco_5    20.28         15.98              4.25             38.24   \n",
       "\n",
       "   PRÉSTAMOS MODA  PRÉSTAMOS PROM. POND.  clase  \n",
       "0           23.84                  10.12      2  \n",
       "1           61.97                  69.88      2  \n",
       "2            8.03                   8.01      0  \n",
       "3           65.05                  51.19      2  \n",
       "4           19.59                  13.30      2  "
      ]
     },
     "execution_count": 12,
     "metadata": {},
     "output_type": "execute_result"
    }
   ],
   "source": [
    "# Carga de datos desde un archivo CSV\n",
    "bancos_df = pd.read_csv('banco_anonimo.csv')\n",
    "print(\"Datos cargados:\")\n",
    "bancos_df.head()"
   ]
  },
  {
   "cell_type": "markdown",
   "metadata": {},
   "source": [
    "Métodos para visualizar la base de datos:\n",
    "\n",
    "- `head(n)`: muestra los primero n datos.\n",
    "- `tail(n)`: muestra los últimos n datos.\n",
    "- `sample(n)`: muestra de n datos aleatorios. "
   ]
  },
  {
   "cell_type": "code",
   "execution_count": 13,
   "metadata": {},
   "outputs": [
    {
     "data": {
      "text/html": [
       "<div>\n",
       "<style scoped>\n",
       "    .dataframe tbody tr th:only-of-type {\n",
       "        vertical-align: middle;\n",
       "    }\n",
       "\n",
       "    .dataframe tbody tr th {\n",
       "        vertical-align: top;\n",
       "    }\n",
       "\n",
       "    .dataframe thead th {\n",
       "        text-align: right;\n",
       "    }\n",
       "</style>\n",
       "<table border=\"1\" class=\"dataframe\">\n",
       "  <thead>\n",
       "    <tr style=\"text-align: right;\">\n",
       "      <th></th>\n",
       "      <th>banco</th>\n",
       "      <th>CONSUMO</th>\n",
       "      <th>MICROCRÉDITO</th>\n",
       "      <th>PRÉSTAMOS MÍNIMA</th>\n",
       "      <th>PRÉSTAMOS MÁXIMA</th>\n",
       "      <th>PRÉSTAMOS MODA</th>\n",
       "      <th>PRÉSTAMOS PROM. POND.</th>\n",
       "      <th>clase</th>\n",
       "    </tr>\n",
       "  </thead>\n",
       "  <tbody>\n",
       "    <tr>\n",
       "      <th>0</th>\n",
       "      <td>banco_1</td>\n",
       "      <td>30.67</td>\n",
       "      <td>13.01</td>\n",
       "      <td>3.0</td>\n",
       "      <td>44.65</td>\n",
       "      <td>23.84</td>\n",
       "      <td>10.12</td>\n",
       "      <td>2</td>\n",
       "    </tr>\n",
       "    <tr>\n",
       "      <th>1</th>\n",
       "      <td>banco_azteca</td>\n",
       "      <td>70.50</td>\n",
       "      <td>50.33</td>\n",
       "      <td>1.0</td>\n",
       "      <td>168.31</td>\n",
       "      <td>61.97</td>\n",
       "      <td>69.88</td>\n",
       "      <td>2</td>\n",
       "    </tr>\n",
       "    <tr>\n",
       "      <th>2</th>\n",
       "      <td>banco_3</td>\n",
       "      <td>24.24</td>\n",
       "      <td>11.95</td>\n",
       "      <td>1.0</td>\n",
       "      <td>50.04</td>\n",
       "      <td>8.03</td>\n",
       "      <td>8.01</td>\n",
       "      <td>0</td>\n",
       "    </tr>\n",
       "  </tbody>\n",
       "</table>\n",
       "</div>"
      ],
      "text/plain": [
       "          banco  CONSUMO  MICROCRÉDITO  PRÉSTAMOS MÍNIMA  PRÉSTAMOS MÁXIMA  \\\n",
       "0       banco_1    30.67         13.01               3.0             44.65   \n",
       "1  banco_azteca    70.50         50.33               1.0            168.31   \n",
       "2       banco_3    24.24         11.95               1.0             50.04   \n",
       "\n",
       "   PRÉSTAMOS MODA  PRÉSTAMOS PROM. POND.  clase  \n",
       "0           23.84                  10.12      2  \n",
       "1           61.97                  69.88      2  \n",
       "2            8.03                   8.01      0  "
      ]
     },
     "execution_count": 13,
     "metadata": {},
     "output_type": "execute_result"
    }
   ],
   "source": [
    "bancos_df.head(3)"
   ]
  },
  {
   "cell_type": "code",
   "execution_count": 14,
   "metadata": {},
   "outputs": [
    {
     "data": {
      "text/html": [
       "<div>\n",
       "<style scoped>\n",
       "    .dataframe tbody tr th:only-of-type {\n",
       "        vertical-align: middle;\n",
       "    }\n",
       "\n",
       "    .dataframe tbody tr th {\n",
       "        vertical-align: top;\n",
       "    }\n",
       "\n",
       "    .dataframe thead th {\n",
       "        text-align: right;\n",
       "    }\n",
       "</style>\n",
       "<table border=\"1\" class=\"dataframe\">\n",
       "  <thead>\n",
       "    <tr style=\"text-align: right;\">\n",
       "      <th></th>\n",
       "      <th>banco</th>\n",
       "      <th>CONSUMO</th>\n",
       "      <th>MICROCRÉDITO</th>\n",
       "      <th>PRÉSTAMOS MÍNIMA</th>\n",
       "      <th>PRÉSTAMOS MÁXIMA</th>\n",
       "      <th>PRÉSTAMOS MODA</th>\n",
       "      <th>PRÉSTAMOS PROM. POND.</th>\n",
       "      <th>clase</th>\n",
       "    </tr>\n",
       "  </thead>\n",
       "  <tbody>\n",
       "    <tr>\n",
       "      <th>8</th>\n",
       "      <td>banco_9</td>\n",
       "      <td>17.56</td>\n",
       "      <td>13.02</td>\n",
       "      <td>1.00</td>\n",
       "      <td>50.00</td>\n",
       "      <td>18.95</td>\n",
       "      <td>9.48</td>\n",
       "      <td>0</td>\n",
       "    </tr>\n",
       "    <tr>\n",
       "      <th>9</th>\n",
       "      <td>banco_10</td>\n",
       "      <td>13.41</td>\n",
       "      <td>16.81</td>\n",
       "      <td>5.50</td>\n",
       "      <td>38.00</td>\n",
       "      <td>14.94</td>\n",
       "      <td>11.17</td>\n",
       "      <td>2</td>\n",
       "    </tr>\n",
       "    <tr>\n",
       "      <th>10</th>\n",
       "      <td>banco_11</td>\n",
       "      <td>13.05</td>\n",
       "      <td>8.66</td>\n",
       "      <td>4.25</td>\n",
       "      <td>63.58</td>\n",
       "      <td>8.28</td>\n",
       "      <td>7.46</td>\n",
       "      <td>0</td>\n",
       "    </tr>\n",
       "    <tr>\n",
       "      <th>11</th>\n",
       "      <td>banco_12</td>\n",
       "      <td>12.38</td>\n",
       "      <td>11.62</td>\n",
       "      <td>1.00</td>\n",
       "      <td>16.00</td>\n",
       "      <td>15.99</td>\n",
       "      <td>9.81</td>\n",
       "      <td>1</td>\n",
       "    </tr>\n",
       "    <tr>\n",
       "      <th>12</th>\n",
       "      <td>banco_13</td>\n",
       "      <td>46.76</td>\n",
       "      <td>8.90</td>\n",
       "      <td>5.00</td>\n",
       "      <td>60.00</td>\n",
       "      <td>17.00</td>\n",
       "      <td>16.67</td>\n",
       "      <td>2</td>\n",
       "    </tr>\n",
       "    <tr>\n",
       "      <th>13</th>\n",
       "      <td>banco_14</td>\n",
       "      <td>16.06</td>\n",
       "      <td>22.84</td>\n",
       "      <td>1.50</td>\n",
       "      <td>96.00</td>\n",
       "      <td>12.14</td>\n",
       "      <td>8.91</td>\n",
       "      <td>0</td>\n",
       "    </tr>\n",
       "  </tbody>\n",
       "</table>\n",
       "</div>"
      ],
      "text/plain": [
       "       banco  CONSUMO  MICROCRÉDITO  PRÉSTAMOS MÍNIMA  PRÉSTAMOS MÁXIMA  \\\n",
       "8    banco_9    17.56         13.02              1.00             50.00   \n",
       "9   banco_10    13.41         16.81              5.50             38.00   \n",
       "10  banco_11    13.05          8.66              4.25             63.58   \n",
       "11  banco_12    12.38         11.62              1.00             16.00   \n",
       "12  banco_13    46.76          8.90              5.00             60.00   \n",
       "13  banco_14    16.06         22.84              1.50             96.00   \n",
       "\n",
       "    PRÉSTAMOS MODA  PRÉSTAMOS PROM. POND.  clase  \n",
       "8            18.95                   9.48      0  \n",
       "9            14.94                  11.17      2  \n",
       "10            8.28                   7.46      0  \n",
       "11           15.99                   9.81      1  \n",
       "12           17.00                  16.67      2  \n",
       "13           12.14                   8.91      0  "
      ]
     },
     "execution_count": 14,
     "metadata": {},
     "output_type": "execute_result"
    }
   ],
   "source": [
    "bancos_df.tail(6)"
   ]
  },
  {
   "cell_type": "code",
   "execution_count": 15,
   "metadata": {},
   "outputs": [
    {
     "data": {
      "text/html": [
       "<div>\n",
       "<style scoped>\n",
       "    .dataframe tbody tr th:only-of-type {\n",
       "        vertical-align: middle;\n",
       "    }\n",
       "\n",
       "    .dataframe tbody tr th {\n",
       "        vertical-align: top;\n",
       "    }\n",
       "\n",
       "    .dataframe thead th {\n",
       "        text-align: right;\n",
       "    }\n",
       "</style>\n",
       "<table border=\"1\" class=\"dataframe\">\n",
       "  <thead>\n",
       "    <tr style=\"text-align: right;\">\n",
       "      <th></th>\n",
       "      <th>banco</th>\n",
       "      <th>CONSUMO</th>\n",
       "      <th>MICROCRÉDITO</th>\n",
       "      <th>PRÉSTAMOS MÍNIMA</th>\n",
       "      <th>PRÉSTAMOS MÁXIMA</th>\n",
       "      <th>PRÉSTAMOS MODA</th>\n",
       "      <th>PRÉSTAMOS PROM. POND.</th>\n",
       "      <th>clase</th>\n",
       "    </tr>\n",
       "  </thead>\n",
       "  <tbody>\n",
       "    <tr>\n",
       "      <th>8</th>\n",
       "      <td>banco_9</td>\n",
       "      <td>17.56</td>\n",
       "      <td>13.02</td>\n",
       "      <td>1.00</td>\n",
       "      <td>50.00</td>\n",
       "      <td>18.95</td>\n",
       "      <td>9.48</td>\n",
       "      <td>0</td>\n",
       "    </tr>\n",
       "    <tr>\n",
       "      <th>13</th>\n",
       "      <td>banco_14</td>\n",
       "      <td>16.06</td>\n",
       "      <td>22.84</td>\n",
       "      <td>1.50</td>\n",
       "      <td>96.00</td>\n",
       "      <td>12.14</td>\n",
       "      <td>8.91</td>\n",
       "      <td>0</td>\n",
       "    </tr>\n",
       "    <tr>\n",
       "      <th>5</th>\n",
       "      <td>banco_6</td>\n",
       "      <td>17.20</td>\n",
       "      <td>13.11</td>\n",
       "      <td>5.00</td>\n",
       "      <td>30.00</td>\n",
       "      <td>18.04</td>\n",
       "      <td>16.54</td>\n",
       "      <td>2</td>\n",
       "    </tr>\n",
       "    <tr>\n",
       "      <th>0</th>\n",
       "      <td>banco_1</td>\n",
       "      <td>30.67</td>\n",
       "      <td>13.01</td>\n",
       "      <td>3.00</td>\n",
       "      <td>44.65</td>\n",
       "      <td>23.84</td>\n",
       "      <td>10.12</td>\n",
       "      <td>2</td>\n",
       "    </tr>\n",
       "    <tr>\n",
       "      <th>10</th>\n",
       "      <td>banco_11</td>\n",
       "      <td>13.05</td>\n",
       "      <td>8.66</td>\n",
       "      <td>4.25</td>\n",
       "      <td>63.58</td>\n",
       "      <td>8.28</td>\n",
       "      <td>7.46</td>\n",
       "      <td>0</td>\n",
       "    </tr>\n",
       "  </tbody>\n",
       "</table>\n",
       "</div>"
      ],
      "text/plain": [
       "       banco  CONSUMO  MICROCRÉDITO  PRÉSTAMOS MÍNIMA  PRÉSTAMOS MÁXIMA  \\\n",
       "8    banco_9    17.56         13.02              1.00             50.00   \n",
       "13  banco_14    16.06         22.84              1.50             96.00   \n",
       "5    banco_6    17.20         13.11              5.00             30.00   \n",
       "0    banco_1    30.67         13.01              3.00             44.65   \n",
       "10  banco_11    13.05          8.66              4.25             63.58   \n",
       "\n",
       "    PRÉSTAMOS MODA  PRÉSTAMOS PROM. POND.  clase  \n",
       "8            18.95                   9.48      0  \n",
       "13           12.14                   8.91      0  \n",
       "5            18.04                  16.54      2  \n",
       "0            23.84                  10.12      2  \n",
       "10            8.28                   7.46      0  "
      ]
     },
     "execution_count": 15,
     "metadata": {},
     "output_type": "execute_result"
    }
   ],
   "source": [
    "bancos_df.sample(5)"
   ]
  },
  {
   "cell_type": "markdown",
   "metadata": {},
   "source": [
    "A veces es mejor usar sample porque puede que los primeros datos estén bien y queremos obtener una vista más completa de la base de datos."
   ]
  },
  {
   "cell_type": "markdown",
   "metadata": {},
   "source": [
    "Para almacenar un df en memoria se usa el método `df.to_csv(\"ruta_relativa_al_archivo.csv\")` si se desea almacenar el índice se pone el argumento `index=True` que  está así por defecto y si no se pone el `index=False`."
   ]
  },
  {
   "cell_type": "code",
   "execution_count": 16,
   "metadata": {},
   "outputs": [],
   "source": [
    "bancos_df.to_csv('bancos_nuevo.csv')"
   ]
  },
  {
   "cell_type": "markdown",
   "metadata": {},
   "source": [
    "## Navegando por el dataframe"
   ]
  },
  {
   "cell_type": "markdown",
   "metadata": {},
   "source": [
    "Se tienen dos métodos básicos para buscar y desplegar información en pandas, estos métodos se llaman desde el objeto del dataframe como mencionaremos a continuación."
   ]
  },
  {
   "cell_type": "markdown",
   "metadata": {},
   "source": [
    "### Uso de loc\n",
    "\n",
    "`loc` se utiliza para acceder a un grupo de filas y columnas por etiquetas o una matriz booleana. loc incluye tanto el punto final como el punto de inicio. Se utiliza principalmente con etiquetas de columna/nombre de fila.\n",
    "\n",
    "Ejemplo: Seleccionar todas las filas y las columnas CONSUMO y MICROCREDITO para los bancos de la clase 0."
   ]
  },
  {
   "cell_type": "code",
   "execution_count": 17,
   "metadata": {},
   "outputs": [
    {
     "data": {
      "text/html": [
       "<div>\n",
       "<style scoped>\n",
       "    .dataframe tbody tr th:only-of-type {\n",
       "        vertical-align: middle;\n",
       "    }\n",
       "\n",
       "    .dataframe tbody tr th {\n",
       "        vertical-align: top;\n",
       "    }\n",
       "\n",
       "    .dataframe thead th {\n",
       "        text-align: right;\n",
       "    }\n",
       "</style>\n",
       "<table border=\"1\" class=\"dataframe\">\n",
       "  <thead>\n",
       "    <tr style=\"text-align: right;\">\n",
       "      <th></th>\n",
       "      <th>CONSUMO</th>\n",
       "      <th>MICROCRÉDITO</th>\n",
       "    </tr>\n",
       "  </thead>\n",
       "  <tbody>\n",
       "    <tr>\n",
       "      <th>2</th>\n",
       "      <td>24.24</td>\n",
       "      <td>11.95</td>\n",
       "    </tr>\n",
       "    <tr>\n",
       "      <th>8</th>\n",
       "      <td>17.56</td>\n",
       "      <td>13.02</td>\n",
       "    </tr>\n",
       "    <tr>\n",
       "      <th>10</th>\n",
       "      <td>13.05</td>\n",
       "      <td>8.66</td>\n",
       "    </tr>\n",
       "    <tr>\n",
       "      <th>13</th>\n",
       "      <td>16.06</td>\n",
       "      <td>22.84</td>\n",
       "    </tr>\n",
       "  </tbody>\n",
       "</table>\n",
       "</div>"
      ],
      "text/plain": [
       "    CONSUMO  MICROCRÉDITO\n",
       "2     24.24         11.95\n",
       "8     17.56         13.02\n",
       "10    13.05          8.66\n",
       "13    16.06         22.84"
      ]
     },
     "execution_count": 17,
     "metadata": {},
     "output_type": "execute_result"
    }
   ],
   "source": [
    "# Selección usando loc\n",
    "bancos_filtro = bancos_df.loc[bancos_df['clase'] == 0, ['CONSUMO', 'MICROCRÉDITO']]\n",
    "bancos_filtro.head()\n"
   ]
  },
  {
   "cell_type": "markdown",
   "metadata": {},
   "source": [
    "### Uso de iloc\n",
    "`iloc` se utiliza para acceder a un grupo de filas y columnas por posición de índice (enteros). iloc no incluye el punto final, similar a la indexación estándar de Python.\n",
    "\n",
    "Ejemplo: Seleccionar las primeras 5 filas y las primeras 4 columnas (que corresponden a las medidas de las flores)."
   ]
  },
  {
   "cell_type": "code",
   "execution_count": 18,
   "metadata": {},
   "outputs": [
    {
     "data": {
      "text/html": [
       "<div>\n",
       "<style scoped>\n",
       "    .dataframe tbody tr th:only-of-type {\n",
       "        vertical-align: middle;\n",
       "    }\n",
       "\n",
       "    .dataframe tbody tr th {\n",
       "        vertical-align: top;\n",
       "    }\n",
       "\n",
       "    .dataframe thead th {\n",
       "        text-align: right;\n",
       "    }\n",
       "</style>\n",
       "<table border=\"1\" class=\"dataframe\">\n",
       "  <thead>\n",
       "    <tr style=\"text-align: right;\">\n",
       "      <th></th>\n",
       "      <th>banco</th>\n",
       "      <th>CONSUMO</th>\n",
       "      <th>MICROCRÉDITO</th>\n",
       "      <th>PRÉSTAMOS MÍNIMA</th>\n",
       "    </tr>\n",
       "  </thead>\n",
       "  <tbody>\n",
       "    <tr>\n",
       "      <th>0</th>\n",
       "      <td>banco_1</td>\n",
       "      <td>30.67</td>\n",
       "      <td>13.01</td>\n",
       "      <td>3.00</td>\n",
       "    </tr>\n",
       "    <tr>\n",
       "      <th>1</th>\n",
       "      <td>banco_azteca</td>\n",
       "      <td>70.50</td>\n",
       "      <td>50.33</td>\n",
       "      <td>1.00</td>\n",
       "    </tr>\n",
       "    <tr>\n",
       "      <th>2</th>\n",
       "      <td>banco_3</td>\n",
       "      <td>24.24</td>\n",
       "      <td>11.95</td>\n",
       "      <td>1.00</td>\n",
       "    </tr>\n",
       "    <tr>\n",
       "      <th>3</th>\n",
       "      <td>banco_4</td>\n",
       "      <td>57.92</td>\n",
       "      <td>45.27</td>\n",
       "      <td>10.00</td>\n",
       "    </tr>\n",
       "    <tr>\n",
       "      <th>4</th>\n",
       "      <td>banco_5</td>\n",
       "      <td>20.28</td>\n",
       "      <td>15.98</td>\n",
       "      <td>4.25</td>\n",
       "    </tr>\n",
       "  </tbody>\n",
       "</table>\n",
       "</div>"
      ],
      "text/plain": [
       "          banco  CONSUMO  MICROCRÉDITO  PRÉSTAMOS MÍNIMA\n",
       "0       banco_1    30.67         13.01              3.00\n",
       "1  banco_azteca    70.50         50.33              1.00\n",
       "2       banco_3    24.24         11.95              1.00\n",
       "3       banco_4    57.92         45.27             10.00\n",
       "4       banco_5    20.28         15.98              4.25"
      ]
     },
     "execution_count": 18,
     "metadata": {},
     "output_type": "execute_result"
    }
   ],
   "source": [
    "# Selección usando iloc\n",
    "primeras_cinco_filas = bancos_df.iloc[0:5, 0:4]\n",
    "primeras_cinco_filas\n"
   ]
  },
  {
   "cell_type": "markdown",
   "metadata": {},
   "source": [
    "### Diferencias clave\n",
    "\n",
    "- loc: Accede por el nombre de la columna/fila o condición booleana. Es inclusivo en todos los índices.\n",
    "- iloc: Accede por índices enteros de la posición de las columnas. Es inclusivo en el límite izquierdo y exclusivo en el derecho."
   ]
  },
  {
   "cell_type": "markdown",
   "metadata": {},
   "source": [
    "## Manipulación simple de columnas\n",
    "\n",
    "Realizar operaciones aritméticas básicas sobre las columnas de un DataFrame es sencillo con Pandas. Podemos sumar, restar, multiplicar y dividir columnas directamente. A continuación, multiplicaremos dos columnas y crearemos una nueva columna con el resultado.\n"
   ]
  },
  {
   "cell_type": "code",
   "execution_count": 19,
   "metadata": {},
   "outputs": [
    {
     "name": "stdout",
     "output_type": "stream",
     "text": [
      "DataFrame con nueva columna 'PROMEDIO_CONSUMO_MICRO':\n"
     ]
    },
    {
     "data": {
      "text/html": [
       "<div>\n",
       "<style scoped>\n",
       "    .dataframe tbody tr th:only-of-type {\n",
       "        vertical-align: middle;\n",
       "    }\n",
       "\n",
       "    .dataframe tbody tr th {\n",
       "        vertical-align: top;\n",
       "    }\n",
       "\n",
       "    .dataframe thead th {\n",
       "        text-align: right;\n",
       "    }\n",
       "</style>\n",
       "<table border=\"1\" class=\"dataframe\">\n",
       "  <thead>\n",
       "    <tr style=\"text-align: right;\">\n",
       "      <th></th>\n",
       "      <th>banco</th>\n",
       "      <th>CONSUMO</th>\n",
       "      <th>MICROCRÉDITO</th>\n",
       "      <th>PRÉSTAMOS MÍNIMA</th>\n",
       "      <th>PRÉSTAMOS MÁXIMA</th>\n",
       "      <th>PRÉSTAMOS MODA</th>\n",
       "      <th>PRÉSTAMOS PROM. POND.</th>\n",
       "      <th>clase</th>\n",
       "      <th>PROMEDIO_CONSUMO_MICRO</th>\n",
       "    </tr>\n",
       "  </thead>\n",
       "  <tbody>\n",
       "    <tr>\n",
       "      <th>0</th>\n",
       "      <td>banco_1</td>\n",
       "      <td>30.67</td>\n",
       "      <td>13.01</td>\n",
       "      <td>3.00</td>\n",
       "      <td>44.65</td>\n",
       "      <td>23.84</td>\n",
       "      <td>10.12</td>\n",
       "      <td>2</td>\n",
       "      <td>21.840</td>\n",
       "    </tr>\n",
       "    <tr>\n",
       "      <th>1</th>\n",
       "      <td>banco_azteca</td>\n",
       "      <td>70.50</td>\n",
       "      <td>50.33</td>\n",
       "      <td>1.00</td>\n",
       "      <td>168.31</td>\n",
       "      <td>61.97</td>\n",
       "      <td>69.88</td>\n",
       "      <td>2</td>\n",
       "      <td>60.415</td>\n",
       "    </tr>\n",
       "    <tr>\n",
       "      <th>2</th>\n",
       "      <td>banco_3</td>\n",
       "      <td>24.24</td>\n",
       "      <td>11.95</td>\n",
       "      <td>1.00</td>\n",
       "      <td>50.04</td>\n",
       "      <td>8.03</td>\n",
       "      <td>8.01</td>\n",
       "      <td>0</td>\n",
       "      <td>18.095</td>\n",
       "    </tr>\n",
       "    <tr>\n",
       "      <th>3</th>\n",
       "      <td>banco_4</td>\n",
       "      <td>57.92</td>\n",
       "      <td>45.27</td>\n",
       "      <td>10.00</td>\n",
       "      <td>99.76</td>\n",
       "      <td>65.05</td>\n",
       "      <td>51.19</td>\n",
       "      <td>2</td>\n",
       "      <td>51.595</td>\n",
       "    </tr>\n",
       "    <tr>\n",
       "      <th>4</th>\n",
       "      <td>banco_5</td>\n",
       "      <td>20.28</td>\n",
       "      <td>15.98</td>\n",
       "      <td>4.25</td>\n",
       "      <td>38.24</td>\n",
       "      <td>19.59</td>\n",
       "      <td>13.30</td>\n",
       "      <td>2</td>\n",
       "      <td>18.130</td>\n",
       "    </tr>\n",
       "  </tbody>\n",
       "</table>\n",
       "</div>"
      ],
      "text/plain": [
       "          banco  CONSUMO  MICROCRÉDITO  PRÉSTAMOS MÍNIMA  PRÉSTAMOS MÁXIMA  \\\n",
       "0       banco_1    30.67         13.01              3.00             44.65   \n",
       "1  banco_azteca    70.50         50.33              1.00            168.31   \n",
       "2       banco_3    24.24         11.95              1.00             50.04   \n",
       "3       banco_4    57.92         45.27             10.00             99.76   \n",
       "4       banco_5    20.28         15.98              4.25             38.24   \n",
       "\n",
       "   PRÉSTAMOS MODA  PRÉSTAMOS PROM. POND.  clase  PROMEDIO_CONSUMO_MICRO  \n",
       "0           23.84                  10.12      2                  21.840  \n",
       "1           61.97                  69.88      2                  60.415  \n",
       "2            8.03                   8.01      0                  18.095  \n",
       "3           65.05                  51.19      2                  51.595  \n",
       "4           19.59                  13.30      2                  18.130  "
      ]
     },
     "execution_count": 19,
     "metadata": {},
     "output_type": "execute_result"
    }
   ],
   "source": [
    "# Multiplicar la longitud y el ancho del sépalo para obtener el área\n",
    "bancos_df['PROMEDIO_CONSUMO_MICRO'] = (bancos_df['CONSUMO'] + bancos_df['MICROCRÉDITO'])/2\n",
    "print(\"DataFrame con nueva columna 'PROMEDIO_CONSUMO_MICRO':\")\n",
    "bancos_df.head()\n"
   ]
  },
  {
   "cell_type": "markdown",
   "metadata": {},
   "source": [
    "## *Masking* básico en Pandas\n",
    "\n",
    "El \"masking\" en Pandas se refiere al proceso de seleccionar o modificar filas de un `DataFrame` o elementos de una `Series` basado en condiciones booleanas. Es una técnica poderosa para filtrar datos y realizar operaciones condicionales. A continuación, exploraremos cómo aplicar el masking para trabajar con el dataset de Iris, un conjunto de datos clásico en el campo de machine learning y estadísticas.\n"
   ]
  },
  {
   "cell_type": "code",
   "execution_count": 20,
   "metadata": {},
   "outputs": [
    {
     "data": {
      "text/html": [
       "<div>\n",
       "<style scoped>\n",
       "    .dataframe tbody tr th:only-of-type {\n",
       "        vertical-align: middle;\n",
       "    }\n",
       "\n",
       "    .dataframe tbody tr th {\n",
       "        vertical-align: top;\n",
       "    }\n",
       "\n",
       "    .dataframe thead th {\n",
       "        text-align: right;\n",
       "    }\n",
       "</style>\n",
       "<table border=\"1\" class=\"dataframe\">\n",
       "  <thead>\n",
       "    <tr style=\"text-align: right;\">\n",
       "      <th></th>\n",
       "      <th>banco</th>\n",
       "      <th>CONSUMO</th>\n",
       "      <th>MICROCRÉDITO</th>\n",
       "      <th>PRÉSTAMOS MÍNIMA</th>\n",
       "      <th>PRÉSTAMOS MÁXIMA</th>\n",
       "      <th>PRÉSTAMOS MODA</th>\n",
       "      <th>PRÉSTAMOS PROM. POND.</th>\n",
       "      <th>clase</th>\n",
       "      <th>PROMEDIO_CONSUMO_MICRO</th>\n",
       "    </tr>\n",
       "  </thead>\n",
       "  <tbody>\n",
       "    <tr>\n",
       "      <th>0</th>\n",
       "      <td>banco_1</td>\n",
       "      <td>30.67</td>\n",
       "      <td>13.01</td>\n",
       "      <td>3.00</td>\n",
       "      <td>44.65</td>\n",
       "      <td>23.84</td>\n",
       "      <td>10.12</td>\n",
       "      <td>2</td>\n",
       "      <td>21.840</td>\n",
       "    </tr>\n",
       "    <tr>\n",
       "      <th>1</th>\n",
       "      <td>banco_azteca</td>\n",
       "      <td>70.50</td>\n",
       "      <td>50.33</td>\n",
       "      <td>1.00</td>\n",
       "      <td>168.31</td>\n",
       "      <td>61.97</td>\n",
       "      <td>69.88</td>\n",
       "      <td>2</td>\n",
       "      <td>60.415</td>\n",
       "    </tr>\n",
       "    <tr>\n",
       "      <th>3</th>\n",
       "      <td>banco_4</td>\n",
       "      <td>57.92</td>\n",
       "      <td>45.27</td>\n",
       "      <td>10.00</td>\n",
       "      <td>99.76</td>\n",
       "      <td>65.05</td>\n",
       "      <td>51.19</td>\n",
       "      <td>2</td>\n",
       "      <td>51.595</td>\n",
       "    </tr>\n",
       "    <tr>\n",
       "      <th>4</th>\n",
       "      <td>banco_5</td>\n",
       "      <td>20.28</td>\n",
       "      <td>15.98</td>\n",
       "      <td>4.25</td>\n",
       "      <td>38.24</td>\n",
       "      <td>19.59</td>\n",
       "      <td>13.30</td>\n",
       "      <td>2</td>\n",
       "      <td>18.130</td>\n",
       "    </tr>\n",
       "    <tr>\n",
       "      <th>5</th>\n",
       "      <td>banco_6</td>\n",
       "      <td>17.20</td>\n",
       "      <td>13.11</td>\n",
       "      <td>5.00</td>\n",
       "      <td>30.00</td>\n",
       "      <td>18.04</td>\n",
       "      <td>16.54</td>\n",
       "      <td>2</td>\n",
       "      <td>15.155</td>\n",
       "    </tr>\n",
       "  </tbody>\n",
       "</table>\n",
       "</div>"
      ],
      "text/plain": [
       "          banco  CONSUMO  MICROCRÉDITO  PRÉSTAMOS MÍNIMA  PRÉSTAMOS MÁXIMA  \\\n",
       "0       banco_1    30.67         13.01              3.00             44.65   \n",
       "1  banco_azteca    70.50         50.33              1.00            168.31   \n",
       "3       banco_4    57.92         45.27             10.00             99.76   \n",
       "4       banco_5    20.28         15.98              4.25             38.24   \n",
       "5       banco_6    17.20         13.11              5.00             30.00   \n",
       "\n",
       "   PRÉSTAMOS MODA  PRÉSTAMOS PROM. POND.  clase  PROMEDIO_CONSUMO_MICRO  \n",
       "0           23.84                  10.12      2                  21.840  \n",
       "1           61.97                  69.88      2                  60.415  \n",
       "3           65.05                  51.19      2                  51.595  \n",
       "4           19.59                  13.30      2                  18.130  \n",
       "5           18.04                  16.54      2                  15.155  "
      ]
     },
     "execution_count": 20,
     "metadata": {},
     "output_type": "execute_result"
    }
   ],
   "source": [
    "# Creación de la máscara booleana\n",
    "mask = bancos_df['clase'] == 2\n",
    "\n",
    "# Aplicación de la máscara al DataFrame\n",
    "bancos_clase2 = bancos_df[mask]\n",
    "\n",
    "bancos_clase2.head()\n"
   ]
  },
  {
   "cell_type": "markdown",
   "metadata": {},
   "source": [
    "### Uso de *Masking* para operaciones condicionales\n",
    "\n",
    "El masking no solo se utiliza para filtrar datos, sino también para aplicar operaciones a filas específicas. Por ejemplo, incrementaremos la tasa `PRÉSTAMOS MÍNIMA` en 0.5 para la clase 2.\n"
   ]
  },
  {
   "cell_type": "code",
   "execution_count": 21,
   "metadata": {},
   "outputs": [
    {
     "data": {
      "text/html": [
       "<div>\n",
       "<style scoped>\n",
       "    .dataframe tbody tr th:only-of-type {\n",
       "        vertical-align: middle;\n",
       "    }\n",
       "\n",
       "    .dataframe tbody tr th {\n",
       "        vertical-align: top;\n",
       "    }\n",
       "\n",
       "    .dataframe thead th {\n",
       "        text-align: right;\n",
       "    }\n",
       "</style>\n",
       "<table border=\"1\" class=\"dataframe\">\n",
       "  <thead>\n",
       "    <tr style=\"text-align: right;\">\n",
       "      <th></th>\n",
       "      <th>banco</th>\n",
       "      <th>CONSUMO</th>\n",
       "      <th>MICROCRÉDITO</th>\n",
       "      <th>PRÉSTAMOS MÍNIMA</th>\n",
       "      <th>PRÉSTAMOS MÁXIMA</th>\n",
       "      <th>PRÉSTAMOS MODA</th>\n",
       "      <th>PRÉSTAMOS PROM. POND.</th>\n",
       "      <th>clase</th>\n",
       "      <th>PROMEDIO_CONSUMO_MICRO</th>\n",
       "    </tr>\n",
       "  </thead>\n",
       "  <tbody>\n",
       "    <tr>\n",
       "      <th>0</th>\n",
       "      <td>banco_1</td>\n",
       "      <td>30.67</td>\n",
       "      <td>13.01</td>\n",
       "      <td>3.50</td>\n",
       "      <td>44.65</td>\n",
       "      <td>23.84</td>\n",
       "      <td>10.12</td>\n",
       "      <td>2</td>\n",
       "      <td>21.840</td>\n",
       "    </tr>\n",
       "    <tr>\n",
       "      <th>1</th>\n",
       "      <td>banco_azteca</td>\n",
       "      <td>70.50</td>\n",
       "      <td>50.33</td>\n",
       "      <td>1.50</td>\n",
       "      <td>168.31</td>\n",
       "      <td>61.97</td>\n",
       "      <td>69.88</td>\n",
       "      <td>2</td>\n",
       "      <td>60.415</td>\n",
       "    </tr>\n",
       "    <tr>\n",
       "      <th>3</th>\n",
       "      <td>banco_4</td>\n",
       "      <td>57.92</td>\n",
       "      <td>45.27</td>\n",
       "      <td>10.50</td>\n",
       "      <td>99.76</td>\n",
       "      <td>65.05</td>\n",
       "      <td>51.19</td>\n",
       "      <td>2</td>\n",
       "      <td>51.595</td>\n",
       "    </tr>\n",
       "    <tr>\n",
       "      <th>4</th>\n",
       "      <td>banco_5</td>\n",
       "      <td>20.28</td>\n",
       "      <td>15.98</td>\n",
       "      <td>4.75</td>\n",
       "      <td>38.24</td>\n",
       "      <td>19.59</td>\n",
       "      <td>13.30</td>\n",
       "      <td>2</td>\n",
       "      <td>18.130</td>\n",
       "    </tr>\n",
       "    <tr>\n",
       "      <th>5</th>\n",
       "      <td>banco_6</td>\n",
       "      <td>17.20</td>\n",
       "      <td>13.11</td>\n",
       "      <td>5.50</td>\n",
       "      <td>30.00</td>\n",
       "      <td>18.04</td>\n",
       "      <td>16.54</td>\n",
       "      <td>2</td>\n",
       "      <td>15.155</td>\n",
       "    </tr>\n",
       "  </tbody>\n",
       "</table>\n",
       "</div>"
      ],
      "text/plain": [
       "          banco  CONSUMO  MICROCRÉDITO  PRÉSTAMOS MÍNIMA  PRÉSTAMOS MÁXIMA  \\\n",
       "0       banco_1    30.67         13.01              3.50             44.65   \n",
       "1  banco_azteca    70.50         50.33              1.50            168.31   \n",
       "3       banco_4    57.92         45.27             10.50             99.76   \n",
       "4       banco_5    20.28         15.98              4.75             38.24   \n",
       "5       banco_6    17.20         13.11              5.50             30.00   \n",
       "\n",
       "   PRÉSTAMOS MODA  PRÉSTAMOS PROM. POND.  clase  PROMEDIO_CONSUMO_MICRO  \n",
       "0           23.84                  10.12      2                  21.840  \n",
       "1           61.97                  69.88      2                  60.415  \n",
       "3           65.05                  51.19      2                  51.595  \n",
       "4           19.59                  13.30      2                  18.130  \n",
       "5           18.04                  16.54      2                  15.155  "
      ]
     },
     "execution_count": 21,
     "metadata": {},
     "output_type": "execute_result"
    }
   ],
   "source": [
    "# Aplicando operación condicional usando masking\n",
    "bancos_df.loc[mask, 'PRÉSTAMOS MÍNIMA'] += 0.5\n",
    "\n",
    "# Verificando los cambios\n",
    "bancos_df[mask].head()"
   ]
  },
  {
   "cell_type": "markdown",
   "metadata": {},
   "source": [
    "## Uso de índices"
   ]
  },
  {
   "cell_type": "code",
   "execution_count": 40,
   "metadata": {},
   "outputs": [
    {
     "data": {
      "text/html": [
       "<div>\n",
       "<style scoped>\n",
       "    .dataframe tbody tr th:only-of-type {\n",
       "        vertical-align: middle;\n",
       "    }\n",
       "\n",
       "    .dataframe tbody tr th {\n",
       "        vertical-align: top;\n",
       "    }\n",
       "\n",
       "    .dataframe thead th {\n",
       "        text-align: right;\n",
       "    }\n",
       "</style>\n",
       "<table border=\"1\" class=\"dataframe\">\n",
       "  <thead>\n",
       "    <tr style=\"text-align: right;\">\n",
       "      <th></th>\n",
       "      <th>CONSUMO</th>\n",
       "      <th>MICROCRÉDITO</th>\n",
       "      <th>PRÉSTAMOS MÍNIMA</th>\n",
       "      <th>PRÉSTAMOS MÁXIMA</th>\n",
       "      <th>PRÉSTAMOS MODA</th>\n",
       "      <th>PRÉSTAMOS PROM. POND.</th>\n",
       "      <th>clase</th>\n",
       "      <th>PROMEDIO_CONSUMO_MICRO</th>\n",
       "    </tr>\n",
       "    <tr>\n",
       "      <th>banco</th>\n",
       "      <th></th>\n",
       "      <th></th>\n",
       "      <th></th>\n",
       "      <th></th>\n",
       "      <th></th>\n",
       "      <th></th>\n",
       "      <th></th>\n",
       "      <th></th>\n",
       "    </tr>\n",
       "  </thead>\n",
       "  <tbody>\n",
       "    <tr>\n",
       "      <th>banco_1</th>\n",
       "      <td>30.67</td>\n",
       "      <td>13.01</td>\n",
       "      <td>3.50</td>\n",
       "      <td>44.65</td>\n",
       "      <td>23.84</td>\n",
       "      <td>10.12</td>\n",
       "      <td>2</td>\n",
       "      <td>21.840</td>\n",
       "    </tr>\n",
       "    <tr>\n",
       "      <th>banco_azteca</th>\n",
       "      <td>70.50</td>\n",
       "      <td>50.33</td>\n",
       "      <td>1.50</td>\n",
       "      <td>168.31</td>\n",
       "      <td>61.97</td>\n",
       "      <td>69.88</td>\n",
       "      <td>2</td>\n",
       "      <td>60.415</td>\n",
       "    </tr>\n",
       "    <tr>\n",
       "      <th>banco_3</th>\n",
       "      <td>24.24</td>\n",
       "      <td>11.95</td>\n",
       "      <td>1.00</td>\n",
       "      <td>50.04</td>\n",
       "      <td>8.03</td>\n",
       "      <td>8.01</td>\n",
       "      <td>0</td>\n",
       "      <td>18.095</td>\n",
       "    </tr>\n",
       "    <tr>\n",
       "      <th>banco_4</th>\n",
       "      <td>57.92</td>\n",
       "      <td>45.27</td>\n",
       "      <td>10.50</td>\n",
       "      <td>99.76</td>\n",
       "      <td>65.05</td>\n",
       "      <td>51.19</td>\n",
       "      <td>2</td>\n",
       "      <td>51.595</td>\n",
       "    </tr>\n",
       "    <tr>\n",
       "      <th>banco_5</th>\n",
       "      <td>20.28</td>\n",
       "      <td>15.98</td>\n",
       "      <td>4.75</td>\n",
       "      <td>38.24</td>\n",
       "      <td>19.59</td>\n",
       "      <td>13.30</td>\n",
       "      <td>2</td>\n",
       "      <td>18.130</td>\n",
       "    </tr>\n",
       "    <tr>\n",
       "      <th>banco_6</th>\n",
       "      <td>17.20</td>\n",
       "      <td>13.11</td>\n",
       "      <td>5.50</td>\n",
       "      <td>30.00</td>\n",
       "      <td>18.04</td>\n",
       "      <td>16.54</td>\n",
       "      <td>2</td>\n",
       "      <td>15.155</td>\n",
       "    </tr>\n",
       "    <tr>\n",
       "      <th>banco_7</th>\n",
       "      <td>48.42</td>\n",
       "      <td>8.22</td>\n",
       "      <td>1.50</td>\n",
       "      <td>45.00</td>\n",
       "      <td>24.00</td>\n",
       "      <td>17.80</td>\n",
       "      <td>2</td>\n",
       "      <td>28.320</td>\n",
       "    </tr>\n",
       "    <tr>\n",
       "      <th>banco_8</th>\n",
       "      <td>32.32</td>\n",
       "      <td>12.24</td>\n",
       "      <td>3.75</td>\n",
       "      <td>33.00</td>\n",
       "      <td>8.03</td>\n",
       "      <td>8.58</td>\n",
       "      <td>2</td>\n",
       "      <td>22.280</td>\n",
       "    </tr>\n",
       "    <tr>\n",
       "      <th>banco_9</th>\n",
       "      <td>17.56</td>\n",
       "      <td>13.02</td>\n",
       "      <td>1.00</td>\n",
       "      <td>50.00</td>\n",
       "      <td>18.95</td>\n",
       "      <td>9.48</td>\n",
       "      <td>0</td>\n",
       "      <td>15.290</td>\n",
       "    </tr>\n",
       "    <tr>\n",
       "      <th>banco_10</th>\n",
       "      <td>13.41</td>\n",
       "      <td>16.81</td>\n",
       "      <td>6.00</td>\n",
       "      <td>38.00</td>\n",
       "      <td>14.94</td>\n",
       "      <td>11.17</td>\n",
       "      <td>2</td>\n",
       "      <td>15.110</td>\n",
       "    </tr>\n",
       "    <tr>\n",
       "      <th>banco_11</th>\n",
       "      <td>13.05</td>\n",
       "      <td>8.66</td>\n",
       "      <td>4.25</td>\n",
       "      <td>63.58</td>\n",
       "      <td>8.28</td>\n",
       "      <td>7.46</td>\n",
       "      <td>0</td>\n",
       "      <td>10.855</td>\n",
       "    </tr>\n",
       "    <tr>\n",
       "      <th>banco_12</th>\n",
       "      <td>12.38</td>\n",
       "      <td>11.62</td>\n",
       "      <td>1.00</td>\n",
       "      <td>16.00</td>\n",
       "      <td>15.99</td>\n",
       "      <td>9.81</td>\n",
       "      <td>1</td>\n",
       "      <td>12.000</td>\n",
       "    </tr>\n",
       "    <tr>\n",
       "      <th>banco_13</th>\n",
       "      <td>46.76</td>\n",
       "      <td>8.90</td>\n",
       "      <td>5.50</td>\n",
       "      <td>60.00</td>\n",
       "      <td>17.00</td>\n",
       "      <td>16.67</td>\n",
       "      <td>2</td>\n",
       "      <td>27.830</td>\n",
       "    </tr>\n",
       "    <tr>\n",
       "      <th>banco_14</th>\n",
       "      <td>16.06</td>\n",
       "      <td>22.84</td>\n",
       "      <td>1.50</td>\n",
       "      <td>96.00</td>\n",
       "      <td>12.14</td>\n",
       "      <td>8.91</td>\n",
       "      <td>0</td>\n",
       "      <td>19.450</td>\n",
       "    </tr>\n",
       "  </tbody>\n",
       "</table>\n",
       "</div>"
      ],
      "text/plain": [
       "              CONSUMO  MICROCRÉDITO  PRÉSTAMOS MÍNIMA  PRÉSTAMOS MÁXIMA  \\\n",
       "banco                                                                     \n",
       "banco_1         30.67         13.01              3.50             44.65   \n",
       "banco_azteca    70.50         50.33              1.50            168.31   \n",
       "banco_3         24.24         11.95              1.00             50.04   \n",
       "banco_4         57.92         45.27             10.50             99.76   \n",
       "banco_5         20.28         15.98              4.75             38.24   \n",
       "banco_6         17.20         13.11              5.50             30.00   \n",
       "banco_7         48.42          8.22              1.50             45.00   \n",
       "banco_8         32.32         12.24              3.75             33.00   \n",
       "banco_9         17.56         13.02              1.00             50.00   \n",
       "banco_10        13.41         16.81              6.00             38.00   \n",
       "banco_11        13.05          8.66              4.25             63.58   \n",
       "banco_12        12.38         11.62              1.00             16.00   \n",
       "banco_13        46.76          8.90              5.50             60.00   \n",
       "banco_14        16.06         22.84              1.50             96.00   \n",
       "\n",
       "              PRÉSTAMOS MODA  PRÉSTAMOS PROM. POND.  clase  \\\n",
       "banco                                                        \n",
       "banco_1                23.84                  10.12      2   \n",
       "banco_azteca           61.97                  69.88      2   \n",
       "banco_3                 8.03                   8.01      0   \n",
       "banco_4                65.05                  51.19      2   \n",
       "banco_5                19.59                  13.30      2   \n",
       "banco_6                18.04                  16.54      2   \n",
       "banco_7                24.00                  17.80      2   \n",
       "banco_8                 8.03                   8.58      2   \n",
       "banco_9                18.95                   9.48      0   \n",
       "banco_10               14.94                  11.17      2   \n",
       "banco_11                8.28                   7.46      0   \n",
       "banco_12               15.99                   9.81      1   \n",
       "banco_13               17.00                  16.67      2   \n",
       "banco_14               12.14                   8.91      0   \n",
       "\n",
       "              PROMEDIO_CONSUMO_MICRO  \n",
       "banco                                 \n",
       "banco_1                       21.840  \n",
       "banco_azteca                  60.415  \n",
       "banco_3                       18.095  \n",
       "banco_4                       51.595  \n",
       "banco_5                       18.130  \n",
       "banco_6                       15.155  \n",
       "banco_7                       28.320  \n",
       "banco_8                       22.280  \n",
       "banco_9                       15.290  \n",
       "banco_10                      15.110  \n",
       "banco_11                      10.855  \n",
       "banco_12                      12.000  \n",
       "banco_13                      27.830  \n",
       "banco_14                      19.450  "
      ]
     },
     "execution_count": 40,
     "metadata": {},
     "output_type": "execute_result"
    }
   ],
   "source": [
    "bancos_df_idx = bancos_df.set_index('banco')\n",
    "bancos_df_idx"
   ]
  },
  {
   "cell_type": "code",
   "execution_count": 45,
   "metadata": {},
   "outputs": [
    {
     "name": "stdout",
     "output_type": "stream",
     "text": [
      "42.5 µs ± 4.19 µs per loop (mean ± std. dev. of 7 runs, 10,000 loops each)\n"
     ]
    }
   ],
   "source": [
    "%timeit bancos_df_idx.loc['banco_azteca',:]"
   ]
  },
  {
   "cell_type": "code",
   "execution_count": 42,
   "metadata": {},
   "outputs": [
    {
     "name": "stdout",
     "output_type": "stream",
     "text": [
      "160 µs ± 13 µs per loop (mean ± std. dev. of 7 runs, 10,000 loops each)\n"
     ]
    }
   ],
   "source": [
    "%timeit bancos_df[bancos_df['banco']=='banco_azteca']"
   ]
  },
  {
   "cell_type": "markdown",
   "metadata": {},
   "source": [
    "Los índices tienen que ser únicos porque son la manera de referenciar a una fila única (recuerden los [diccionarios](../sesion_1/01_02-Estructuras_datos_Python.ipynb)). "
   ]
  },
  {
   "cell_type": "markdown",
   "metadata": {},
   "source": [
    "<div style='background-color:#4874f7; color:white; padding:10px;'>\n",
    "    <h2>Pregunta</h2>\n",
    "    ¿Cómo comprobaríamos que una columna puede ser un índice?    \n",
    "</div>\n",
    "\n"
   ]
  },
  {
   "cell_type": "code",
   "execution_count": 51,
   "metadata": {
    "tags": [
     "hide-input"
    ]
   },
   "outputs": [
    {
     "data": {
      "text/plain": [
       "True"
      ]
     },
     "execution_count": 51,
     "metadata": {},
     "output_type": "execute_result"
    }
   ],
   "source": [
    "bancos_unicos = bancos_df['banco'].unique()\n",
    "longitud_bancos_unicos = len(bancos_unicos)\n",
    "\n",
    "len(bancos_df)==longitud_bancos_unicos"
   ]
  },
  {
   "cell_type": "markdown",
   "metadata": {},
   "source": [
    "## Visualización básica de Dataframes\n",
    "\n",
    "La visualización es una parte crucial del análisis de datos. Pandas, junto con Matplotlib, facilita la creación de gráficos a partir de DataFrames. Veamos cómo visualizar la relación entre dos variables con un gráfico de dispersión.\n"
   ]
  },
  {
   "cell_type": "code",
   "execution_count": 22,
   "metadata": {},
   "outputs": [
    {
     "data": {
      "image/png": "[encoded data removed]",
      "text/plain": [
       "<Figure size 640x480 with 1 Axes>"
      ]
     },
     "metadata": {},
     "output_type": "display_data"
    }
   ],
   "source": [
    "import matplotlib.pyplot as plt\n",
    "plt.style.use('ggplot') # Estilo de gráficos ggplot\n",
    "bancos_df.plot(kind='scatter', x='CONSUMO', y='MICROCRÉDITO', title='CONSUMO VS MICROCRÉDITO')\n",
    "plt.show()\n"
   ]
  },
  {
   "cell_type": "code",
   "execution_count": 23,
   "metadata": {},
   "outputs": [
    {
     "data": {
      "image/png": "[encoded data removed]",
      "text/plain": [
       "<Figure size 640x480 with 1 Axes>"
      ]
     },
     "metadata": {},
     "output_type": "display_data"
    }
   ],
   "source": [
    "#Otro tipo de visualización con líneas\n",
    "bancos_df.drop(columns=['clase']).plot()\n",
    "plt.show()"
   ]
  },
  {
   "cell_type": "markdown",
   "metadata": {},
   "source": [
    "## Ejemplo de conjunto de ventas"
   ]
  },
  {
   "cell_type": "markdown",
   "metadata": {},
   "source": [
    "Ahora estudiaremos el conjunto de ventas contenido dentro del archivo `ventas.csv` este archivo contiene las ganancias de cada departamento de una tienda a lo largo del tiempo.\n",
    "\n",
    "Pueden {download}`descargar el archivo csv aquí <./ventas.csv>`.\n"
   ]
  },
  {
   "cell_type": "code",
   "execution_count": 24,
   "metadata": {},
   "outputs": [
    {
     "data": {
      "text/html": [
       "<div>\n",
       "<style scoped>\n",
       "    .dataframe tbody tr th:only-of-type {\n",
       "        vertical-align: middle;\n",
       "    }\n",
       "\n",
       "    .dataframe tbody tr th {\n",
       "        vertical-align: top;\n",
       "    }\n",
       "\n",
       "    .dataframe thead th {\n",
       "        text-align: right;\n",
       "    }\n",
       "</style>\n",
       "<table border=\"1\" class=\"dataframe\">\n",
       "  <thead>\n",
       "    <tr style=\"text-align: right;\">\n",
       "      <th></th>\n",
       "      <th>Departamento</th>\n",
       "      <th>Monto_Venta</th>\n",
       "      <th>Fecha</th>\n",
       "    </tr>\n",
       "  </thead>\n",
       "  <tbody>\n",
       "    <tr>\n",
       "      <th>96</th>\n",
       "      <td>Electrónica</td>\n",
       "      <td>2489</td>\n",
       "      <td>2022-04-07</td>\n",
       "    </tr>\n",
       "    <tr>\n",
       "      <th>51</th>\n",
       "      <td>Hogar</td>\n",
       "      <td>1820</td>\n",
       "      <td>2022-02-21</td>\n",
       "    </tr>\n",
       "    <tr>\n",
       "      <th>52</th>\n",
       "      <td>Hogar</td>\n",
       "      <td>691</td>\n",
       "      <td>2022-02-22</td>\n",
       "    </tr>\n",
       "    <tr>\n",
       "      <th>55</th>\n",
       "      <td>Ropa</td>\n",
       "      <td>307</td>\n",
       "      <td>2022-02-25</td>\n",
       "    </tr>\n",
       "    <tr>\n",
       "      <th>21</th>\n",
       "      <td>Electrónica</td>\n",
       "      <td>4803</td>\n",
       "      <td>2022-01-22</td>\n",
       "    </tr>\n",
       "  </tbody>\n",
       "</table>\n",
       "</div>"
      ],
      "text/plain": [
       "   Departamento  Monto_Venta       Fecha\n",
       "96  Electrónica         2489  2022-04-07\n",
       "51        Hogar         1820  2022-02-21\n",
       "52        Hogar          691  2022-02-22\n",
       "55         Ropa          307  2022-02-25\n",
       "21  Electrónica         4803  2022-01-22"
      ]
     },
     "execution_count": 24,
     "metadata": {},
     "output_type": "execute_result"
    }
   ],
   "source": [
    "ventas_df = pd.read_csv('./ventas.csv')\n",
    "ventas_df.sample(5)"
   ]
  },
  {
   "cell_type": "markdown",
   "metadata": {},
   "source": [
    "### ¿Cuántos departamentos hay?"
   ]
  },
  {
   "cell_type": "code",
   "execution_count": 25,
   "metadata": {},
   "outputs": [
    {
     "data": {
      "text/plain": [
       "array(['Alimentos', 'Electrónica', 'Juguetes', 'Ropa', 'Hogar'],\n",
       "      dtype=object)"
      ]
     },
     "execution_count": 25,
     "metadata": {},
     "output_type": "execute_result"
    }
   ],
   "source": [
    "ventas_df['Departamento'].unique()"
   ]
  },
  {
   "cell_type": "markdown",
   "metadata": {},
   "source": [
    "## ¿Cuántos registros hay de cada uno?"
   ]
  },
  {
   "cell_type": "code",
   "execution_count": 27,
   "metadata": {},
   "outputs": [
    {
     "data": {
      "text/plain": [
       "Departamento\n",
       "Electrónica    22\n",
       "Juguetes       22\n",
       "Ropa           20\n",
       "Alimentos      19\n",
       "Hogar          17\n",
       "Name: count, dtype: int64"
      ]
     },
     "execution_count": 27,
     "metadata": {},
     "output_type": "execute_result"
    }
   ],
   "source": [
    "ventas_df['Departamento'].value_counts()"
   ]
  },
  {
   "cell_type": "code",
   "execution_count": 29,
   "metadata": {},
   "outputs": [
    {
     "data": {
      "text/plain": [
       "Departamento    0\n",
       "Monto_Venta     0\n",
       "Fecha           0\n",
       "dtype: int64"
      ]
     },
     "execution_count": 29,
     "metadata": {},
     "output_type": "execute_result"
    }
   ],
   "source": [
    "ventas_df.isna().sum()"
   ]
  },
  {
   "cell_type": "markdown",
   "metadata": {},
   "source": [
    "## Día con más ventas de cada departamento"
   ]
  },
  {
   "cell_type": "code",
   "execution_count": 61,
   "metadata": {},
   "outputs": [
    {
     "name": "stdout",
     "output_type": "stream",
     "text": [
      "Departamento:  Alimentos\n",
      " Fecha de venta máximo: 2022-03-09\n",
      " Total de ventas máximas:  $4487 pesos\n",
      "Departamento:  Electrónica\n",
      " Fecha de venta máximo: 2022-01-22\n",
      " Total de ventas máximas:  $4803 pesos\n",
      "Departamento:  Juguetes\n",
      " Fecha de venta máximo: 2022-03-05\n",
      " Total de ventas máximas:  $4263 pesos\n",
      "Departamento:  Ropa\n",
      " Fecha de venta máximo: 2022-01-28\n",
      " Total de ventas máximas:  $4945 pesos\n",
      "Departamento:  Hogar\n",
      " Fecha de venta máximo: 2022-04-04\n",
      " Total de ventas máximas:  $4625 pesos\n"
     ]
    }
   ],
   "source": [
    "for departamento in ventas_df['Departamento'].unique():\n",
    "    print('Departamento: ', departamento)\n",
    "    # ventas_df.query(f'Departamento==\"{departamento}\"')\n",
    "    ventas_df_departamento = ventas_df[ventas_df['Departamento']==departamento]\n",
    "    ventas_df_departamento = ventas_df_departamento.set_index('Fecha')\n",
    "    print(' Fecha de venta máximo:' ,ventas_df_departamento['Monto_Venta'].idxmax())\n",
    "    print(' Total de ventas máximas: ',f'${ventas_df_departamento['Monto_Venta'].max()} pesos')\n",
    "    \n"
   ]
  },
  {
   "cell_type": "markdown",
   "metadata": {},
   "source": [
    "Queremos ver las ventas que fueron mayores a 1000. En esos días queremos tener más personal para atender o tener una recolección de dinero más pronta."
   ]
  },
  {
   "cell_type": "code",
   "execution_count": 65,
   "metadata": {},
   "outputs": [
    {
     "data": {
      "text/html": [
       "<div>\n",
       "<style scoped>\n",
       "    .dataframe tbody tr th:only-of-type {\n",
       "        vertical-align: middle;\n",
       "    }\n",
       "\n",
       "    .dataframe tbody tr th {\n",
       "        vertical-align: top;\n",
       "    }\n",
       "\n",
       "    .dataframe thead th {\n",
       "        text-align: right;\n",
       "    }\n",
       "</style>\n",
       "<table border=\"1\" class=\"dataframe\">\n",
       "  <thead>\n",
       "    <tr style=\"text-align: right;\">\n",
       "      <th></th>\n",
       "      <th>Departamento</th>\n",
       "      <th>Monto_Venta</th>\n",
       "      <th>Fecha</th>\n",
       "    </tr>\n",
       "  </thead>\n",
       "  <tbody>\n",
       "    <tr>\n",
       "      <th>1</th>\n",
       "      <td>Electrónica</td>\n",
       "      <td>4326</td>\n",
       "      <td>2022-01-02</td>\n",
       "    </tr>\n",
       "    <tr>\n",
       "      <th>10</th>\n",
       "      <td>Electrónica</td>\n",
       "      <td>1252</td>\n",
       "      <td>2022-01-11</td>\n",
       "    </tr>\n",
       "    <tr>\n",
       "      <th>14</th>\n",
       "      <td>Electrónica</td>\n",
       "      <td>2636</td>\n",
       "      <td>2022-01-15</td>\n",
       "    </tr>\n",
       "    <tr>\n",
       "      <th>21</th>\n",
       "      <td>Electrónica</td>\n",
       "      <td>4803</td>\n",
       "      <td>2022-01-22</td>\n",
       "    </tr>\n",
       "    <tr>\n",
       "      <th>23</th>\n",
       "      <td>Electrónica</td>\n",
       "      <td>1534</td>\n",
       "      <td>2022-01-24</td>\n",
       "    </tr>\n",
       "    <tr>\n",
       "      <th>26</th>\n",
       "      <td>Electrónica</td>\n",
       "      <td>3954</td>\n",
       "      <td>2022-01-27</td>\n",
       "    </tr>\n",
       "    <tr>\n",
       "      <th>31</th>\n",
       "      <td>Electrónica</td>\n",
       "      <td>3037</td>\n",
       "      <td>2022-02-01</td>\n",
       "    </tr>\n",
       "    <tr>\n",
       "      <th>35</th>\n",
       "      <td>Electrónica</td>\n",
       "      <td>2297</td>\n",
       "      <td>2022-02-05</td>\n",
       "    </tr>\n",
       "    <tr>\n",
       "      <th>43</th>\n",
       "      <td>Electrónica</td>\n",
       "      <td>2821</td>\n",
       "      <td>2022-02-13</td>\n",
       "    </tr>\n",
       "    <tr>\n",
       "      <th>44</th>\n",
       "      <td>Electrónica</td>\n",
       "      <td>1996</td>\n",
       "      <td>2022-02-14</td>\n",
       "    </tr>\n",
       "    <tr>\n",
       "      <th>46</th>\n",
       "      <td>Electrónica</td>\n",
       "      <td>2911</td>\n",
       "      <td>2022-02-16</td>\n",
       "    </tr>\n",
       "    <tr>\n",
       "      <th>53</th>\n",
       "      <td>Electrónica</td>\n",
       "      <td>2422</td>\n",
       "      <td>2022-02-23</td>\n",
       "    </tr>\n",
       "    <tr>\n",
       "      <th>76</th>\n",
       "      <td>Electrónica</td>\n",
       "      <td>1341</td>\n",
       "      <td>2022-03-18</td>\n",
       "    </tr>\n",
       "    <tr>\n",
       "      <th>80</th>\n",
       "      <td>Electrónica</td>\n",
       "      <td>1298</td>\n",
       "      <td>2022-03-22</td>\n",
       "    </tr>\n",
       "    <tr>\n",
       "      <th>84</th>\n",
       "      <td>Electrónica</td>\n",
       "      <td>3565</td>\n",
       "      <td>2022-03-26</td>\n",
       "    </tr>\n",
       "    <tr>\n",
       "      <th>85</th>\n",
       "      <td>Electrónica</td>\n",
       "      <td>2221</td>\n",
       "      <td>2022-03-27</td>\n",
       "    </tr>\n",
       "    <tr>\n",
       "      <th>90</th>\n",
       "      <td>Electrónica</td>\n",
       "      <td>1923</td>\n",
       "      <td>2022-04-01</td>\n",
       "    </tr>\n",
       "    <tr>\n",
       "      <th>96</th>\n",
       "      <td>Electrónica</td>\n",
       "      <td>2489</td>\n",
       "      <td>2022-04-07</td>\n",
       "    </tr>\n",
       "  </tbody>\n",
       "</table>\n",
       "</div>"
      ],
      "text/plain": [
       "   Departamento  Monto_Venta       Fecha\n",
       "1   Electrónica         4326  2022-01-02\n",
       "10  Electrónica         1252  2022-01-11\n",
       "14  Electrónica         2636  2022-01-15\n",
       "21  Electrónica         4803  2022-01-22\n",
       "23  Electrónica         1534  2022-01-24\n",
       "26  Electrónica         3954  2022-01-27\n",
       "31  Electrónica         3037  2022-02-01\n",
       "35  Electrónica         2297  2022-02-05\n",
       "43  Electrónica         2821  2022-02-13\n",
       "44  Electrónica         1996  2022-02-14\n",
       "46  Electrónica         2911  2022-02-16\n",
       "53  Electrónica         2422  2022-02-23\n",
       "76  Electrónica         1341  2022-03-18\n",
       "80  Electrónica         1298  2022-03-22\n",
       "84  Electrónica         3565  2022-03-26\n",
       "85  Electrónica         2221  2022-03-27\n",
       "90  Electrónica         1923  2022-04-01\n",
       "96  Electrónica         2489  2022-04-07"
      ]
     },
     "execution_count": 65,
     "metadata": {},
     "output_type": "execute_result"
    }
   ],
   "source": [
    "mask = (ventas_df['Departamento'] == \"Electrónica\") & (ventas_df['Monto_Venta'] > 1000)\n",
    "ventas_altas_electronica = ventas_df[mask]\n",
    "ventas_altas_electronica"
   ]
  },
  {
   "cell_type": "markdown",
   "metadata": {},
   "source": [
    "Este análisis se puede continuar para encontrar respuestas a la mayoría de las preguntas que uno se podría hacer del conjunto de datos."
   ]
  }
 ],
 "metadata": {
  "kernelspec": {
   "display_name": "Python 3",
   "language": "python",
   "name": "python3"
  },
  "language_info": {
   "codemirror_mode": {
    "name": "ipython",
    "version": 3
   },
   "file_extension": ".py",
   "mimetype": "text/x-python",
   "name": "python",
   "nbconvert_exporter": "python",
   "pygments_lexer": "ipython3",
   "version": "3.12.1"
  }
 },
 "nbformat": 4,
 "nbformat_minor": 2
}
