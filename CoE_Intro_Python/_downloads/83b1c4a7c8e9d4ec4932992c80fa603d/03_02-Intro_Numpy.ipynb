{
 "cells": [
  {
   "cell_type": "markdown",
   "metadata": {},
   "source": [
    "# Introducción a numpy."
   ]
  },
  {
   "cell_type": "markdown",
   "metadata": {},
   "source": [
    "\n",
    "```{image} ../imgs/numpy_logo.png\n",
    ":alt: numpy_logo\n",
    ":width: 500px\n",
    ":align: center\n",
    "```\n",
    "\n",
    "En el [cuaderno anterior](./03_01-Librerias_Requerimientos_Git.ipynb) hablamos brevemente de la librería de numpy. En este cuaderno exploraremos más a detalle su uso.\n",
    "\n",
    "{download}`Descarga este archivo <./03_02-Intro_Numpy.ipynb>`.\n",
    "\n",
    "\n",
    "```{contents}\n",
    ":local:\n",
    "```"
   ]
  },
  {
   "cell_type": "code",
   "execution_count": 4,
   "metadata": {},
   "outputs": [],
   "source": [
    "import numpy as np"
   ]
  },
  {
   "cell_type": "markdown",
   "metadata": {},
   "source": [
    "## Creación de arrays (arreglos)\n",
    "Creamos un array unidimensional utilizando la función `np.array()`:"
   ]
  },
  {
   "cell_type": "code",
   "execution_count": 5,
   "metadata": {},
   "outputs": [
    {
     "name": "stdout",
     "output_type": "stream",
     "text": [
      "Arreglo original: [1 2 3 4 5]\n",
      "Arreglo después de multiplicar por 2: [ 2  4  6  8 10]\n",
      "Suma del arreglo consigo mismo: [ 2  4  6  8 10]\n"
     ]
    }
   ],
   "source": [
    "\n",
    "# Creación de un arreglo\n",
    "arr = np.array([1, 2, 3, 4, 5])\n",
    "print(\"Arreglo original:\", arr)\n",
    "\n",
    "# Multiplicación por un escalar\n",
    "arr_escalar = arr * 2\n",
    "print(\"Arreglo después de multiplicar por 2:\", arr_escalar)\n",
    "\n",
    "# Suma de arreglos\n",
    "arr_suma = arr + arr\n",
    "print(\"Suma del arreglo consigo mismo:\", arr_suma)\n"
   ]
  },
  {
   "cell_type": "markdown",
   "metadata": {},
   "source": [
    "Un ejemplo común son las imágenes, que se pueden representar como arreglos"
   ]
  },
  {
   "cell_type": "code",
   "execution_count": 6,
   "metadata": {},
   "outputs": [
    {
     "data": {
      "text/plain": [
       "array([[[195, 176,  12, 217,   8],\n",
       "        [210, 252,  99,  14, 151],\n",
       "        [234, 225, 198, 240, 121],\n",
       "        [ 86, 217, 152, 235,  47],\n",
       "        [ 56,  27,  88,  28,  82]],\n",
       "\n",
       "       [[236, 120, 167,  49,  57],\n",
       "        [120,  27, 232, 106, 245],\n",
       "        [ 68,   8, 164, 225,  58],\n",
       "        [120,  14,  14, 225, 227],\n",
       "        [ 40, 156,  23, 155, 114]],\n",
       "\n",
       "       [[253, 150, 125, 238, 201],\n",
       "        [ 14, 234, 109, 147,  72],\n",
       "        [ 14,  95, 219,  20,   7],\n",
       "        [ 29, 135,  16,  30,  75],\n",
       "        [250, 231, 179,  23, 242]]])"
      ]
     },
     "execution_count": 6,
     "metadata": {},
     "output_type": "execute_result"
    }
   ],
   "source": [
    "# Creación de números aleatorios\n",
    "np.random.randint(0, 255, (3, 5, 5))"
   ]
  },
  {
   "cell_type": "markdown",
   "metadata": {},
   "source": [
    "## Multiplicación de matrices y vectores\n",
    "\n",
    "NumPy facilita la realización de operaciones lineales como la multiplicación de matrices y vectores. Veamos cómo realizar estas operaciones utilizando la función `dot` para el producto punto.\n",
    "\n",
    "\n",
    "Aquí hay un GIF que representa visualmente la multiplicación de arrays:\n",
    "\n",
    "<!-- \n",
    "\n",
    "<p align=\"center\">\n",
    "  <img src=\"https://miro.medium.com/v2/resize:fit:1200/0*NACYO5_4KyxEZvOF.gif\" alt=\"NumPy GIF\">\n",
    "</p> -->\n",
    "\n",
    "\n",
    "```{image} ./dot_matriz.gif\n",
    ":alt: dot\n",
    ":width: 400px\n",
    ":align: center\n",
    "```"
   ]
  },
  {
   "cell_type": "code",
   "execution_count": 7,
   "metadata": {},
   "outputs": [
    {
     "name": "stdout",
     "output_type": "stream",
     "text": [
      "Producto matricial de A y B:\n",
      " [[19 22]\n",
      " [43 50]]\n",
      "Producto punto de v1 y v2: 11\n"
     ]
    }
   ],
   "source": [
    "# Creación de dos matrices\n",
    "A = np.array([[1, 2], [3, 4]])\n",
    "B = np.array([[5, 6], [7, 8]])\n",
    "\n",
    "# Multiplicación de matrices\n",
    "producto_matricial = np.dot(A, B)\n",
    "print(\"Producto matricial de A y B:\\n\", producto_matricial)\n",
    "\n",
    "\n",
    "#Para el producto punto de dos vectores, utilizamos la función dot() de NumPy:\n",
    "\n",
    "# Creación de dos vectores\n",
    "v1 = np.array([1, 2])\n",
    "v2 = np.array([3, 4])\n",
    "\n",
    "# Producto punto de vectores\n",
    "producto_punto = np.dot(v1, v2)\n",
    "print(\"Producto punto de v1 y v2:\", producto_punto)\n"
   ]
  },
  {
   "cell_type": "markdown",
   "metadata": {},
   "source": [
    "## Cambios de forma y la forma de los arreglos\n",
    "\n",
    "La forma de un arreglo es una tupla de enteros que indica el tamaño del arreglo en cada dimensión. NumPy ofrece varias maneras de cambiar la forma de los arreglos sin cambiar su contenido. Esto es especialmente útil para preparar datos para operaciones específicas.\n"
   ]
  },
  {
   "cell_type": "code",
   "execution_count": 8,
   "metadata": {},
   "outputs": [
    {
     "name": "stdout",
     "output_type": "stream",
     "text": [
      "Arreglo original: [0 1 2 3 4 5 6 7 8]\n",
      "Arreglo después del cambio de forma a 3x3:\n",
      " [[0 1 2]\n",
      " [3 4 5]\n",
      " [6 7 8]]\n",
      "Forma del arreglo reconfigurado: (3, 3)\n"
     ]
    }
   ],
   "source": [
    "# Creación de un arreglo de 9 elementos\n",
    "arr = np.arange(9)\n",
    "print(\"Arreglo original:\", arr)\n",
    "\n",
    "# Cambio de forma a una matriz 3x3\n",
    "arr_reshaped = arr.reshape((3, 3))\n",
    "print(\"Arreglo después del cambio de forma a 3x3:\\n\", arr_reshaped)\n",
    "\n",
    "# Obtención de la forma de un arreglo\n",
    "print(\"Forma del arreglo reconfigurado:\", arr_reshaped.shape)\n"
   ]
  },
  {
   "cell_type": "markdown",
   "metadata": {},
   "source": [
    "## Operaciones permitidas\n",
    "\n",
    "Gracias a la flexibilidad de NumPy, podemos realizar una amplia gama de operaciones matemáticas y lógicas sobre arreglos. Esto incluye, pero no se limita a, adiciones, sustracciones, multiplicaciones y divisiones elemento a elemento, así como aplicaciones de funciones universales (ufuncs) para operaciones más complejas.\n"
   ]
  },
  {
   "cell_type": "code",
   "execution_count": 9,
   "metadata": {},
   "outputs": [],
   "source": [
    "# Operaciones elemento a elemento\n",
    "arr1 = np.array([10, 30, 40])\n",
    "arr2 = np.array([1, 2, 3])"
   ]
  },
  {
   "cell_type": "code",
   "execution_count": 10,
   "metadata": {},
   "outputs": [
    {
     "name": "stdout",
     "output_type": "stream",
     "text": [
      "Suma elemento a elemento: [11 32 43]\n",
      "Resta elemento a elemento: [ 9 28 37]\n",
      "Multiplicación elemento a elemento: [ 10  60 120]\n",
      "División elemento a elemento: [10.         15.         13.33333333]\n",
      "Raíz cuadrada de arr1: [3.16227766 5.47722558 6.32455532]\n"
     ]
    }
   ],
   "source": [
    "\n",
    "suma = arr1 + arr2\n",
    "print(\"Suma elemento a elemento:\", suma)\n",
    "\n",
    "# Resta\n",
    "resta = arr1 - arr2\n",
    "print(\"Resta elemento a elemento:\", resta)\n",
    "\n",
    "# Multiplicación\n",
    "multiplicacion = arr1 * arr2\n",
    "print(\"Multiplicación elemento a elemento:\", multiplicacion)\n",
    "\n",
    "# División\n",
    "division = arr1 / arr2\n",
    "print(\"División elemento a elemento:\", division)\n",
    "\n",
    "# Aplicación de una función universal (ufunc)\n",
    "raiz_cuadrada = np.sqrt(arr1)\n",
    "print(\"Raíz cuadrada de arr1:\", raiz_cuadrada)"
   ]
  },
  {
   "cell_type": "markdown",
   "metadata": {},
   "source": [
    "## Métodos más usados\n",
    "\n",
    "Presentamos los métodos más utilizados en numpy"
   ]
  },
  {
   "cell_type": "code",
   "execution_count": 11,
   "metadata": {},
   "outputs": [
    {
     "data": {
      "text/plain": [
       "(array([2, 3], dtype=int64),)"
      ]
     },
     "execution_count": 11,
     "metadata": {},
     "output_type": "execute_result"
    }
   ],
   "source": [
    "x = np.array([1,3,2,2,5,5,5])\n",
    "\n",
    "# Suma de los elementos de x\n",
    "np.sum(x)\n",
    "# Valor máximo de x\n",
    "np.max(x)\n",
    "# Valor mínimo de x\n",
    "np.min(x)\n",
    "# Indice donde se encuentra el valor 2 en x\n",
    "np.where(x==2)"
   ]
  },
  {
   "cell_type": "code",
   "execution_count": 4,
   "metadata": {},
   "outputs": [
    {
     "name": "stdout",
     "output_type": "stream",
     "text": [
      "[0. 0. 0. 0. 0.]\n",
      "[[0. 0. 0.]\n",
      " [0. 0. 0.]]\n",
      "[1. 1. 1. 1. 1.]\n",
      "[[1. 1. 1.]\n",
      " [1. 1. 1.]]\n",
      "[1 2 3 4 5 6 7]\n",
      "[0.         0.11111111 0.22222222 0.33333333 0.44444444 0.55555556\n",
      " 0.66666667 0.77777778 0.88888889 1.        ]\n",
      "[5 5 5 5 5 5 5 5 5 5]\n"
     ]
    }
   ],
   "source": [
    "print(np.zeros(5))\n",
    "print(np.zeros((2, 3)))\n",
    "print(np.ones(5))\n",
    "print(np.ones((2, 3)))\n",
    "\n",
    "print(np.arange(1,8,1))\n",
    "print(np.linspace(0,1,10))\n",
    "print(np.repeat(5,10))\n"
   ]
  },
  {
   "cell_type": "code",
   "execution_count": 7,
   "metadata": {},
   "outputs": [
    {
     "data": {
      "text/plain": [
       "array([108, 178, 125, 143, 116, 181, 148])"
      ]
     },
     "execution_count": 7,
     "metadata": {},
     "output_type": "execute_result"
    }
   ],
   "source": [
    "# generar muchos números al azar\n",
    "np.random.randint(100, 200, size=7)"
   ]
  }
 ],
 "metadata": {
  "kernelspec": {
   "display_name": "Python 3",
   "language": "python",
   "name": "python3"
  },
  "language_info": {
   "codemirror_mode": {
    "name": "ipython",
    "version": 3
   },
   "file_extension": ".py",
   "mimetype": "text/x-python",
   "name": "python",
   "nbconvert_exporter": "python",
   "pygments_lexer": "ipython3",
   "version": "3.10.0"
  },
  "orig_nbformat": 4
 },
 "nbformat": 4,
 "nbformat_minor": 2
}
