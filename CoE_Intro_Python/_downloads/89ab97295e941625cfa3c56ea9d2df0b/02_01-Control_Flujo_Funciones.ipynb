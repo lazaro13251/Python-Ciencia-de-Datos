{
 "cells": [
  {
   "cell_type": "markdown",
   "metadata": {},
   "source": [
    "# Control de flujo y funciones."
   ]
  },
  {
   "cell_type": "markdown",
   "metadata": {},
   "source": [
    "\n",
    "{download}`Descarga de este cuaderno. <./02_01-Control_Flujo_Funciones.ipynb>`.\n",
    "\n",
    "\n",
    "El control de flujo en Python permite a los desarrolladores ejecutar ciertos bloques de código dependiendo de condiciones específicas o repetir una acción múltiples veces. Los principales elementos del control de flujo son los condicionales y los bucles, que se complementan con la definición de funciones para organizar y reutilizar código.\n",
    "\n",
    "```{contents}\n",
    ":local:\n",
    "```"
   ]
  },
  {
   "cell_type": "markdown",
   "metadata": {},
   "source": [
    "## Condicionales\n"
   ]
  },
  {
   "cell_type": "markdown",
   "metadata": {},
   "source": [
    "\n",
    "Los condicionales permiten ejecutar diferentes bloques de código dependiendo de si una condición es verdadera o falsa. Python utiliza `if`, `elif` y `else` para manejar estas estructuras condicionales."
   ]
  },
  {
   "cell_type": "code",
   "execution_count": 7,
   "metadata": {},
   "outputs": [
    {
     "name": "stdout",
     "output_type": "stream",
     "text": [
      "False\n",
      "False\n",
      "True\n",
      "True\n"
     ]
    }
   ],
   "source": [
    "int_1 = 1\n",
    "int_2 = 2\n",
    "lista_ej = [1, 2, 3]\n",
    "\n",
    "# Todas las siguientes comparaciones regresan booleanos\n",
    "print(int_2 == int_1)  # Doble signo de igual\n",
    "print(int_2 < int_1)\n",
    "print(int_2 > int_1)\n",
    "print(2 in lista_ej)"
   ]
  },
  {
   "cell_type": "code",
   "execution_count": 8,
   "metadata": {
    "tags": [
     "hide-output"
    ]
   },
   "outputs": [
    {
     "name": "stdout",
     "output_type": "stream",
     "text": [
      "mayor\n"
     ]
    }
   ],
   "source": [
    "if int_2 == int_1:\n",
    "    print(\"igual\")\n",
    "elif int_2 < int_1: #else if\n",
    "    print(\"menor\")\n",
    "else:\n",
    "    print(\"mayor\")"
   ]
  },
  {
   "cell_type": "markdown",
   "metadata": {},
   "source": [
    "## Bucles (Loops)\n",
    "\n",
    "Los bucles permiten ejecutar un bloque de código múltiples veces. Python proporciona principalmente dos tipos de bucles: `for` y `while`."
   ]
  },
  {
   "cell_type": "code",
   "execution_count": 9,
   "metadata": {},
   "outputs": [
    {
     "name": "stdout",
     "output_type": "stream",
     "text": [
      "foo\n",
      "bar\n",
      "bar\n"
     ]
    }
   ],
   "source": [
    "for i in [1, 2, 3]:\n",
    "    if i < 2:\n",
    "        print(\"foo\")\n",
    "    else:\n",
    "        print(\"bar\")"
   ]
  },
  {
   "cell_type": "markdown",
   "metadata": {},
   "source": [
    "Veamos otro ejemplo:"
   ]
  },
  {
   "cell_type": "code",
   "execution_count": 10,
   "metadata": {},
   "outputs": [
    {
     "name": "stdout",
     "output_type": "stream",
     "text": [
      "Valor de i: 0\n",
      "Valor de i: 1\n",
      "Valor de i: 2\n",
      "Valor de i: 3\n",
      "Valor de i: 4\n"
     ]
    }
   ],
   "source": [
    "i = 0\n",
    "while i < 5:\n",
    "    print(f\"Valor de i: {i}\")\n",
    "    i += 1"
   ]
  },
  {
   "cell_type": "markdown",
   "metadata": {},
   "source": [
    "## Funciones\n"
   ]
  },
  {
   "cell_type": "markdown",
   "metadata": {},
   "source": [
    "Las funciones son bloques de código que se definen una vez y se pueden ejecutar múltiples veces, incluso con diferentes argumentos. Permiten modularizar y reutilizar el código eficientemente.\n",
    "\n",
    "A continuación, definimos una función que compara números."
   ]
  },
  {
   "cell_type": "code",
   "execution_count": 11,
   "metadata": {},
   "outputs": [],
   "source": [
    "def tricotomia(int_1, int_2=0):\n",
    "    '''\n",
    "    Esta función toma 2 argumentos y nos regresa si int_1 es igual, menor o mayor a int_2 \n",
    "    int_1: primer entero a ser comparado,\n",
    "    int_2: segundo entero a ser comparado,\n",
    "    Regresa: 0,-1,1\n",
    "    '''\n",
    "    if int_2 == int_1:\n",
    "        print(\"igual\")\n",
    "        return 0\n",
    "    elif int_2 < int_1:\n",
    "        print(\"menor\")\n",
    "        return -1\n",
    "    else:\n",
    "        print(\"mayor\")\n",
    "        return 1"
   ]
  },
  {
   "cell_type": "code",
   "execution_count": 12,
   "metadata": {},
   "outputs": [
    {
     "name": "stdout",
     "output_type": "stream",
     "text": [
      "La variable tricotomia almacena el valor <function tricotomia at 0x0000000005A75440> y pertenece a la clase <class 'function'>\n",
      "mayor\n",
      "El resultado de llamar la función es 1\n",
      "menor\n",
      "El resultado de llamar la función con valor por defecto es -1\n"
     ]
    }
   ],
   "source": [
    "print('La variable tricotomia almacena el valor', tricotomia, 'y pertenece a la clase', type(tricotomia))\n",
    " \n",
    "resultado_funcion = tricotomia(int_1, int_2)\n",
    "\n",
    "print(f\"El resultado de llamar la función es {resultado_funcion}\")\n",
    "\n",
    "# Reasignamos la variable resultado_función a un nuevo valor\n",
    "resultado_funcion = tricotomia(int_1)\n",
    "print(f\"El resultado de llamar la función con valor por defecto es {resultado_funcion}\")"
   ]
  },
  {
   "cell_type": "markdown",
   "metadata": {},
   "source": [
    "Detallaremos cada una de las líneas de código de la función comenzando con la manera de definir la función.\n",
    "\n",
    "```py\n",
    "def tricotomia(int_1, int_2=0):\n",
    "```\n",
    "\n",
    "- `def` es la palabra que inicia la declaración de la función.\n",
    "- `tricotomia` es el nombre de la función. Aunque en español la palabra tricotomía lleva tilde, no se recomienda ponerla en los nombres de variables.\n",
    "- Entre paréntesis se encuentran los argumentfdos de la función:\n",
    "    - `int_1` es el primer argumento.\n",
    "    - `int_2` es el segundo y como está igualado a 0, al ser llamada la función si el usuario no lo especifica tomará este **valor por defecto**.\n",
    "\n",
    "```py\n",
    "'''\n",
    "    Esta función toma 2 argumentos y nos regresa si es igual, menor o mayor\n",
    "    int_1: primer entero a ser comparado,\n",
    "    int_2: segundo entero a ser comparado,\n",
    "    Regresa: 0,-1,1\n",
    "'''\n",
    "```\n",
    "Se le conoce como docstring, es de mucha utilidad porque es muy difícil recordar la convención de ciertas funciones que no son simétricas. Cuáles son los valores que toman por defecto, etc. Cuando pedimos información sobre una función o cuando ponemos el mouse encima recibimos esta información.\n",
    "\n",
    "```py\n",
    "if int_2 == int_1:\n",
    "        print(\"igual\")\n",
    "        return 0\n",
    "elif int_2 < int_1:\n",
    "    print(\"menor\")\n",
    "    return -1\n",
    "else:\n",
    "    print(\"mayor\")\n",
    "    return 1\n",
    "```\n",
    "Esto es el cuerpo de la función. La palabra `return` nos dice que este será el valor regresado por la función. Este valor lo podemos almacenar en una variable o hacer cualquier cosa que necesitemos. Si no se especifica se regresa `None`."
   ]
  }
 ],
 "metadata": {
  "kernelspec": {
   "display_name": "Python 3",
   "language": "python",
   "name": "python3"
  },
  "language_info": {
   "codemirror_mode": {
    "name": "ipython",
    "version": 3
   },
   "file_extension": ".py",
   "mimetype": "text/x-python",
   "name": "python",
   "nbconvert_exporter": "python",
   "pygments_lexer": "ipython3",
   "version": "3.12.1"
  }
 },
 "nbformat": 4,
 "nbformat_minor": 2
}
